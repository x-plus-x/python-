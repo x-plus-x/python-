{
 "metadata": {
  "language_info": {
   "codemirror_mode": {
    "name": "ipython",
    "version": 3
   },
   "file_extension": ".py",
   "mimetype": "text/x-python",
   "name": "python",
   "nbconvert_exporter": "python",
   "pygments_lexer": "ipython3",
   "version": "3.7.4-final"
  },
  "orig_nbformat": 2,
  "kernelspec": {
   "name": "python3",
   "display_name": "Python 3.7.4 64-bit",
   "metadata": {
    "interpreter": {
     "hash": "a20962ab0bdd4a5be55dd7f3746e71b78cc04582d90385c1a70284013e0cd86d"
    }
   }
  }
 },
 "nbformat": 4,
 "nbformat_minor": 2,
 "cells": [
  {
   "cell_type": "code",
   "execution_count": null,
   "metadata": {},
   "outputs": [],
   "source": [
    "import numpy as np\n",
    "import pandas as pd\n",
    "import matplotlib.pyplot as plt\n"
   ]
  },
  {
   "cell_type": "code",
   "execution_count": null,
   "metadata": {},
   "outputs": [],
   "source": [
    "path = r'D:\\Plus\\PYTHON\\吴恩达练习\\data_sets\\ex2data1.txt'\n",
    "data = pd.read_csv(path,header = None,names = ['Exam 1','Exam 2','Admitted'])\n",
    "data.head()"
   ]
  },
  {
   "cell_type": "code",
   "execution_count": null,
   "metadata": {},
   "outputs": [],
   "source": [
    "positive = data[data['Admitted'].isin([1])] #选取data中ad为1的行  isin\n",
    "negative = data[data['Admitted'].isin([0])] #选取data中ad为0的行\n",
    "\n",
    "fig,ax = plt.subplots(figsize = (12,8))\n",
    "ax.scatter(positive['Exam 1'],positive['Exam 2'],s = 50,c = 'b',marker = 'o',label = 'Admitted') #选取ad = 1 的点\n",
    "ax.scatter(negative['Exam 1'],negative['Exam 2'],s = 50,c = 'r',marker = 'x',label = 'Not Admitted')\n",
    "ax.legend()\n",
    "ax.set_xlabel('Exam 1 Score')\n",
    "ax.set_ylabel('Exam 2 Score')\n",
    "plt.show()\n"
   ]
  },
  {
   "cell_type": "code",
   "execution_count": null,
   "metadata": {},
   "outputs": [],
   "source": [
    "positive.head()"
   ]
  },
  {
   "cell_type": "code",
   "execution_count": null,
   "metadata": {},
   "outputs": [],
   "source": [
    "#实现sigmoid函数 \n",
    "def sigmoid(z):\n",
    "    return 1/(1+np.exp(-z))"
   ]
  },
  {
   "cell_type": "code",
   "execution_count": null,
   "metadata": {},
   "outputs": [],
   "source": [
    "# 实现代价函数\n",
    "def cost(theta, X, y):\n",
    "    theta = np.matrix(theta)\n",
    "    X = np.matrix(X)\n",
    "    y = np.matrix(y)\n",
    "    first = np.multiply(-y, np.log(sigmoid(X.dot(theta.T))))\n",
    "    second = np.multiply((1 - y), np.log(1 - sigmoid(X.dot(theta.T))))\n",
    "    return np.sum(first - second) / (len(X))"
   ]
  },
  {
   "cell_type": "code",
   "execution_count": null,
   "metadata": {},
   "outputs": [],
   "source": [
    "#初始化X,y, Theta\n",
    "#添加一列常数列，用于theta0\n",
    "data.insert(0,'Ones',1)\n",
    "#初始化X，y，theta\n",
    "cols = data.shape[1]#获得列数\n",
    "X = data.iloc[:,:cols-1]\n",
    "y = data.iloc[:,cols-1:cols]"
   ]
  },
  {
   "cell_type": "code",
   "execution_count": null,
   "metadata": {},
   "outputs": [],
   "source": [
    "Theta = np.zeros(3)  #初始化Theta \n",
    "X = np.array(X.values)\n",
    "y = np.array(y.Values)"
   ]
  },
  {
   "cell_type": "code",
   "execution_count": null,
   "metadata": {},
   "outputs": [],
   "source": [
    "X.shape,y.shape,Theta.shape"
   ]
  },
  {
   "cell_type": "code",
   "execution_count": null,
   "metadata": {},
   "outputs": [],
   "source": [
    "#计算初始的cost\n",
    "cost(Theta,X,y)"
   ]
  },
  {
   "cell_type": "code",
   "execution_count": null,
   "metadata": {},
   "outputs": [],
   "source": [
    "# 实现梯度计算的函数(并没有更新theta)\n",
    "def gradient(theta,X,y):\n",
    "    theta = np.matrix(theta)\n",
    "    X = np.matrix(X)\n",
    "    y = np.matrix(y)\n",
    "\n",
    "    parameters = int(theta.ravel().shape[1])\n",
    "    grad = np.zeros(parameters)\n",
    "\n",
    "    error = sigmoid(X.dot(theta.T))-y\n",
    "\n",
    "    for i in range(parameters):\n",
    "        term = np.multiply(error,X[:,i])\n",
    "        grad[i] = np.sum(term)/len(X)\n",
    "\n",
    "    return grad\n"
   ]
  },
  {
   "cell_type": "code",
   "execution_count": null,
   "metadata": {},
   "outputs": [],
   "source": [
    "import scipy.optimize as opt\n",
    "result = opt.fmin_tnc(func=cost, x0=Theta, fprime=gradient, args=(X, y))\n",
    "result"
   ]
  },
  {
   "cell_type": "code",
   "execution_count": null,
   "metadata": {},
   "outputs": [],
   "source": [
    "cost(result[0], X, y)"
   ]
  },
  {
   "cell_type": "code",
   "execution_count": null,
   "metadata": {},
   "outputs": [],
   "source": [
    "#实现梯度\n",
    "def gradient(theta, X, y):\n",
    "    theta = np.matrix(theta)\n",
    "    X = np.matrix(X)\n",
    "    y = np.matrix(y)\n",
    "    \n",
    "    parameters = int(theta.ravel().shape[1])\n",
    "    grad = np.zeros(parameters)\n",
    "    \n",
    "    error = sigmoid(X.dot(theta.T)) - y\n",
    "    \n",
    "    for i in range(parameters):\n",
    "        term = np.multiply(error, X[:,i])\n",
    "        grad[i] = np.sum(term) / len(X)\n",
    "    \n",
    "    return grad"
   ]
  },
  {
   "cell_type": "code",
   "execution_count": null,
   "metadata": {},
   "outputs": [],
   "source": [
    "import scipy.optimize as opt\n",
    "result = opt.fmin_tnc(func=cost, x0=Theta, fprime=gradient, args=(X, y))\n",
    "'''\n",
    "func是要最小化的函数\n",
    "x0是最小化函数的自变量\n",
    "fprime是最小化的方法\n",
    "args是func的除theta外的\n",
    "'''\n",
    "result"
   ]
  },
  {
   "cell_type": "code",
   "execution_count": null,
   "metadata": {},
   "outputs": [],
   "source": [
    "cost(result[0],X,y) #带入最优Theta进行验证"
   ]
  },
  {
   "cell_type": "code",
   "execution_count": null,
   "metadata": {},
   "outputs": [],
   "source": [
    "#画出决策边界\n",
    "plotting_x1 = np.linspace(30,100,100) #取点 从30到100 取100个点画出线\n",
    "plotting_h1 = (-result[0][0] - result[0][1] * plotting_x1)/result[0][2]\n",
    "\n",
    "fig,ax = plt.subplots(figsize = (12,8))\n",
    "ax.plot(plotting_x1,plotting_h1,c = 'y',label = 'Prediction') #  画线 \n",
    "\n",
    "ax.scatter(positive['Exam 1'], positive['Exam 2'], s=50, c='b', marker='o', label='Admitted')\n",
    "ax.scatter(negative['Exam 1'], negative['Exam 2'], s=50, c='r', marker='x', label='Not Admitted')\n",
    "ax.legend()\n",
    "ax.set_xlabel('Exam 1 Score')\n",
    "ax.set_ylabel('Exam 2 Score')\n",
    "plt.show()\n",
    "\n",
    "\n"
   ]
  },
  {
   "cell_type": "code",
   "execution_count": null,
   "metadata": {},
   "outputs": [],
   "source": [
    "def hfunc1(theta,X):\n",
    "    return sigmoid(np.dot(X,theta.T)) #预测能否通过\n",
    "hfunc1(result[0],[1,45,85])"
   ]
  },
  {
   "cell_type": "code",
   "execution_count": 152,
   "metadata": {},
   "outputs": [
    {
     "output_type": "error",
     "ename": "AttributeError",
     "evalue": "'numpy.ndarray' object has no attribute 'iloc'",
     "traceback": [
      "\u001b[1;31m---------------------------------------------------------------------------\u001b[0m",
      "\u001b[1;31mAttributeError\u001b[0m                            Traceback (most recent call last)",
      "\u001b[1;32m<ipython-input-152-2f79d78fee7b>\u001b[0m in \u001b[0;36m<module>\u001b[1;34m\u001b[0m\n\u001b[0;32m      5\u001b[0m \u001b[0mpredictions\u001b[0m \u001b[1;33m=\u001b[0m \u001b[0mPredict\u001b[0m\u001b[1;33m(\u001b[0m\u001b[0mtheta_min\u001b[0m\u001b[1;33m,\u001b[0m\u001b[0mX\u001b[0m\u001b[1;33m)\u001b[0m\u001b[1;33m\u001b[0m\u001b[1;33m\u001b[0m\u001b[0m\n\u001b[0;32m      6\u001b[0m \u001b[1;31m#predictions 得到一个预测结果的数组\u001b[0m\u001b[1;33m\u001b[0m\u001b[1;33m\u001b[0m\u001b[1;33m\u001b[0m\u001b[0m\n\u001b[1;32m----> 7\u001b[1;33m \u001b[0mcorrect\u001b[0m \u001b[1;33m=\u001b[0m \u001b[1;33m[\u001b[0m\u001b[1;36m1\u001b[0m \u001b[1;32mif\u001b[0m \u001b[1;33m(\u001b[0m\u001b[1;33m(\u001b[0m\u001b[0ma\u001b[0m \u001b[1;33m==\u001b[0m \u001b[1;36m1\u001b[0m \u001b[1;32mand\u001b[0m \u001b[0mb\u001b[0m \u001b[1;33m==\u001b[0m \u001b[1;36m1\u001b[0m\u001b[1;33m)\u001b[0m \u001b[1;32mor\u001b[0m \u001b[1;33m(\u001b[0m\u001b[0ma\u001b[0m \u001b[1;33m==\u001b[0m \u001b[1;36m0\u001b[0m \u001b[1;32mand\u001b[0m \u001b[0mb\u001b[0m \u001b[1;33m==\u001b[0m \u001b[1;36m0\u001b[0m\u001b[1;33m)\u001b[0m\u001b[1;33m)\u001b[0m \u001b[1;32melse\u001b[0m \u001b[1;36m0\u001b[0m \u001b[1;32mfor\u001b[0m \u001b[1;33m(\u001b[0m\u001b[0ma\u001b[0m\u001b[1;33m,\u001b[0m \u001b[0mb\u001b[0m\u001b[1;33m)\u001b[0m \u001b[1;32min\u001b[0m \u001b[0mzip\u001b[0m\u001b[1;33m(\u001b[0m\u001b[0mpredictions\u001b[0m\u001b[1;33m,\u001b[0m \u001b[0my\u001b[0m\u001b[1;33m.\u001b[0m\u001b[0miloc\u001b[0m\u001b[1;33m[\u001b[0m\u001b[1;33m:\u001b[0m\u001b[1;33m,\u001b[0m\u001b[1;36m0\u001b[0m\u001b[1;33m]\u001b[0m\u001b[1;33m)\u001b[0m\u001b[1;33m]\u001b[0m\u001b[1;33m\u001b[0m\u001b[1;33m\u001b[0m\u001b[0m\n\u001b[0m\u001b[0;32m      8\u001b[0m \u001b[1;31m#zip 将两个列表打包为元组的列表 并且是相同位置一一对应\u001b[0m\u001b[1;33m\u001b[0m\u001b[1;33m\u001b[0m\u001b[1;33m\u001b[0m\u001b[0m\n\u001b[0;32m      9\u001b[0m \u001b[0maccuracy\u001b[0m \u001b[1;33m=\u001b[0m \u001b[1;33m(\u001b[0m\u001b[0msum\u001b[0m\u001b[1;33m(\u001b[0m\u001b[0mmap\u001b[0m\u001b[1;33m(\u001b[0m\u001b[0mint\u001b[0m\u001b[1;33m,\u001b[0m \u001b[0mcorrect\u001b[0m\u001b[1;33m)\u001b[0m\u001b[1;33m)\u001b[0m \u001b[1;33m%\u001b[0m \u001b[0mlen\u001b[0m\u001b[1;33m(\u001b[0m\u001b[0mcorrect\u001b[0m\u001b[1;33m)\u001b[0m\u001b[1;33m)\u001b[0m \u001b[1;31m#map是把函数func依次映射到序列或迭代器上的每个元素上进行运算 这里不用map直接sum(correct)也可以 返回列表的和\u001b[0m\u001b[1;33m\u001b[0m\u001b[1;33m\u001b[0m\u001b[0m\n",
      "\u001b[1;31mAttributeError\u001b[0m: 'numpy.ndarray' object has no attribute 'iloc'"
     ]
    }
   ],
   "source": [
    "def Predict(theta,X):\n",
    "    probability = sigmoid(np.dot(X,theta.T))\n",
    "    return [1 if x >= 0.5 else 0 for x in probability] \n",
    "theta_min = np.matrix(result[0])\n",
    "predictions = Predict(theta_min,X)\n",
    "#predictions 得到一个预测结果的数组\n",
    "correct = [1 if ((a == 1 and b == 1) or (a == 0 and b == 0)) else 0 for (a, b) in zip(predictions, y.iloc[:,0])]\n",
    "#zip 将两个列表打包为元组的列表 并且是相同位置一一对应\n",
    "accuracy = (sum(map(int, correct)) % len(correct)) #map是把函数func依次映射到序列或迭代器上的每个元素上进行运算 这里不用map直接sum(correct)也可以 返回列表的和\n",
    "print ('accuracy = {0}%'.format(accuracy))"
   ]
  },
  {
   "cell_type": "code",
   "execution_count": null,
   "metadata": {},
   "outputs": [],
   "source": [
    "'''\n",
    "在训练的第二部分，我们将实现加入正则项提升逻辑回归算法。\n",
    "设想你是工厂的生产主管，你有一些芯片在两次测试中的测试结果，测试结果决定是否芯片要被接受或抛弃。你有一些历史数据，帮助你构建一个逻辑回归模型。\n",
    "'''"
   ]
  },
  {
   "cell_type": "code",
   "execution_count": null,
   "metadata": {},
   "outputs": [],
   "source": [
    "path = r'D:\\Plus\\PYTHON\\吴恩达练习\\data_sets\\ex2data2.txt'\n",
    "data = pd.read_csv(path,names = ['Test 1','Test 2','Accepted'])\n",
    "data.head()"
   ]
  },
  {
   "cell_type": "code",
   "execution_count": null,
   "metadata": {},
   "outputs": [],
   "source": [
    "positive = data[data['Accepted'].isin([1])]\n",
    "negative = data[data['Accepted'].isin([0])]\n",
    "\n",
    "fig,ax = plt.subplots(figsize = (12,8))\n",
    "ax.scatter(positive['Test 1'],positive['Test 2'],c = 'b',marker = 'o',label = 'Accepted')\n",
    "ax.scatter(negative['Test 1'],negative['Test 2'],c = 'r',marker = 'x',label = 'Rejected')\n",
    "ax.legend() #画出标签板\n",
    "ax.set_xlabel('Test 1 Score')\n",
    "ax.set_ylabel('Test 2 Score')\n",
    "plt.show()"
   ]
  },
  {
   "cell_type": "code",
   "execution_count": null,
   "metadata": {},
   "outputs": [],
   "source": [
    "#以上图片显示，这个数据集不能像之前一样使用直线将两部分分割。而逻辑回归只适用于线性的分割，所以，这个数据集不适合直接使用逻辑回归。"
   ]
  },
  {
   "cell_type": "code",
   "execution_count": null,
   "metadata": {},
   "outputs": [],
   "source": [
    "#2.2 特征映射\n",
    "#一种更好的使用数据集的方式是为每组数据创造更多的特征。所以我们为每组X1,X2添加了最高到6次幂的特征\n",
    "\n"
   ]
  },
  {
   "cell_type": "code",
   "execution_count": null,
   "metadata": {},
   "outputs": [],
   "source": [
    "degree = 6\n",
    "x1 = data['Test 1']\n",
    "x2 = data['Test 2']\n",
    "# 添加高次幂特征值   \n",
    "for i in range(1,degree+1):\n",
    "    for j in range(i+1):\n",
    "        data['F'+str(i-j)+str(j)] = np.power(x1,i-j) * np.power(x2,j)\n",
    "data.drop('Test 1', axis=1, inplace=True)\n",
    "data.drop('Test 2', axis=1, inplace=True)"
   ]
  },
  {
   "cell_type": "code",
   "execution_count": 114,
   "metadata": {},
   "outputs": [
    {
     "output_type": "execute_result",
     "data": {
      "text/plain": [
       "100"
      ]
     },
     "metadata": {},
     "execution_count": 114
    }
   ],
   "source": [
    "data.head()"
   ]
  },
  {
   "cell_type": "code",
   "execution_count": 142,
   "metadata": {},
   "outputs": [],
   "source": [
    "#实现正则化的代价函数\n",
    "def costReg(theta,X,y,learningRate):\n",
    "    m = len(X)\n",
    "    X = np.matrix(X)\n",
    "    y = np.matrix(y)\n",
    "    theta = np.matrix(theta)\n",
    "    \n",
    "    first = np.multiply(-y,np.log(sigmoid(X.dot(theta.T))))\n",
    "    second = np.multiply((1 - y),np.log(1 - sigmoid(X.dot(theta.T))))\n",
    "    reg = (learningRate/(2*m)) * np.sum(np.power(theta[:,1:theta.shape[1]],2))# theta0 不需要正则化 所以从1开始，有无正则化对结果影响不大，所以按照惯例不对theta0进行正则化\n",
    "    \n",
    "    return np.sum(first - second)/m + reg\n"
   ]
  },
  {
   "cell_type": "code",
   "execution_count": 150,
   "metadata": {},
   "outputs": [],
   "source": [
    "#实现正则化的梯度函数\n",
    "def gradientReg(theta,X,y,learningRate):\n",
    "    m = len(X)\n",
    "    X = np.matrix(X)\n",
    "    y = np.matrix(y)\n",
    "    theta = np.matrix(theta)\n",
    "\n",
    "    parameters = int(theta.ravel().shape[1])\n",
    "    grad = np.zeros(parameters) #初始化theta\n",
    "\n",
    "    error = sigmoid(X.dot(theta.T)) - y\n",
    "\n",
    "    for i in range(parameters):\n",
    "        term = np.multiply(error,X[:,i])\n",
    "\n",
    "        if i==0:\n",
    "            grad[i] = np.sum(term)/m\n",
    "        else:\n",
    "            grad[i] = (np.sum(term)/m) + ((learningRate/m) * theta[:,i])\n",
    "    return grad"
   ]
  },
  {
   "cell_type": "code",
   "execution_count": 184,
   "metadata": {},
   "outputs": [
    {
     "output_type": "execute_result",
     "data": {
      "text/plain": [
       "   Accepted  ones       F10      F01       F20       F11       F02       F30  \\\n",
       "0         1     1  0.051267  0.69956  0.002628  0.035864  0.489384  0.000135   \n",
       "1         1     1 -0.092742  0.68494  0.008601 -0.063523  0.469143 -0.000798   \n",
       "2         1     1 -0.213710  0.69225  0.045672 -0.147941  0.479210 -0.009761   \n",
       "3         1     1 -0.375000  0.50219  0.140625 -0.188321  0.252195 -0.052734   \n",
       "4         1     1 -0.513250  0.46564  0.263426 -0.238990  0.216821 -0.135203   \n",
       "\n",
       "        F21       F12  ...       F23       F14       F05           F60  \\\n",
       "0  0.001839  0.025089  ...  0.000900  0.012278  0.167542  1.815630e-08   \n",
       "1  0.005891 -0.043509  ...  0.002764 -0.020412  0.150752  6.362953e-07   \n",
       "2  0.031616 -0.102412  ...  0.015151 -0.049077  0.158970  9.526844e-05   \n",
       "3  0.070620 -0.094573  ...  0.017810 -0.023851  0.031940  2.780914e-03   \n",
       "4  0.122661 -0.111283  ...  0.026596 -0.024128  0.021890  1.827990e-02   \n",
       "\n",
       "            F51       F42       F33       F24       F15       F06  \n",
       "0  2.477505e-07  0.000003  0.000046  0.000629  0.008589  0.117206  \n",
       "1 -4.699318e-06  0.000035 -0.000256  0.001893 -0.013981  0.103256  \n",
       "2 -3.085938e-04  0.001000 -0.003238  0.010488 -0.033973  0.110047  \n",
       "3 -3.724126e-03  0.004987 -0.006679  0.008944 -0.011978  0.016040  \n",
       "4 -1.658422e-02  0.015046 -0.013650  0.012384 -0.011235  0.010193  \n",
       "\n",
       "[5 rows x 29 columns]"
      ],
      "text/html": "<div>\n<style scoped>\n    .dataframe tbody tr th:only-of-type {\n        vertical-align: middle;\n    }\n\n    .dataframe tbody tr th {\n        vertical-align: top;\n    }\n\n    .dataframe thead th {\n        text-align: right;\n    }\n</style>\n<table border=\"1\" class=\"dataframe\">\n  <thead>\n    <tr style=\"text-align: right;\">\n      <th></th>\n      <th>Accepted</th>\n      <th>ones</th>\n      <th>F10</th>\n      <th>F01</th>\n      <th>F20</th>\n      <th>F11</th>\n      <th>F02</th>\n      <th>F30</th>\n      <th>F21</th>\n      <th>F12</th>\n      <th>...</th>\n      <th>F23</th>\n      <th>F14</th>\n      <th>F05</th>\n      <th>F60</th>\n      <th>F51</th>\n      <th>F42</th>\n      <th>F33</th>\n      <th>F24</th>\n      <th>F15</th>\n      <th>F06</th>\n    </tr>\n  </thead>\n  <tbody>\n    <tr>\n      <th>0</th>\n      <td>1</td>\n      <td>1</td>\n      <td>0.051267</td>\n      <td>0.69956</td>\n      <td>0.002628</td>\n      <td>0.035864</td>\n      <td>0.489384</td>\n      <td>0.000135</td>\n      <td>0.001839</td>\n      <td>0.025089</td>\n      <td>...</td>\n      <td>0.000900</td>\n      <td>0.012278</td>\n      <td>0.167542</td>\n      <td>1.815630e-08</td>\n      <td>2.477505e-07</td>\n      <td>0.000003</td>\n      <td>0.000046</td>\n      <td>0.000629</td>\n      <td>0.008589</td>\n      <td>0.117206</td>\n    </tr>\n    <tr>\n      <th>1</th>\n      <td>1</td>\n      <td>1</td>\n      <td>-0.092742</td>\n      <td>0.68494</td>\n      <td>0.008601</td>\n      <td>-0.063523</td>\n      <td>0.469143</td>\n      <td>-0.000798</td>\n      <td>0.005891</td>\n      <td>-0.043509</td>\n      <td>...</td>\n      <td>0.002764</td>\n      <td>-0.020412</td>\n      <td>0.150752</td>\n      <td>6.362953e-07</td>\n      <td>-4.699318e-06</td>\n      <td>0.000035</td>\n      <td>-0.000256</td>\n      <td>0.001893</td>\n      <td>-0.013981</td>\n      <td>0.103256</td>\n    </tr>\n    <tr>\n      <th>2</th>\n      <td>1</td>\n      <td>1</td>\n      <td>-0.213710</td>\n      <td>0.69225</td>\n      <td>0.045672</td>\n      <td>-0.147941</td>\n      <td>0.479210</td>\n      <td>-0.009761</td>\n      <td>0.031616</td>\n      <td>-0.102412</td>\n      <td>...</td>\n      <td>0.015151</td>\n      <td>-0.049077</td>\n      <td>0.158970</td>\n      <td>9.526844e-05</td>\n      <td>-3.085938e-04</td>\n      <td>0.001000</td>\n      <td>-0.003238</td>\n      <td>0.010488</td>\n      <td>-0.033973</td>\n      <td>0.110047</td>\n    </tr>\n    <tr>\n      <th>3</th>\n      <td>1</td>\n      <td>1</td>\n      <td>-0.375000</td>\n      <td>0.50219</td>\n      <td>0.140625</td>\n      <td>-0.188321</td>\n      <td>0.252195</td>\n      <td>-0.052734</td>\n      <td>0.070620</td>\n      <td>-0.094573</td>\n      <td>...</td>\n      <td>0.017810</td>\n      <td>-0.023851</td>\n      <td>0.031940</td>\n      <td>2.780914e-03</td>\n      <td>-3.724126e-03</td>\n      <td>0.004987</td>\n      <td>-0.006679</td>\n      <td>0.008944</td>\n      <td>-0.011978</td>\n      <td>0.016040</td>\n    </tr>\n    <tr>\n      <th>4</th>\n      <td>1</td>\n      <td>1</td>\n      <td>-0.513250</td>\n      <td>0.46564</td>\n      <td>0.263426</td>\n      <td>-0.238990</td>\n      <td>0.216821</td>\n      <td>-0.135203</td>\n      <td>0.122661</td>\n      <td>-0.111283</td>\n      <td>...</td>\n      <td>0.026596</td>\n      <td>-0.024128</td>\n      <td>0.021890</td>\n      <td>1.827990e-02</td>\n      <td>-1.658422e-02</td>\n      <td>0.015046</td>\n      <td>-0.013650</td>\n      <td>0.012384</td>\n      <td>-0.011235</td>\n      <td>0.010193</td>\n    </tr>\n  </tbody>\n</table>\n<p>5 rows × 29 columns</p>\n</div>"
     },
     "metadata": {},
     "execution_count": 184
    }
   ],
   "source": [
    "#初始化X，y,theta\n",
    "cols = data.shape[1]\n",
    "X = data.iloc[:,1:]\n",
    "y = data.iloc[:,0:1]\n",
    "theta = np.zeros(cols-1)\n",
    "\n",
    "X = np.array(X.values)\n",
    "y = np.array(y.values)\n",
    "\n",
    "learningRate = 0\n",
    "data.head()\n"
   ]
  },
  {
   "cell_type": "code",
   "execution_count": 145,
   "metadata": {},
   "outputs": [
    {
     "output_type": "execute_result",
     "data": {
      "text/plain": [
       "0.6931471805599454"
      ]
     },
     "metadata": {},
     "execution_count": 145
    }
   ],
   "source": [
    "costReg(theta,X,y,learningRate)"
   ]
  },
  {
   "cell_type": "code",
   "execution_count": 151,
   "metadata": {},
   "outputs": [
    {
     "output_type": "execute_result",
     "data": {
      "text/plain": [
       "(array([ 1.27271027,  0.62529965,  1.18111687, -2.01987399, -0.91743189,\n",
       "        -1.43166928,  0.12393228, -0.36553118, -0.35725403, -0.17516292,\n",
       "        -1.45817009, -0.05098418, -0.61558554, -0.27469165, -1.19271298,\n",
       "        -0.2421784 , -0.20603299, -0.04466178, -0.27778951, -0.29539513,\n",
       "        -0.45645982, -1.04319155,  0.02779373, -0.2924487 ,  0.0155576 ,\n",
       "        -0.32742405, -0.1438915 , -0.92467487]),\n",
       " 32,\n",
       " 1)"
      ]
     },
     "metadata": {},
     "execution_count": 151
    }
   ],
   "source": [
    "result = opt.fmin_tnc(func=costReg, x0=theta, fprime=gradientReg, args=(X, y, learningRate))\n",
    "result"
   ]
  },
  {
   "cell_type": "code",
   "execution_count": 185,
   "metadata": {},
   "outputs": [
    {
     "output_type": "stream",
     "name": "stdout",
     "text": [
      "accuracy = 103%\n"
     ]
    }
   ],
   "source": [
    "theta_min = np.matrix(result[0])\n",
    "predictions = Predict(theta_min,X)\n",
    "correct = [1 if ((a==1 and b == 1) or (a==0 and b==0)) else 0 for (a,b) in zip(predictions,y)]\n",
    "accuracy = sum(correct) % len(correct)\n",
    "print ('accuracy = {0}%'.format(accuracy))\n"
   ]
  },
  {
   "cell_type": "code",
   "execution_count": 160,
   "metadata": {},
   "outputs": [],
   "source": [
    "#画出决策曲线\n",
    "def hfunc2(theta, x1, x2):\n",
    "    temp = theta[0][0]\n",
    "    place = 0\n",
    "    for i in range(1, degree+1):\n",
    "        for j in range(0, i+1):\n",
    "            temp+= np.power(x1, i-j) * np.power(x2, j) * theta[0][place+1] #写出多项式\n",
    "            place+=1\n",
    "    return temp"
   ]
  },
  {
   "cell_type": "code",
   "execution_count": 161,
   "metadata": {},
   "outputs": [],
   "source": [
    "def find_decision_boundary(theta):\n",
    "    t1 = np.linspace(-1, 1.5, 1000)\n",
    "    t2 = np.linspace(-1, 1.5, 1000) \n",
    "\n",
    "    cordinates = [(x, y) for x in t1 for y in t2]\n",
    "    x_cord, y_cord = zip(*cordinates)\n",
    "    h_val = pd.DataFrame({'x1':x_cord, 'x2':y_cord})\n",
    "    h_val['hval'] = hfunc2(theta, h_val['x1'], h_val['x2'])\n",
    "\n",
    "    decision = h_val[np.abs(h_val['hval']) < 2 * 10**-3]\n",
    "    return decision.x1, decision.x2"
   ]
  },
  {
   "cell_type": "code",
   "execution_count": 182,
   "metadata": {},
   "outputs": [
    {
     "output_type": "display_data",
     "data": {
      "text/plain": "<Figure size 864x576 with 1 Axes>",
      "image/svg+xml": "<?xml version=\"1.0\" encoding=\"utf-8\" standalone=\"no\"?>\r\n<!DOCTYPE svg PUBLIC \"-//W3C//DTD SVG 1.1//EN\"\r\n  \"http://www.w3.org/Graphics/SVG/1.1/DTD/svg11.dtd\">\r\n<!-- Created with matplotlib (https://matplotlib.org/) -->\r\n<svg height=\"479.63625pt\" version=\"1.1\" viewBox=\"0 0 735.323438 479.63625\" width=\"735.323438pt\" xmlns=\"http://www.w3.org/2000/svg\" xmlns:xlink=\"http://www.w3.org/1999/xlink\">\r\n <defs>\r\n  <style type=\"text/css\">\r\n*{stroke-linecap:butt;stroke-linejoin:round;}\r\n  </style>\r\n </defs>\r\n <g id=\"figure_1\">\r\n  <g id=\"patch_1\">\r\n   <path d=\"M 0 479.63625 \r\nL 735.323438 479.63625 \r\nL 735.323438 0 \r\nL 0 0 \r\nz\r\n\" style=\"fill:none;\"/>\r\n  </g>\r\n  <g id=\"axes_1\">\r\n   <g id=\"patch_2\">\r\n    <path d=\"M 58.523438 442.08 \r\nL 728.123438 442.08 \r\nL 728.123438 7.2 \r\nL 58.523438 7.2 \r\nz\r\n\" style=\"fill:#ffffff;\"/>\r\n   </g>\r\n   <g id=\"PathCollection_1\">\r\n    <defs>\r\n     <path d=\"M 0 3.535534 \r\nC 0.937635 3.535534 1.836992 3.163008 2.5 2.5 \r\nC 3.163008 1.836992 3.535534 0.937635 3.535534 0 \r\nC 3.535534 -0.937635 3.163008 -1.836992 2.5 -2.5 \r\nC 1.836992 -3.163008 0.937635 -3.535534 0 -3.535534 \r\nC -0.937635 -3.535534 -1.836992 -3.163008 -2.5 -2.5 \r\nC -3.163008 -1.836992 -3.535534 -0.937635 -3.535534 0 \r\nC -3.535534 0.937635 -3.163008 1.836992 -2.5 2.5 \r\nC -1.836992 3.163008 -0.937635 3.535534 0 3.535534 \r\nz\r\n\" id=\"m7b5a036cc3\" style=\"stroke:#0000ff;\"/>\r\n    </defs>\r\n    <g clip-path=\"url(#p14d589f0ec)\">\r\n     <use style=\"fill:#0000ff;stroke:#0000ff;\" x=\"371.365511\" xlink:href=\"#m7b5a036cc3\" y=\"114.763198\"/>\r\n     <use style=\"fill:#0000ff;stroke:#0000ff;\" x=\"325.635495\" xlink:href=\"#m7b5a036cc3\" y=\"117.794254\"/>\r\n     <use style=\"fill:#0000ff;stroke:#0000ff;\" x=\"287.222142\" xlink:href=\"#m7b5a036cc3\" y=\"116.278726\"/>\r\n     <use style=\"fill:#0000ff;stroke:#0000ff;\" x=\"236.004551\" xlink:href=\"#m7b5a036cc3\" y=\"155.682449\"/>\r\n     <use style=\"fill:#0000ff;stroke:#0000ff;\" x=\"192.103304\" xlink:href=\"#m7b5a036cc3\" y=\"163.260088\"/>\r\n     <use style=\"fill:#0000ff;stroke:#0000ff;\" x=\"188.445131\" xlink:href=\"#m7b5a036cc3\" y=\"216.301487\"/>\r\n     <use style=\"fill:#0000ff;stroke:#0000ff;\" x=\"228.688205\" xlink:href=\"#m7b5a036cc3\" y=\"252.674776\"/>\r\n     <use style=\"fill:#0000ff;stroke:#0000ff;\" x=\"257.953586\" xlink:href=\"#m7b5a036cc3\" y=\"299.655516\"/>\r\n     <use style=\"fill:#0000ff;stroke:#0000ff;\" x=\"360.390358\" xlink:href=\"#m7b5a036cc3\" y=\"343.605822\"/>\r\n     <use style=\"fill:#0000ff;stroke:#0000ff;\" x=\"396.973671\" xlink:href=\"#m7b5a036cc3\" y=\"366.338739\"/>\r\n     <use style=\"fill:#0000ff;stroke:#0000ff;\" x=\"477.45982\" xlink:href=\"#m7b5a036cc3\" y=\"376.947434\"/>\r\n     <use style=\"fill:#0000ff;stroke:#0000ff;\" x=\"523.190152\" xlink:href=\"#m7b5a036cc3\" y=\"367.854267\"/>\r\n     <use style=\"fill:#0000ff;stroke:#0000ff;\" x=\"557.942792\" xlink:href=\"#m7b5a036cc3\" y=\"310.264211\"/>\r\n     <use style=\"fill:#0000ff;stroke:#0000ff;\" x=\"589.040435\" xlink:href=\"#m7b5a036cc3\" y=\"298.139988\"/>\r\n     <use style=\"fill:#0000ff;stroke:#0000ff;\" x=\"528.677411\" xlink:href=\"#m7b5a036cc3\" y=\"158.713504\"/>\r\n     <use style=\"fill:#0000ff;stroke:#0000ff;\" x=\"457.336695\" xlink:href=\"#m7b5a036cc3\" y=\"139.011643\"/>\r\n     <use style=\"fill:#0000ff;stroke:#0000ff;\" x=\"407.948189\" xlink:href=\"#m7b5a036cc3\" y=\"148.10481\"/>\r\n     <use style=\"fill:#0000ff;stroke:#0000ff;\" x=\"340.269138\" xlink:href=\"#m7b5a036cc3\" y=\"90.514753\"/>\r\n     <use style=\"fill:#0000ff;stroke:#0000ff;\" x=\"300.025747\" xlink:href=\"#m7b5a036cc3\" y=\"114.763198\"/>\r\n     <use style=\"fill:#0000ff;stroke:#0000ff;\" x=\"203.077822\" xlink:href=\"#m7b5a036cc3\" y=\"128.402948\"/>\r\n     <use style=\"fill:#0000ff;stroke:#0000ff;\" x=\"162.837923\" xlink:href=\"#m7b5a036cc3\" y=\"135.980587\"/>\r\n     <use style=\"fill:#0000ff;stroke:#0000ff;\" x=\"155.518402\" xlink:href=\"#m7b5a036cc3\" y=\"190.539588\"/>\r\n     <use style=\"fill:#0000ff;stroke:#0000ff;\" x=\"166.496096\" xlink:href=\"#m7b5a036cc3\" y=\"258.736888\"/>\r\n     <use style=\"fill:#0000ff;stroke:#0000ff;\" x=\"221.37186\" xlink:href=\"#m7b5a036cc3\" y=\"316.326322\"/>\r\n     <use style=\"fill:#0000ff;stroke:#0000ff;\" x=\"318.319785\" xlink:href=\"#m7b5a036cc3\" y=\"342.090294\"/>\r\n     <use style=\"fill:#0000ff;stroke:#0000ff;\" x=\"418.925882\" xlink:href=\"#m7b5a036cc3\" y=\"384.525073\"/>\r\n     <use style=\"fill:#0000ff;stroke:#0000ff;\" x=\"503.067028\" xlink:href=\"#m7b5a036cc3\" y=\"370.885323\"/>\r\n     <use style=\"fill:#0000ff;stroke:#0000ff;\" x=\"568.920485\" xlink:href=\"#m7b5a036cc3\" y=\"370.885323\"/>\r\n     <use style=\"fill:#0000ff;stroke:#0000ff;\" x=\"311.00344\" xlink:href=\"#m7b5a036cc3\" y=\"146.589282\"/>\r\n     <use style=\"fill:#0000ff;stroke:#0000ff;\" x=\"261.614934\" xlink:href=\"#m7b5a036cc3\" y=\"98.092392\"/>\r\n     <use style=\"fill:#0000ff;stroke:#0000ff;\" x=\"270.760366\" xlink:href=\"#m7b5a036cc3\" y=\"60.204197\"/>\r\n     <use style=\"fill:#0000ff;stroke:#0000ff;\" x=\"303.683919\" xlink:href=\"#m7b5a036cc3\" y=\"93.545809\"/>\r\n     <use style=\"fill:#0000ff;stroke:#0000ff;\" x=\"300.025747\" xlink:href=\"#m7b5a036cc3\" y=\"125.371893\"/>\r\n     <use style=\"fill:#0000ff;stroke:#0000ff;\" x=\"265.273107\" xlink:href=\"#m7b5a036cc3\" y=\"161.74456\"/>\r\n     <use style=\"fill:#0000ff;stroke:#0000ff;\" x=\"239.662723\" xlink:href=\"#m7b5a036cc3\" y=\"195.086171\"/>\r\n     <use style=\"fill:#0000ff;stroke:#0000ff;\" x=\"259.782672\" xlink:href=\"#m7b5a036cc3\" y=\"254.190304\"/>\r\n     <use style=\"fill:#0000ff;stroke:#0000ff;\" x=\"279.905797\" xlink:href=\"#m7b5a036cc3\" y=\"304.2021\"/>\r\n     <use style=\"fill:#0000ff;stroke:#0000ff;\" x=\"334.781562\" xlink:href=\"#m7b5a036cc3\" y=\"298.139988\"/>\r\n     <use style=\"fill:#0000ff;stroke:#0000ff;\" x=\"375.024001\" xlink:href=\"#m7b5a036cc3\" y=\"293.593405\"/>\r\n     <use style=\"fill:#0000ff;stroke:#0000ff;\" x=\"428.071314\" xlink:href=\"#m7b5a036cc3\" y=\"345.12135\"/>\r\n     <use style=\"fill:#0000ff;stroke:#0000ff;\" x=\"448.191263\" xlink:href=\"#m7b5a036cc3\" y=\"307.233155\"/>\r\n     <use style=\"fill:#0000ff;stroke:#0000ff;\" x=\"508.554287\" xlink:href=\"#m7b5a036cc3\" y=\"298.139988\"/>\r\n     <use style=\"fill:#0000ff;stroke:#0000ff;\" x=\"559.775054\" xlink:href=\"#m7b5a036cc3\" y=\"289.046822\"/>\r\n     <use style=\"fill:#0000ff;stroke:#0000ff;\" x=\"501.237941\" xlink:href=\"#m7b5a036cc3\" y=\"257.22136\"/>\r\n     <use style=\"fill:#0000ff;stroke:#0000ff;\" x=\"554.28462\" xlink:href=\"#m7b5a036cc3\" y=\"226.910182\"/>\r\n     <use style=\"fill:#0000ff;stroke:#0000ff;\" x=\"537.822843\" xlink:href=\"#m7b5a036cc3\" y=\"204.179338\"/>\r\n     <use style=\"fill:#0000ff;stroke:#0000ff;\" x=\"585.382262\" xlink:href=\"#m7b5a036cc3\" y=\"167.806671\"/>\r\n     <use style=\"fill:#0000ff;stroke:#0000ff;\" x=\"426.242228\" xlink:href=\"#m7b5a036cc3\" y=\"151.135865\"/>\r\n     <use style=\"fill:#0000ff;stroke:#0000ff;\" x=\"495.750683\" xlink:href=\"#m7b5a036cc3\" y=\"120.825309\"/>\r\n     <use style=\"fill:#0000ff;stroke:#0000ff;\" x=\"457.336695\" xlink:href=\"#m7b5a036cc3\" y=\"116.278726\"/>\r\n     <use style=\"fill:#0000ff;stroke:#0000ff;\" x=\"398.802758\" xlink:href=\"#m7b5a036cc3\" y=\"140.527171\"/>\r\n     <use style=\"fill:#0000ff;stroke:#0000ff;\" x=\"353.073568\" xlink:href=\"#m7b5a036cc3\" y=\"176.899838\"/>\r\n     <use style=\"fill:#0000ff;stroke:#0000ff;\" x=\"325.635495\" xlink:href=\"#m7b5a036cc3\" y=\"145.073754\"/>\r\n     <use style=\"fill:#0000ff;stroke:#0000ff;\" x=\"289.051229\" xlink:href=\"#m7b5a036cc3\" y=\"185.993005\"/>\r\n     <use style=\"fill:#0000ff;stroke:#0000ff;\" x=\"289.051229\" xlink:href=\"#m7b5a036cc3\" y=\"223.879126\"/>\r\n     <use style=\"fill:#0000ff;stroke:#0000ff;\" x=\"215.884601\" xlink:href=\"#m7b5a036cc3\" y=\"214.785959\"/>\r\n     <use style=\"fill:#0000ff;stroke:#0000ff;\" x=\"285.393056\" xlink:href=\"#m7b5a036cc3\" y=\"263.283471\"/>\r\n     <use style=\"fill:#0000ff;stroke:#0000ff;\" x=\"311.00344\" xlink:href=\"#m7b5a036cc3\" y=\"316.326322\"/>\r\n    </g>\r\n   </g>\r\n   <g id=\"PathCollection_2\">\r\n    <defs>\r\n     <path d=\"M -3.535534 3.535534 \r\nL 3.535534 -3.535534 \r\nM -3.535534 -3.535534 \r\nL 3.535534 3.535534 \r\n\" id=\"m90393d034f\" style=\"stroke:#ff0000;stroke-width:1.5;\"/>\r\n    </defs>\r\n    <g clip-path=\"url(#p14d589f0ec)\">\r\n     <use style=\"fill:#ff0000;stroke:#ff0000;stroke-width:1.5;\" x=\"413.438624\" xlink:href=\"#m90393d034f\" y=\"66.266309\"/>\r\n     <use style=\"fill:#ff0000;stroke:#ff0000;stroke-width:1.5;\" x=\"426.242228\" xlink:href=\"#m90393d034f\" y=\"98.092392\"/>\r\n     <use style=\"fill:#ff0000;stroke:#ff0000;stroke-width:1.5;\" x=\"450.02035\" xlink:href=\"#m90393d034f\" y=\"131.434004\"/>\r\n     <use style=\"fill:#ff0000;stroke:#ff0000;stroke-width:1.5;\" x=\"515.873807\" xlink:href=\"#m90393d034f\" y=\"102.638976\"/>\r\n     <use style=\"fill:#ff0000;stroke:#ff0000;stroke-width:1.5;\" x=\"550.626447\" xlink:href=\"#m90393d034f\" y=\"108.701087\"/>\r\n     <use style=\"fill:#ff0000;stroke:#ff0000;stroke-width:1.5;\" x=\"546.968274\" xlink:href=\"#m90393d034f\" y=\"135.980587\"/>\r\n     <use style=\"fill:#ff0000;stroke:#ff0000;stroke-width:1.5;\" x=\"598.185866\" xlink:href=\"#m90393d034f\" y=\"155.682449\"/>\r\n     <use style=\"fill:#ff0000;stroke:#ff0000;stroke-width:1.5;\" x=\"649.403458\" xlink:href=\"#m90393d034f\" y=\"184.477477\"/>\r\n     <use style=\"fill:#ff0000;stroke:#ff0000;stroke-width:1.5;\" x=\"616.479905\" xlink:href=\"#m90393d034f\" y=\"202.66381\"/>\r\n     <use style=\"fill:#ff0000;stroke:#ff0000;stroke-width:1.5;\" x=\"660.381151\" xlink:href=\"#m90393d034f\" y=\"242.066289\"/>\r\n     <use style=\"fill:#ff0000;stroke:#ff0000;stroke-width:1.5;\" x=\"653.061631\" xlink:href=\"#m90393d034f\" y=\"257.22136\"/>\r\n     <use style=\"fill:#ff0000;stroke:#ff0000;stroke-width:1.5;\" x=\"629.283509\" xlink:href=\"#m90393d034f\" y=\"276.923014\"/>\r\n     <use style=\"fill:#ff0000;stroke:#ff0000;stroke-width:1.5;\" x=\"640.258027\" xlink:href=\"#m90393d034f\" y=\"302.686572\"/>\r\n     <use style=\"fill:#ff0000;stroke:#ff0000;stroke-width:1.5;\" x=\"625.625336\" xlink:href=\"#m90393d034f\" y=\"336.028183\"/>\r\n     <use style=\"fill:#ff0000;stroke:#ff0000;stroke-width:1.5;\" x=\"618.308991\" xlink:href=\"#m90393d034f\" y=\"367.854267\"/>\r\n     <use style=\"fill:#ff0000;stroke:#ff0000;stroke-width:1.5;\" x=\"607.331298\" xlink:href=\"#m90393d034f\" y=\"375.431906\"/>\r\n     <use style=\"fill:#ff0000;stroke:#ff0000;stroke-width:1.5;\" x=\"543.310102\" xlink:href=\"#m90393d034f\" y=\"413.320101\"/>\r\n     <use style=\"fill:#ff0000;stroke:#ff0000;stroke-width:1.5;\" x=\"519.53198\" xlink:href=\"#m90393d034f\" y=\"383.009545\"/>\r\n     <use style=\"fill:#ff0000;stroke:#ff0000;stroke-width:1.5;\" x=\"503.067028\" xlink:href=\"#m90393d034f\" y=\"346.636878\"/>\r\n     <use style=\"fill:#ff0000;stroke:#ff0000;stroke-width:1.5;\" x=\"466.485302\" xlink:href=\"#m90393d034f\" y=\"379.978489\"/>\r\n     <use style=\"fill:#ff0000;stroke:#ff0000;stroke-width:1.5;\" x=\"446.362177\" xlink:href=\"#m90393d034f\" y=\"419.382212\"/>\r\n     <use style=\"fill:#ff0000;stroke:#ff0000;stroke-width:1.5;\" x=\"382.340663\" xlink:href=\"#m90393d034f\" y=\"416.351157\"/>\r\n     <use style=\"fill:#ff0000;stroke:#ff0000;stroke-width:1.5;\" x=\"402.46093\" xlink:href=\"#m90393d034f\" y=\"379.978489\"/>\r\n     <use style=\"fill:#ff0000;stroke:#ff0000;stroke-width:1.5;\" x=\"312.832526\" xlink:href=\"#m90393d034f\" y=\"352.698989\"/>\r\n     <use style=\"fill:#ff0000;stroke:#ff0000;stroke-width:1.5;\" x=\"225.030033\" xlink:href=\"#m90393d034f\" y=\"345.12135\"/>\r\n     <use style=\"fill:#ff0000;stroke:#ff0000;stroke-width:1.5;\" x=\"230.517292\" xlink:href=\"#m90393d034f\" y=\"313.295266\"/>\r\n     <use style=\"fill:#ff0000;stroke:#ff0000;stroke-width:1.5;\" x=\"118.936676\" xlink:href=\"#m90393d034f\" y=\"313.295266\"/>\r\n     <use style=\"fill:#ff0000;stroke:#ff0000;stroke-width:1.5;\" x=\"133.569367\" xlink:href=\"#m90393d034f\" y=\"251.159249\"/>\r\n     <use style=\"fill:#ff0000;stroke:#ff0000;stroke-width:1.5;\" x=\"115.278504\" xlink:href=\"#m90393d034f\" y=\"199.632755\"/>\r\n     <use style=\"fill:#ff0000;stroke:#ff0000;stroke-width:1.5;\" x=\"133.569367\" xlink:href=\"#m90393d034f\" y=\"117.794254\"/>\r\n     <use style=\"fill:#ff0000;stroke:#ff0000;stroke-width:1.5;\" x=\"226.859119\" xlink:href=\"#m90393d034f\" y=\"113.24767\"/>\r\n     <use style=\"fill:#ff0000;stroke:#ff0000;stroke-width:1.5;\" x=\"234.175464\" xlink:href=\"#m90393d034f\" y=\"69.297364\"/>\r\n     <use style=\"fill:#ff0000;stroke:#ff0000;stroke-width:1.5;\" x=\"193.93239\" xlink:href=\"#m90393d034f\" y=\"72.32842\"/>\r\n     <use style=\"fill:#ff0000;stroke:#ff0000;stroke-width:1.5;\" x=\"181.128786\" xlink:href=\"#m90393d034f\" y=\"113.24767\"/>\r\n     <use style=\"fill:#ff0000;stroke:#ff0000;stroke-width:1.5;\" x=\"387.82824\" xlink:href=\"#m90393d034f\" y=\"98.092392\"/>\r\n     <use style=\"fill:#ff0000;stroke:#ff0000;stroke-width:1.5;\" x=\"373.194914\" xlink:href=\"#m90393d034f\" y=\"69.297364\"/>\r\n     <use style=\"fill:#ff0000;stroke:#ff0000;stroke-width:1.5;\" x=\"321.977958\" xlink:href=\"#m90393d034f\" y=\"54.142086\"/>\r\n     <use style=\"fill:#ff0000;stroke:#ff0000;stroke-width:1.5;\" x=\"329.293985\" xlink:href=\"#m90393d034f\" y=\"29.897788\"/>\r\n     <use style=\"fill:#ff0000;stroke:#ff0000;stroke-width:1.5;\" x=\"446.362177\" xlink:href=\"#m90393d034f\" y=\"34.438152\"/>\r\n     <use style=\"fill:#ff0000;stroke:#ff0000;stroke-width:1.5;\" x=\"481.117992\" xlink:href=\"#m90393d034f\" y=\"88.999225\"/>\r\n     <use style=\"fill:#ff0000;stroke:#ff0000;stroke-width:1.5;\" x=\"557.942792\" xlink:href=\"#m90393d034f\" y=\"75.359475\"/>\r\n     <use style=\"fill:#ff0000;stroke:#ff0000;stroke-width:1.5;\" x=\"616.479905\" xlink:href=\"#m90393d034f\" y=\"122.340837\"/>\r\n     <use style=\"fill:#ff0000;stroke:#ff0000;stroke-width:1.5;\" x=\"568.920485\" xlink:href=\"#m90393d034f\" y=\"126.88742\"/>\r\n     <use style=\"fill:#ff0000;stroke:#ff0000;stroke-width:1.5;\" x=\"695.149669\" xlink:href=\"#m90393d034f\" y=\"239.034404\"/>\r\n     <use style=\"fill:#ff0000;stroke:#ff0000;stroke-width:1.5;\" x=\"340.269138\" xlink:href=\"#m90393d034f\" y=\"379.978489\"/>\r\n     <use style=\"fill:#ff0000;stroke:#ff0000;stroke-width:1.5;\" x=\"279.905797\" xlink:href=\"#m90393d034f\" y=\"392.102712\"/>\r\n     <use style=\"fill:#ff0000;stroke:#ff0000;stroke-width:1.5;\" x=\"307.342092\" xlink:href=\"#m90393d034f\" y=\"336.028183\"/>\r\n     <use style=\"fill:#ff0000;stroke:#ff0000;stroke-width:1.5;\" x=\"199.419649\" xlink:href=\"#m90393d034f\" y=\"322.388433\"/>\r\n     <use style=\"fill:#ff0000;stroke:#ff0000;stroke-width:1.5;\" x=\"206.735994\" xlink:href=\"#m90393d034f\" y=\"287.531294\"/>\r\n     <use style=\"fill:#ff0000;stroke:#ff0000;stroke-width:1.5;\" x=\"263.444021\" xlink:href=\"#m90393d034f\" y=\"272.376638\"/>\r\n     <use style=\"fill:#ff0000;stroke:#ff0000;stroke-width:1.5;\" x=\"161.005661\" xlink:href=\"#m90393d034f\" y=\"273.891958\"/>\r\n     <use style=\"fill:#ff0000;stroke:#ff0000;stroke-width:1.5;\" x=\"144.543885\" xlink:href=\"#m90393d034f\" y=\"304.2021\"/>\r\n     <use style=\"fill:#ff0000;stroke:#ff0000;stroke-width:1.5;\" x=\"164.667009\" xlink:href=\"#m90393d034f\" y=\"346.636878\"/>\r\n     <use style=\"fill:#ff0000;stroke:#ff0000;stroke-width:1.5;\" x=\"124.423935\" xlink:href=\"#m90393d034f\" y=\"276.923014\"/>\r\n     <use style=\"fill:#ff0000;stroke:#ff0000;stroke-width:1.5;\" x=\"91.497206\" xlink:href=\"#m90393d034f\" y=\"195.086171\"/>\r\n     <use style=\"fill:#ff0000;stroke:#ff0000;stroke-width:1.5;\" x=\"126.253022\" xlink:href=\"#m90393d034f\" y=\"148.10481\"/>\r\n     <use style=\"fill:#ff0000;stroke:#ff0000;stroke-width:1.5;\" x=\"166.496096\" xlink:href=\"#m90393d034f\" y=\"157.197976\"/>\r\n     <use style=\"fill:#ff0000;stroke:#ff0000;stroke-width:1.5;\" x=\"201.248735\" xlink:href=\"#m90393d034f\" y=\"52.626558\"/>\r\n     <use style=\"fill:#ff0000;stroke:#ff0000;stroke-width:1.5;\" x=\"353.073568\" xlink:href=\"#m90393d034f\" y=\"52.626558\"/>\r\n     <use style=\"fill:#ff0000;stroke:#ff0000;stroke-width:1.5;\" x=\"555.98351\" xlink:href=\"#m90393d034f\" y=\"266.144315\"/>\r\n    </g>\r\n   </g>\r\n   <g id=\"PathCollection_3\">\r\n    <defs>\r\n     <path d=\"M 0 1.581139 \r\nC 0.419323 1.581139 0.821528 1.41454 1.118034 1.118034 \r\nC 1.41454 0.821528 1.581139 0.419323 1.581139 0 \r\nC 1.581139 -0.419323 1.41454 -0.821528 1.118034 -1.118034 \r\nC 0.821528 -1.41454 0.419323 -1.581139 0 -1.581139 \r\nC -0.419323 -1.581139 -0.821528 -1.41454 -1.118034 -1.118034 \r\nC -1.41454 -0.821528 -1.581139 -0.419323 -1.581139 0 \r\nC -1.581139 0.419323 -1.41454 0.821528 -1.118034 1.118034 \r\nC -0.821528 1.41454 -0.419323 1.581139 0 1.581139 \r\nz\r\n\" id=\"md19cf0143f\" style=\"stroke:#bfbf00;\"/>\r\n    </defs>\r\n    <g clip-path=\"url(#p14d589f0ec)\">\r\n     <use style=\"fill:#bfbf00;stroke:#bfbf00;\" x=\"141.637615\" xlink:href=\"#md19cf0143f\" y=\"189.548827\"/>\r\n     <use style=\"fill:#bfbf00;stroke:#bfbf00;\" x=\"141.637615\" xlink:href=\"#md19cf0143f\" y=\"189.030002\"/>\r\n     <use style=\"fill:#bfbf00;stroke:#bfbf00;\" x=\"141.637615\" xlink:href=\"#md19cf0143f\" y=\"186.954701\"/>\r\n     <use style=\"fill:#bfbf00;stroke:#bfbf00;\" x=\"141.637615\" xlink:href=\"#md19cf0143f\" y=\"186.435876\"/>\r\n     <use style=\"fill:#bfbf00;stroke:#bfbf00;\" x=\"146.405629\" xlink:href=\"#md19cf0143f\" y=\"162.051092\"/>\r\n     <use style=\"fill:#bfbf00;stroke:#bfbf00;\" x=\"154.352318\" xlink:href=\"#md19cf0143f\" y=\"241.950171\"/>\r\n     <use style=\"fill:#bfbf00;stroke:#bfbf00;\" x=\"178.987055\" xlink:href=\"#md19cf0143f\" y=\"284.493836\"/>\r\n     <use style=\"fill:#bfbf00;stroke:#bfbf00;\" x=\"180.576393\" xlink:href=\"#md19cf0143f\" y=\"129.365105\"/>\r\n     <use style=\"fill:#bfbf00;stroke:#bfbf00;\" x=\"182.16573\" xlink:href=\"#md19cf0143f\" y=\"288.125612\"/>\r\n     <use style=\"fill:#bfbf00;stroke:#bfbf00;\" x=\"186.933744\" xlink:href=\"#md19cf0143f\" y=\"292.795039\"/>\r\n     <use style=\"fill:#bfbf00;stroke:#bfbf00;\" x=\"203.621792\" xlink:href=\"#md19cf0143f\" y=\"120.026252\"/>\r\n     <use style=\"fill:#bfbf00;stroke:#bfbf00;\" x=\"206.005798\" xlink:href=\"#md19cf0143f\" y=\"118.988602\"/>\r\n     <use style=\"fill:#bfbf00;stroke:#bfbf00;\" x=\"208.389805\" xlink:href=\"#md19cf0143f\" y=\"302.652717\"/>\r\n     <use style=\"fill:#bfbf00;stroke:#bfbf00;\" x=\"213.157819\" xlink:href=\"#md19cf0143f\" y=\"302.133892\"/>\r\n     <use style=\"fill:#bfbf00;stroke:#bfbf00;\" x=\"215.541826\" xlink:href=\"#md19cf0143f\" y=\"301.615067\"/>\r\n     <use style=\"fill:#bfbf00;stroke:#bfbf00;\" x=\"217.131163\" xlink:href=\"#md19cf0143f\" y=\"301.096242\"/>\r\n     <use style=\"fill:#bfbf00;stroke:#bfbf00;\" x=\"221.104508\" xlink:href=\"#md19cf0143f\" y=\"299.539766\"/>\r\n     <use style=\"fill:#bfbf00;stroke:#bfbf00;\" x=\"223.488515\" xlink:href=\"#md19cf0143f\" y=\"298.502116\"/>\r\n     <use style=\"fill:#bfbf00;stroke:#bfbf00;\" x=\"225.872522\" xlink:href=\"#md19cf0143f\" y=\"297.464466\"/>\r\n     <use style=\"fill:#bfbf00;stroke:#bfbf00;\" x=\"226.667191\" xlink:href=\"#md19cf0143f\" y=\"105.499147\"/>\r\n     <use style=\"fill:#bfbf00;stroke:#bfbf00;\" x=\"232.229873\" xlink:href=\"#md19cf0143f\" y=\"295.389165\"/>\r\n     <use style=\"fill:#bfbf00;stroke:#bfbf00;\" x=\"234.61388\" xlink:href=\"#md19cf0143f\" y=\"95.641468\"/>\r\n     <use style=\"fill:#bfbf00;stroke:#bfbf00;\" x=\"236.203218\" xlink:href=\"#md19cf0143f\" y=\"294.87034\"/>\r\n     <use style=\"fill:#bfbf00;stroke:#bfbf00;\" x=\"236.203218\" xlink:href=\"#md19cf0143f\" y=\"93.047342\"/>\r\n     <use style=\"fill:#bfbf00;stroke:#bfbf00;\" x=\"236.997887\" xlink:href=\"#md19cf0143f\" y=\"294.87034\"/>\r\n     <use style=\"fill:#bfbf00;stroke:#bfbf00;\" x=\"237.792556\" xlink:href=\"#md19cf0143f\" y=\"294.87034\"/>\r\n     <use style=\"fill:#bfbf00;stroke:#bfbf00;\" x=\"241.7659\" xlink:href=\"#md19cf0143f\" y=\"82.152014\"/>\r\n     <use style=\"fill:#bfbf00;stroke:#bfbf00;\" x=\"243.355238\" xlink:href=\"#md19cf0143f\" y=\"78.520237\"/>\r\n     <use style=\"fill:#bfbf00;stroke:#bfbf00;\" x=\"244.149907\" xlink:href=\"#md19cf0143f\" y=\"295.90799\"/>\r\n     <use style=\"fill:#bfbf00;stroke:#bfbf00;\" x=\"247.328583\" xlink:href=\"#md19cf0143f\" y=\"296.94564\"/>\r\n     <use style=\"fill:#bfbf00;stroke:#bfbf00;\" x=\"248.123252\" xlink:href=\"#md19cf0143f\" y=\"67.624908\"/>\r\n     <use style=\"fill:#bfbf00;stroke:#bfbf00;\" x=\"253.685934\" xlink:href=\"#md19cf0143f\" y=\"57.76723\"/>\r\n     <use style=\"fill:#bfbf00;stroke:#bfbf00;\" x=\"254.480603\" xlink:href=\"#md19cf0143f\" y=\"56.729579\"/>\r\n     <use style=\"fill:#bfbf00;stroke:#bfbf00;\" x=\"258.453948\" xlink:href=\"#md19cf0143f\" y=\"302.652717\"/>\r\n     <use style=\"fill:#bfbf00;stroke:#bfbf00;\" x=\"259.248617\" xlink:href=\"#md19cf0143f\" y=\"303.171543\"/>\r\n     <use style=\"fill:#bfbf00;stroke:#bfbf00;\" x=\"264.01663\" xlink:href=\"#md19cf0143f\" y=\"48.947202\"/>\r\n     <use style=\"fill:#bfbf00;stroke:#bfbf00;\" x=\"264.811299\" xlink:href=\"#md19cf0143f\" y=\"306.803319\"/>\r\n     <use style=\"fill:#bfbf00;stroke:#bfbf00;\" x=\"265.605968\" xlink:href=\"#md19cf0143f\" y=\"307.322144\"/>\r\n     <use style=\"fill:#bfbf00;stroke:#bfbf00;\" x=\"275.141995\" xlink:href=\"#md19cf0143f\" y=\"314.066871\"/>\r\n     <use style=\"fill:#bfbf00;stroke:#bfbf00;\" x=\"278.320671\" xlink:href=\"#md19cf0143f\" y=\"47.390726\"/>\r\n     <use style=\"fill:#bfbf00;stroke:#bfbf00;\" x=\"283.088685\" xlink:href=\"#md19cf0143f\" y=\"319.773948\"/>\r\n     <use style=\"fill:#bfbf00;stroke:#bfbf00;\" x=\"293.419381\" xlink:href=\"#md19cf0143f\" y=\"327.037501\"/>\r\n     <use style=\"fill:#bfbf00;stroke:#bfbf00;\" x=\"299.776732\" xlink:href=\"#md19cf0143f\" y=\"54.654279\"/>\r\n     <use style=\"fill:#bfbf00;stroke:#bfbf00;\" x=\"302.955408\" xlink:href=\"#md19cf0143f\" y=\"56.210754\"/>\r\n     <use style=\"fill:#bfbf00;stroke:#bfbf00;\" x=\"314.875442\" xlink:href=\"#md19cf0143f\" y=\"62.436656\"/>\r\n     <use style=\"fill:#bfbf00;stroke:#bfbf00;\" x=\"316.46478\" xlink:href=\"#md19cf0143f\" y=\"342.083431\"/>\r\n     <use style=\"fill:#bfbf00;stroke:#bfbf00;\" x=\"319.643455\" xlink:href=\"#md19cf0143f\" y=\"65.030782\"/>\r\n     <use style=\"fill:#bfbf00;stroke:#bfbf00;\" x=\"324.411469\" xlink:href=\"#md19cf0143f\" y=\"67.624908\"/>\r\n     <use style=\"fill:#bfbf00;stroke:#bfbf00;\" x=\"329.179483\" xlink:href=\"#md19cf0143f\" y=\"70.219034\"/>\r\n     <use style=\"fill:#bfbf00;stroke:#bfbf00;\" x=\"330.768821\" xlink:href=\"#md19cf0143f\" y=\"350.384634\"/>\r\n     <use style=\"fill:#bfbf00;stroke:#bfbf00;\" x=\"333.947496\" xlink:href=\"#md19cf0143f\" y=\"72.81316\"/>\r\n     <use style=\"fill:#bfbf00;stroke:#bfbf00;\" x=\"349.840875\" xlink:href=\"#md19cf0143f\" y=\"81.114363\"/>\r\n     <use style=\"fill:#bfbf00;stroke:#bfbf00;\" x=\"377.654287\" xlink:href=\"#md19cf0143f\" y=\"371.656467\"/>\r\n     <use style=\"fill:#bfbf00;stroke:#bfbf00;\" x=\"381.627632\" xlink:href=\"#md19cf0143f\" y=\"96.160294\"/>\r\n     <use style=\"fill:#bfbf00;stroke:#bfbf00;\" x=\"384.011639\" xlink:href=\"#md19cf0143f\" y=\"97.197944\"/>\r\n     <use style=\"fill:#bfbf00;stroke:#bfbf00;\" x=\"388.779652\" xlink:href=\"#md19cf0143f\" y=\"375.288243\"/>\r\n     <use style=\"fill:#bfbf00;stroke:#bfbf00;\" x=\"404.673031\" xlink:href=\"#md19cf0143f\" y=\"379.438845\"/>\r\n     <use style=\"fill:#bfbf00;stroke:#bfbf00;\" x=\"407.057038\" xlink:href=\"#md19cf0143f\" y=\"379.95767\"/>\r\n     <use style=\"fill:#bfbf00;stroke:#bfbf00;\" x=\"411.825051\" xlink:href=\"#md19cf0143f\" y=\"108.093273\"/>\r\n     <use style=\"fill:#bfbf00;stroke:#bfbf00;\" x=\"427.71843\" xlink:href=\"#md19cf0143f\" y=\"383.070621\"/>\r\n     <use style=\"fill:#bfbf00;stroke:#bfbf00;\" x=\"434.87045\" xlink:href=\"#md19cf0143f\" y=\"383.589446\"/>\r\n     <use style=\"fill:#bfbf00;stroke:#bfbf00;\" x=\"440.433133\" xlink:href=\"#md19cf0143f\" y=\"115.875651\"/>\r\n     <use style=\"fill:#bfbf00;stroke:#bfbf00;\" x=\"449.96916\" xlink:href=\"#md19cf0143f\" y=\"117.432126\"/>\r\n     <use style=\"fill:#bfbf00;stroke:#bfbf00;\" x=\"452.353167\" xlink:href=\"#md19cf0143f\" y=\"383.589446\"/>\r\n     <use style=\"fill:#bfbf00;stroke:#bfbf00;\" x=\"471.425221\" xlink:href=\"#md19cf0143f\" y=\"119.507427\"/>\r\n     <use style=\"fill:#bfbf00;stroke:#bfbf00;\" x=\"473.014559\" xlink:href=\"#md19cf0143f\" y=\"381.514146\"/>\r\n     <use style=\"fill:#bfbf00;stroke:#bfbf00;\" x=\"478.577242\" xlink:href=\"#md19cf0143f\" y=\"120.026252\"/>\r\n     <use style=\"fill:#bfbf00;stroke:#bfbf00;\" x=\"499.238634\" xlink:href=\"#md19cf0143f\" y=\"377.363544\"/>\r\n     <use style=\"fill:#bfbf00;stroke:#bfbf00;\" x=\"500.827972\" xlink:href=\"#md19cf0143f\" y=\"244.544297\"/>\r\n     <use style=\"fill:#bfbf00;stroke:#bfbf00;\" x=\"500.827972\" xlink:href=\"#md19cf0143f\" y=\"236.243094\"/>\r\n     <use style=\"fill:#bfbf00;stroke:#bfbf00;\" x=\"501.622641\" xlink:href=\"#md19cf0143f\" y=\"248.176073\"/>\r\n     <use style=\"fill:#bfbf00;stroke:#bfbf00;\" x=\"502.41731\" xlink:href=\"#md19cf0143f\" y=\"250.770199\"/>\r\n     <use style=\"fill:#bfbf00;stroke:#bfbf00;\" x=\"502.41731\" xlink:href=\"#md19cf0143f\" y=\"232.611317\"/>\r\n     <use style=\"fill:#bfbf00;stroke:#bfbf00;\" x=\"504.801316\" xlink:href=\"#md19cf0143f\" y=\"256.996101\"/>\r\n     <use style=\"fill:#bfbf00;stroke:#bfbf00;\" x=\"506.390654\" xlink:href=\"#md19cf0143f\" y=\"230.536017\"/>\r\n     <use style=\"fill:#bfbf00;stroke:#bfbf00;\" x=\"508.774661\" xlink:href=\"#md19cf0143f\" y=\"230.536017\"/>\r\n     <use style=\"fill:#bfbf00;stroke:#bfbf00;\" x=\"511.158668\" xlink:href=\"#md19cf0143f\" y=\"268.410255\"/>\r\n     <use style=\"fill:#bfbf00;stroke:#bfbf00;\" x=\"511.953337\" xlink:href=\"#md19cf0143f\" y=\"269.447905\"/>\r\n     <use style=\"fill:#bfbf00;stroke:#bfbf00;\" x=\"512.748006\" xlink:href=\"#md19cf0143f\" y=\"270.485556\"/>\r\n     <use style=\"fill:#bfbf00;stroke:#bfbf00;\" x=\"513.542675\" xlink:href=\"#md19cf0143f\" y=\"271.523206\"/>\r\n     <use style=\"fill:#bfbf00;stroke:#bfbf00;\" x=\"514.337344\" xlink:href=\"#md19cf0143f\" y=\"232.092492\"/>\r\n     <use style=\"fill:#bfbf00;stroke:#bfbf00;\" x=\"515.926681\" xlink:href=\"#md19cf0143f\" y=\"274.117332\"/>\r\n     <use style=\"fill:#bfbf00;stroke:#bfbf00;\" x=\"517.516019\" xlink:href=\"#md19cf0143f\" y=\"375.807069\"/>\r\n     <use style=\"fill:#bfbf00;stroke:#bfbf00;\" x=\"517.516019\" xlink:href=\"#md19cf0143f\" y=\"275.673808\"/>\r\n     <use style=\"fill:#bfbf00;stroke:#bfbf00;\" x=\"518.310688\" xlink:href=\"#md19cf0143f\" y=\"375.807069\"/>\r\n     <use style=\"fill:#bfbf00;stroke:#bfbf00;\" x=\"519.105357\" xlink:href=\"#md19cf0143f\" y=\"234.686618\"/>\r\n     <use style=\"fill:#bfbf00;stroke:#bfbf00;\" x=\"523.873371\" xlink:href=\"#md19cf0143f\" y=\"279.824409\"/>\r\n     <use style=\"fill:#bfbf00;stroke:#bfbf00;\" x=\"523.873371\" xlink:href=\"#md19cf0143f\" y=\"238.318394\"/>\r\n     <use style=\"fill:#bfbf00;stroke:#bfbf00;\" x=\"525.462709\" xlink:href=\"#md19cf0143f\" y=\"280.343234\"/>\r\n     <use style=\"fill:#bfbf00;stroke:#bfbf00;\" x=\"526.257377\" xlink:href=\"#md19cf0143f\" y=\"240.393695\"/>\r\n     <use style=\"fill:#bfbf00;stroke:#bfbf00;\" x=\"528.641384\" xlink:href=\"#md19cf0143f\" y=\"280.86206\"/>\r\n     <use style=\"fill:#bfbf00;stroke:#bfbf00;\" x=\"531.025391\" xlink:href=\"#md19cf0143f\" y=\"245.581947\"/>\r\n     <use style=\"fill:#bfbf00;stroke:#bfbf00;\" x=\"531.82006\" xlink:href=\"#md19cf0143f\" y=\"280.343234\"/>\r\n     <use style=\"fill:#bfbf00;stroke:#bfbf00;\" x=\"531.82006\" xlink:href=\"#md19cf0143f\" y=\"246.619597\"/>\r\n     <use style=\"fill:#bfbf00;stroke:#bfbf00;\" x=\"532.614729\" xlink:href=\"#md19cf0143f\" y=\"247.657248\"/>\r\n     <use style=\"fill:#bfbf00;stroke:#bfbf00;\" x=\"533.409398\" xlink:href=\"#md19cf0143f\" y=\"248.694898\"/>\r\n     <use style=\"fill:#bfbf00;stroke:#bfbf00;\" x=\"533.409398\" xlink:href=\"#md19cf0143f\" y=\"129.883931\"/>\r\n     <use style=\"fill:#bfbf00;stroke:#bfbf00;\" x=\"534.204067\" xlink:href=\"#md19cf0143f\" y=\"279.305584\"/>\r\n     <use style=\"fill:#bfbf00;stroke:#bfbf00;\" x=\"536.588074\" xlink:href=\"#md19cf0143f\" y=\"377.363544\"/>\r\n     <use style=\"fill:#bfbf00;stroke:#bfbf00;\" x=\"536.588074\" xlink:href=\"#md19cf0143f\" y=\"277.230283\"/>\r\n     <use style=\"fill:#bfbf00;stroke:#bfbf00;\" x=\"537.382743\" xlink:href=\"#md19cf0143f\" y=\"276.192633\"/>\r\n     <use style=\"fill:#bfbf00;stroke:#bfbf00;\" x=\"538.177411\" xlink:href=\"#md19cf0143f\" y=\"257.514926\"/>\r\n     <use style=\"fill:#bfbf00;stroke:#bfbf00;\" x=\"538.97208\" xlink:href=\"#md19cf0143f\" y=\"273.079682\"/>\r\n     <use style=\"fill:#bfbf00;stroke:#bfbf00;\" x=\"538.97208\" xlink:href=\"#md19cf0143f\" y=\"131.959231\"/>\r\n     <use style=\"fill:#bfbf00;stroke:#bfbf00;\" x=\"539.766749\" xlink:href=\"#md19cf0143f\" y=\"270.485556\"/>\r\n     <use style=\"fill:#bfbf00;stroke:#bfbf00;\" x=\"539.766749\" xlink:href=\"#md19cf0143f\" y=\"269.966731\"/>\r\n     <use style=\"fill:#bfbf00;stroke:#bfbf00;\" x=\"539.766749\" xlink:href=\"#md19cf0143f\" y=\"263.740828\"/>\r\n     <use style=\"fill:#bfbf00;stroke:#bfbf00;\" x=\"539.766749\" xlink:href=\"#md19cf0143f\" y=\"263.222003\"/>\r\n     <use style=\"fill:#bfbf00;stroke:#bfbf00;\" x=\"546.91877\" xlink:href=\"#md19cf0143f\" y=\"378.92002\"/>\r\n     <use style=\"fill:#bfbf00;stroke:#bfbf00;\" x=\"562.812148\" xlink:href=\"#md19cf0143f\" y=\"380.476495\"/>\r\n     <use style=\"fill:#bfbf00;stroke:#bfbf00;\" x=\"563.606817\" xlink:href=\"#md19cf0143f\" y=\"380.476495\"/>\r\n     <use style=\"fill:#bfbf00;stroke:#bfbf00;\" x=\"566.785493\" xlink:href=\"#md19cf0143f\" y=\"380.476495\"/>\r\n     <use style=\"fill:#bfbf00;stroke:#bfbf00;\" x=\"573.937513\" xlink:href=\"#md19cf0143f\" y=\"379.95767\"/>\r\n     <use style=\"fill:#bfbf00;stroke:#bfbf00;\" x=\"581.884203\" xlink:href=\"#md19cf0143f\" y=\"378.401194\"/>\r\n     <use style=\"fill:#bfbf00;stroke:#bfbf00;\" x=\"586.652216\" xlink:href=\"#md19cf0143f\" y=\"376.844719\"/>\r\n     <use style=\"fill:#bfbf00;stroke:#bfbf00;\" x=\"598.57225\" xlink:href=\"#md19cf0143f\" y=\"370.099991\"/>\r\n     <use style=\"fill:#bfbf00;stroke:#bfbf00;\" x=\"606.518939\" xlink:href=\"#md19cf0143f\" y=\"222.753639\"/>\r\n     <use style=\"fill:#bfbf00;stroke:#bfbf00;\" x=\"607.313608\" xlink:href=\"#md19cf0143f\" y=\"236.243094\"/>\r\n     <use style=\"fill:#bfbf00;stroke:#bfbf00;\" x=\"611.286953\" xlink:href=\"#md19cf0143f\" y=\"291.238563\"/>\r\n     <use style=\"fill:#bfbf00;stroke:#bfbf00;\" x=\"612.081622\" xlink:href=\"#md19cf0143f\" y=\"295.90799\"/>\r\n     <use style=\"fill:#bfbf00;stroke:#bfbf00;\" x=\"612.876291\" xlink:href=\"#md19cf0143f\" y=\"348.828159\"/>\r\n     <use style=\"fill:#bfbf00;stroke:#bfbf00;\" x=\"612.876291\" xlink:href=\"#md19cf0143f\" y=\"300.577417\"/>\r\n     <use style=\"fill:#bfbf00;stroke:#bfbf00;\" x=\"614.465629\" xlink:href=\"#md19cf0143f\" y=\"342.602257\"/>\r\n     <use style=\"fill:#bfbf00;stroke:#bfbf00;\" x=\"614.465629\" xlink:href=\"#md19cf0143f\" y=\"310.95392\"/>\r\n    </g>\r\n   </g>\r\n   <g id=\"matplotlib.axis_1\">\r\n    <g id=\"xtick_1\">\r\n     <g id=\"line2d_1\">\r\n      <defs>\r\n       <path d=\"M 0 0 \r\nL 0 3.5 \r\n\" id=\"m783eb13b38\" style=\"stroke:#000000;stroke-width:0.8;\"/>\r\n      </defs>\r\n      <g>\r\n       <use style=\"stroke:#000000;stroke-width:0.8;\" x=\"116.923411\" xlink:href=\"#m783eb13b38\" y=\"442.08\"/>\r\n      </g>\r\n     </g>\r\n     <g id=\"text_1\">\r\n      <!-- −0.75 -->\r\n      <defs>\r\n       <path d=\"M 10.59375 35.5 \r\nL 73.1875 35.5 \r\nL 73.1875 27.203125 \r\nL 10.59375 27.203125 \r\nz\r\n\" id=\"DejaVuSans-8722\"/>\r\n       <path d=\"M 31.78125 66.40625 \r\nQ 24.171875 66.40625 20.328125 58.90625 \r\nQ 16.5 51.421875 16.5 36.375 \r\nQ 16.5 21.390625 20.328125 13.890625 \r\nQ 24.171875 6.390625 31.78125 6.390625 \r\nQ 39.453125 6.390625 43.28125 13.890625 \r\nQ 47.125 21.390625 47.125 36.375 \r\nQ 47.125 51.421875 43.28125 58.90625 \r\nQ 39.453125 66.40625 31.78125 66.40625 \r\nz\r\nM 31.78125 74.21875 \r\nQ 44.046875 74.21875 50.515625 64.515625 \r\nQ 56.984375 54.828125 56.984375 36.375 \r\nQ 56.984375 17.96875 50.515625 8.265625 \r\nQ 44.046875 -1.421875 31.78125 -1.421875 \r\nQ 19.53125 -1.421875 13.0625 8.265625 \r\nQ 6.59375 17.96875 6.59375 36.375 \r\nQ 6.59375 54.828125 13.0625 64.515625 \r\nQ 19.53125 74.21875 31.78125 74.21875 \r\nz\r\n\" id=\"DejaVuSans-48\"/>\r\n       <path d=\"M 10.6875 12.40625 \r\nL 21 12.40625 \r\nL 21 0 \r\nL 10.6875 0 \r\nz\r\n\" id=\"DejaVuSans-46\"/>\r\n       <path d=\"M 8.203125 72.90625 \r\nL 55.078125 72.90625 \r\nL 55.078125 68.703125 \r\nL 28.609375 0 \r\nL 18.3125 0 \r\nL 43.21875 64.59375 \r\nL 8.203125 64.59375 \r\nz\r\n\" id=\"DejaVuSans-55\"/>\r\n       <path d=\"M 10.796875 72.90625 \r\nL 49.515625 72.90625 \r\nL 49.515625 64.59375 \r\nL 19.828125 64.59375 \r\nL 19.828125 46.734375 \r\nQ 21.96875 47.46875 24.109375 47.828125 \r\nQ 26.265625 48.1875 28.421875 48.1875 \r\nQ 40.625 48.1875 47.75 41.5 \r\nQ 54.890625 34.8125 54.890625 23.390625 \r\nQ 54.890625 11.625 47.5625 5.09375 \r\nQ 40.234375 -1.421875 26.90625 -1.421875 \r\nQ 22.3125 -1.421875 17.546875 -0.640625 \r\nQ 12.796875 0.140625 7.71875 1.703125 \r\nL 7.71875 11.625 \r\nQ 12.109375 9.234375 16.796875 8.0625 \r\nQ 21.484375 6.890625 26.703125 6.890625 \r\nQ 35.15625 6.890625 40.078125 11.328125 \r\nQ 45.015625 15.765625 45.015625 23.390625 \r\nQ 45.015625 31 40.078125 35.4375 \r\nQ 35.15625 39.890625 26.703125 39.890625 \r\nQ 22.75 39.890625 18.8125 39.015625 \r\nQ 14.890625 38.140625 10.796875 36.28125 \r\nz\r\n\" id=\"DejaVuSans-53\"/>\r\n      </defs>\r\n      <g transform=\"translate(101.600755 456.678437)scale(0.1 -0.1)\">\r\n       <use xlink:href=\"#DejaVuSans-8722\"/>\r\n       <use x=\"83.789062\" xlink:href=\"#DejaVuSans-48\"/>\r\n       <use x=\"147.412109\" xlink:href=\"#DejaVuSans-46\"/>\r\n       <use x=\"179.199219\" xlink:href=\"#DejaVuSans-55\"/>\r\n       <use x=\"242.822266\" xlink:href=\"#DejaVuSans-53\"/>\r\n      </g>\r\n     </g>\r\n    </g>\r\n    <g id=\"xtick_2\">\r\n     <g id=\"line2d_2\">\r\n      <g>\r\n       <use style=\"stroke:#000000;stroke-width:0.8;\" x=\"196.310837\" xlink:href=\"#m783eb13b38\" y=\"442.08\"/>\r\n      </g>\r\n     </g>\r\n     <g id=\"text_2\">\r\n      <!-- −0.50 -->\r\n      <g transform=\"translate(180.988181 456.678437)scale(0.1 -0.1)\">\r\n       <use xlink:href=\"#DejaVuSans-8722\"/>\r\n       <use x=\"83.789062\" xlink:href=\"#DejaVuSans-48\"/>\r\n       <use x=\"147.412109\" xlink:href=\"#DejaVuSans-46\"/>\r\n       <use x=\"179.199219\" xlink:href=\"#DejaVuSans-53\"/>\r\n       <use x=\"242.822266\" xlink:href=\"#DejaVuSans-48\"/>\r\n      </g>\r\n     </g>\r\n    </g>\r\n    <g id=\"xtick_3\">\r\n     <g id=\"line2d_3\">\r\n      <g>\r\n       <use style=\"stroke:#000000;stroke-width:0.8;\" x=\"275.698264\" xlink:href=\"#m783eb13b38\" y=\"442.08\"/>\r\n      </g>\r\n     </g>\r\n     <g id=\"text_3\">\r\n      <!-- −0.25 -->\r\n      <defs>\r\n       <path d=\"M 19.1875 8.296875 \r\nL 53.609375 8.296875 \r\nL 53.609375 0 \r\nL 7.328125 0 \r\nL 7.328125 8.296875 \r\nQ 12.9375 14.109375 22.625 23.890625 \r\nQ 32.328125 33.6875 34.8125 36.53125 \r\nQ 39.546875 41.84375 41.421875 45.53125 \r\nQ 43.3125 49.21875 43.3125 52.78125 \r\nQ 43.3125 58.59375 39.234375 62.25 \r\nQ 35.15625 65.921875 28.609375 65.921875 \r\nQ 23.96875 65.921875 18.8125 64.3125 \r\nQ 13.671875 62.703125 7.8125 59.421875 \r\nL 7.8125 69.390625 \r\nQ 13.765625 71.78125 18.9375 73 \r\nQ 24.125 74.21875 28.421875 74.21875 \r\nQ 39.75 74.21875 46.484375 68.546875 \r\nQ 53.21875 62.890625 53.21875 53.421875 \r\nQ 53.21875 48.921875 51.53125 44.890625 \r\nQ 49.859375 40.875 45.40625 35.40625 \r\nQ 44.1875 33.984375 37.640625 27.21875 \r\nQ 31.109375 20.453125 19.1875 8.296875 \r\nz\r\n\" id=\"DejaVuSans-50\"/>\r\n      </defs>\r\n      <g transform=\"translate(260.375607 456.678437)scale(0.1 -0.1)\">\r\n       <use xlink:href=\"#DejaVuSans-8722\"/>\r\n       <use x=\"83.789062\" xlink:href=\"#DejaVuSans-48\"/>\r\n       <use x=\"147.412109\" xlink:href=\"#DejaVuSans-46\"/>\r\n       <use x=\"179.199219\" xlink:href=\"#DejaVuSans-50\"/>\r\n       <use x=\"242.822266\" xlink:href=\"#DejaVuSans-53\"/>\r\n      </g>\r\n     </g>\r\n    </g>\r\n    <g id=\"xtick_4\">\r\n     <g id=\"line2d_4\">\r\n      <g>\r\n       <use style=\"stroke:#000000;stroke-width:0.8;\" x=\"355.08569\" xlink:href=\"#m783eb13b38\" y=\"442.08\"/>\r\n      </g>\r\n     </g>\r\n     <g id=\"text_4\">\r\n      <!-- 0.00 -->\r\n      <g transform=\"translate(343.952877 456.678437)scale(0.1 -0.1)\">\r\n       <use xlink:href=\"#DejaVuSans-48\"/>\r\n       <use x=\"63.623047\" xlink:href=\"#DejaVuSans-46\"/>\r\n       <use x=\"95.410156\" xlink:href=\"#DejaVuSans-48\"/>\r\n       <use x=\"159.033203\" xlink:href=\"#DejaVuSans-48\"/>\r\n      </g>\r\n     </g>\r\n    </g>\r\n    <g id=\"xtick_5\">\r\n     <g id=\"line2d_5\">\r\n      <g>\r\n       <use style=\"stroke:#000000;stroke-width:0.8;\" x=\"434.473116\" xlink:href=\"#m783eb13b38\" y=\"442.08\"/>\r\n      </g>\r\n     </g>\r\n     <g id=\"text_5\">\r\n      <!-- 0.25 -->\r\n      <g transform=\"translate(423.340303 456.678437)scale(0.1 -0.1)\">\r\n       <use xlink:href=\"#DejaVuSans-48\"/>\r\n       <use x=\"63.623047\" xlink:href=\"#DejaVuSans-46\"/>\r\n       <use x=\"95.410156\" xlink:href=\"#DejaVuSans-50\"/>\r\n       <use x=\"159.033203\" xlink:href=\"#DejaVuSans-53\"/>\r\n      </g>\r\n     </g>\r\n    </g>\r\n    <g id=\"xtick_6\">\r\n     <g id=\"line2d_6\">\r\n      <g>\r\n       <use style=\"stroke:#000000;stroke-width:0.8;\" x=\"513.860542\" xlink:href=\"#m783eb13b38\" y=\"442.08\"/>\r\n      </g>\r\n     </g>\r\n     <g id=\"text_6\">\r\n      <!-- 0.50 -->\r\n      <g transform=\"translate(502.72773 456.678437)scale(0.1 -0.1)\">\r\n       <use xlink:href=\"#DejaVuSans-48\"/>\r\n       <use x=\"63.623047\" xlink:href=\"#DejaVuSans-46\"/>\r\n       <use x=\"95.410156\" xlink:href=\"#DejaVuSans-53\"/>\r\n       <use x=\"159.033203\" xlink:href=\"#DejaVuSans-48\"/>\r\n      </g>\r\n     </g>\r\n    </g>\r\n    <g id=\"xtick_7\">\r\n     <g id=\"line2d_7\">\r\n      <g>\r\n       <use style=\"stroke:#000000;stroke-width:0.8;\" x=\"593.247968\" xlink:href=\"#m783eb13b38\" y=\"442.08\"/>\r\n      </g>\r\n     </g>\r\n     <g id=\"text_7\">\r\n      <!-- 0.75 -->\r\n      <g transform=\"translate(582.115156 456.678437)scale(0.1 -0.1)\">\r\n       <use xlink:href=\"#DejaVuSans-48\"/>\r\n       <use x=\"63.623047\" xlink:href=\"#DejaVuSans-46\"/>\r\n       <use x=\"95.410156\" xlink:href=\"#DejaVuSans-55\"/>\r\n       <use x=\"159.033203\" xlink:href=\"#DejaVuSans-53\"/>\r\n      </g>\r\n     </g>\r\n    </g>\r\n    <g id=\"xtick_8\">\r\n     <g id=\"line2d_8\">\r\n      <g>\r\n       <use style=\"stroke:#000000;stroke-width:0.8;\" x=\"672.635395\" xlink:href=\"#m783eb13b38\" y=\"442.08\"/>\r\n      </g>\r\n     </g>\r\n     <g id=\"text_8\">\r\n      <!-- 1.00 -->\r\n      <defs>\r\n       <path d=\"M 12.40625 8.296875 \r\nL 28.515625 8.296875 \r\nL 28.515625 63.921875 \r\nL 10.984375 60.40625 \r\nL 10.984375 69.390625 \r\nL 28.421875 72.90625 \r\nL 38.28125 72.90625 \r\nL 38.28125 8.296875 \r\nL 54.390625 8.296875 \r\nL 54.390625 0 \r\nL 12.40625 0 \r\nz\r\n\" id=\"DejaVuSans-49\"/>\r\n      </defs>\r\n      <g transform=\"translate(661.502582 456.678437)scale(0.1 -0.1)\">\r\n       <use xlink:href=\"#DejaVuSans-49\"/>\r\n       <use x=\"63.623047\" xlink:href=\"#DejaVuSans-46\"/>\r\n       <use x=\"95.410156\" xlink:href=\"#DejaVuSans-48\"/>\r\n       <use x=\"159.033203\" xlink:href=\"#DejaVuSans-48\"/>\r\n      </g>\r\n     </g>\r\n    </g>\r\n    <g id=\"text_9\">\r\n     <!-- Test 1 Score -->\r\n     <defs>\r\n      <path d=\"M -0.296875 72.90625 \r\nL 61.375 72.90625 \r\nL 61.375 64.59375 \r\nL 35.5 64.59375 \r\nL 35.5 0 \r\nL 25.59375 0 \r\nL 25.59375 64.59375 \r\nL -0.296875 64.59375 \r\nz\r\n\" id=\"DejaVuSans-84\"/>\r\n      <path d=\"M 56.203125 29.59375 \r\nL 56.203125 25.203125 \r\nL 14.890625 25.203125 \r\nQ 15.484375 15.921875 20.484375 11.0625 \r\nQ 25.484375 6.203125 34.421875 6.203125 \r\nQ 39.59375 6.203125 44.453125 7.46875 \r\nQ 49.3125 8.734375 54.109375 11.28125 \r\nL 54.109375 2.78125 \r\nQ 49.265625 0.734375 44.1875 -0.34375 \r\nQ 39.109375 -1.421875 33.890625 -1.421875 \r\nQ 20.796875 -1.421875 13.15625 6.1875 \r\nQ 5.515625 13.8125 5.515625 26.8125 \r\nQ 5.515625 40.234375 12.765625 48.109375 \r\nQ 20.015625 56 32.328125 56 \r\nQ 43.359375 56 49.78125 48.890625 \r\nQ 56.203125 41.796875 56.203125 29.59375 \r\nz\r\nM 47.21875 32.234375 \r\nQ 47.125 39.59375 43.09375 43.984375 \r\nQ 39.0625 48.390625 32.421875 48.390625 \r\nQ 24.90625 48.390625 20.390625 44.140625 \r\nQ 15.875 39.890625 15.1875 32.171875 \r\nz\r\n\" id=\"DejaVuSans-101\"/>\r\n      <path d=\"M 44.28125 53.078125 \r\nL 44.28125 44.578125 \r\nQ 40.484375 46.53125 36.375 47.5 \r\nQ 32.28125 48.484375 27.875 48.484375 \r\nQ 21.1875 48.484375 17.84375 46.4375 \r\nQ 14.5 44.390625 14.5 40.28125 \r\nQ 14.5 37.15625 16.890625 35.375 \r\nQ 19.28125 33.59375 26.515625 31.984375 \r\nL 29.59375 31.296875 \r\nQ 39.15625 29.25 43.1875 25.515625 \r\nQ 47.21875 21.78125 47.21875 15.09375 \r\nQ 47.21875 7.46875 41.1875 3.015625 \r\nQ 35.15625 -1.421875 24.609375 -1.421875 \r\nQ 20.21875 -1.421875 15.453125 -0.5625 \r\nQ 10.6875 0.296875 5.421875 2 \r\nL 5.421875 11.28125 \r\nQ 10.40625 8.6875 15.234375 7.390625 \r\nQ 20.0625 6.109375 24.8125 6.109375 \r\nQ 31.15625 6.109375 34.5625 8.28125 \r\nQ 37.984375 10.453125 37.984375 14.40625 \r\nQ 37.984375 18.0625 35.515625 20.015625 \r\nQ 33.0625 21.96875 24.703125 23.78125 \r\nL 21.578125 24.515625 \r\nQ 13.234375 26.265625 9.515625 29.90625 \r\nQ 5.8125 33.546875 5.8125 39.890625 \r\nQ 5.8125 47.609375 11.28125 51.796875 \r\nQ 16.75 56 26.8125 56 \r\nQ 31.78125 56 36.171875 55.265625 \r\nQ 40.578125 54.546875 44.28125 53.078125 \r\nz\r\n\" id=\"DejaVuSans-115\"/>\r\n      <path d=\"M 18.3125 70.21875 \r\nL 18.3125 54.6875 \r\nL 36.8125 54.6875 \r\nL 36.8125 47.703125 \r\nL 18.3125 47.703125 \r\nL 18.3125 18.015625 \r\nQ 18.3125 11.328125 20.140625 9.421875 \r\nQ 21.96875 7.515625 27.59375 7.515625 \r\nL 36.8125 7.515625 \r\nL 36.8125 0 \r\nL 27.59375 0 \r\nQ 17.1875 0 13.234375 3.875 \r\nQ 9.28125 7.765625 9.28125 18.015625 \r\nL 9.28125 47.703125 \r\nL 2.6875 47.703125 \r\nL 2.6875 54.6875 \r\nL 9.28125 54.6875 \r\nL 9.28125 70.21875 \r\nz\r\n\" id=\"DejaVuSans-116\"/>\r\n      <path id=\"DejaVuSans-32\"/>\r\n      <path d=\"M 53.515625 70.515625 \r\nL 53.515625 60.890625 \r\nQ 47.90625 63.578125 42.921875 64.890625 \r\nQ 37.9375 66.21875 33.296875 66.21875 \r\nQ 25.25 66.21875 20.875 63.09375 \r\nQ 16.5 59.96875 16.5 54.203125 \r\nQ 16.5 49.359375 19.40625 46.890625 \r\nQ 22.3125 44.4375 30.421875 42.921875 \r\nL 36.375 41.703125 \r\nQ 47.40625 39.59375 52.65625 34.296875 \r\nQ 57.90625 29 57.90625 20.125 \r\nQ 57.90625 9.515625 50.796875 4.046875 \r\nQ 43.703125 -1.421875 29.984375 -1.421875 \r\nQ 24.8125 -1.421875 18.96875 -0.25 \r\nQ 13.140625 0.921875 6.890625 3.21875 \r\nL 6.890625 13.375 \r\nQ 12.890625 10.015625 18.65625 8.296875 \r\nQ 24.421875 6.59375 29.984375 6.59375 \r\nQ 38.421875 6.59375 43.015625 9.90625 \r\nQ 47.609375 13.234375 47.609375 19.390625 \r\nQ 47.609375 24.75 44.3125 27.78125 \r\nQ 41.015625 30.8125 33.5 32.328125 \r\nL 27.484375 33.5 \r\nQ 16.453125 35.6875 11.515625 40.375 \r\nQ 6.59375 45.0625 6.59375 53.421875 \r\nQ 6.59375 63.09375 13.40625 68.65625 \r\nQ 20.21875 74.21875 32.171875 74.21875 \r\nQ 37.3125 74.21875 42.625 73.28125 \r\nQ 47.953125 72.359375 53.515625 70.515625 \r\nz\r\n\" id=\"DejaVuSans-83\"/>\r\n      <path d=\"M 48.78125 52.59375 \r\nL 48.78125 44.1875 \r\nQ 44.96875 46.296875 41.140625 47.34375 \r\nQ 37.3125 48.390625 33.40625 48.390625 \r\nQ 24.65625 48.390625 19.8125 42.84375 \r\nQ 14.984375 37.3125 14.984375 27.296875 \r\nQ 14.984375 17.28125 19.8125 11.734375 \r\nQ 24.65625 6.203125 33.40625 6.203125 \r\nQ 37.3125 6.203125 41.140625 7.25 \r\nQ 44.96875 8.296875 48.78125 10.40625 \r\nL 48.78125 2.09375 \r\nQ 45.015625 0.34375 40.984375 -0.53125 \r\nQ 36.96875 -1.421875 32.421875 -1.421875 \r\nQ 20.0625 -1.421875 12.78125 6.34375 \r\nQ 5.515625 14.109375 5.515625 27.296875 \r\nQ 5.515625 40.671875 12.859375 48.328125 \r\nQ 20.21875 56 33.015625 56 \r\nQ 37.15625 56 41.109375 55.140625 \r\nQ 45.0625 54.296875 48.78125 52.59375 \r\nz\r\n\" id=\"DejaVuSans-99\"/>\r\n      <path d=\"M 30.609375 48.390625 \r\nQ 23.390625 48.390625 19.1875 42.75 \r\nQ 14.984375 37.109375 14.984375 27.296875 \r\nQ 14.984375 17.484375 19.15625 11.84375 \r\nQ 23.34375 6.203125 30.609375 6.203125 \r\nQ 37.796875 6.203125 41.984375 11.859375 \r\nQ 46.1875 17.53125 46.1875 27.296875 \r\nQ 46.1875 37.015625 41.984375 42.703125 \r\nQ 37.796875 48.390625 30.609375 48.390625 \r\nz\r\nM 30.609375 56 \r\nQ 42.328125 56 49.015625 48.375 \r\nQ 55.71875 40.765625 55.71875 27.296875 \r\nQ 55.71875 13.875 49.015625 6.21875 \r\nQ 42.328125 -1.421875 30.609375 -1.421875 \r\nQ 18.84375 -1.421875 12.171875 6.21875 \r\nQ 5.515625 13.875 5.515625 27.296875 \r\nQ 5.515625 40.765625 12.171875 48.375 \r\nQ 18.84375 56 30.609375 56 \r\nz\r\n\" id=\"DejaVuSans-111\"/>\r\n      <path d=\"M 41.109375 46.296875 \r\nQ 39.59375 47.171875 37.8125 47.578125 \r\nQ 36.03125 48 33.890625 48 \r\nQ 26.265625 48 22.1875 43.046875 \r\nQ 18.109375 38.09375 18.109375 28.8125 \r\nL 18.109375 0 \r\nL 9.078125 0 \r\nL 9.078125 54.6875 \r\nL 18.109375 54.6875 \r\nL 18.109375 46.1875 \r\nQ 20.953125 51.171875 25.484375 53.578125 \r\nQ 30.03125 56 36.53125 56 \r\nQ 37.453125 56 38.578125 55.875 \r\nQ 39.703125 55.765625 41.0625 55.515625 \r\nz\r\n\" id=\"DejaVuSans-114\"/>\r\n     </defs>\r\n     <g transform=\"translate(362.16875 470.356562)scale(0.1 -0.1)\">\r\n      <use xlink:href=\"#DejaVuSans-84\"/>\r\n      <use x=\"60.818359\" xlink:href=\"#DejaVuSans-101\"/>\r\n      <use x=\"122.341797\" xlink:href=\"#DejaVuSans-115\"/>\r\n      <use x=\"174.441406\" xlink:href=\"#DejaVuSans-116\"/>\r\n      <use x=\"213.650391\" xlink:href=\"#DejaVuSans-32\"/>\r\n      <use x=\"245.4375\" xlink:href=\"#DejaVuSans-49\"/>\r\n      <use x=\"309.060547\" xlink:href=\"#DejaVuSans-32\"/>\r\n      <use x=\"340.847656\" xlink:href=\"#DejaVuSans-83\"/>\r\n      <use x=\"404.324219\" xlink:href=\"#DejaVuSans-99\"/>\r\n      <use x=\"459.304688\" xlink:href=\"#DejaVuSans-111\"/>\r\n      <use x=\"520.486328\" xlink:href=\"#DejaVuSans-114\"/>\r\n      <use x=\"561.568359\" xlink:href=\"#DejaVuSans-101\"/>\r\n     </g>\r\n    </g>\r\n   </g>\r\n   <g id=\"matplotlib.axis_2\">\r\n    <g id=\"ytick_1\">\r\n     <g id=\"line2d_9\">\r\n      <defs>\r\n       <path d=\"M 0 0 \r\nL -3.5 0 \r\n\" id=\"m6e9b9d366c\" style=\"stroke:#000000;stroke-width:0.8;\"/>\r\n      </defs>\r\n      <g>\r\n       <use style=\"stroke:#000000;stroke-width:0.8;\" x=\"58.523438\" xlink:href=\"#m6e9b9d366c\" y=\"415.289665\"/>\r\n      </g>\r\n     </g>\r\n     <g id=\"text_10\">\r\n      <!-- −0.75 -->\r\n      <g transform=\"translate(20.878125 419.088884)scale(0.1 -0.1)\">\r\n       <use xlink:href=\"#DejaVuSans-8722\"/>\r\n       <use x=\"83.789062\" xlink:href=\"#DejaVuSans-48\"/>\r\n       <use x=\"147.412109\" xlink:href=\"#DejaVuSans-46\"/>\r\n       <use x=\"179.199219\" xlink:href=\"#DejaVuSans-55\"/>\r\n       <use x=\"242.822266\" xlink:href=\"#DejaVuSans-53\"/>\r\n      </g>\r\n     </g>\r\n    </g>\r\n    <g id=\"ytick_2\">\r\n     <g id=\"line2d_10\">\r\n      <g>\r\n       <use style=\"stroke:#000000;stroke-width:0.8;\" x=\"58.523438\" xlink:href=\"#m6e9b9d366c\" y=\"363.459029\"/>\r\n      </g>\r\n     </g>\r\n     <g id=\"text_11\">\r\n      <!-- −0.50 -->\r\n      <g transform=\"translate(20.878125 367.258248)scale(0.1 -0.1)\">\r\n       <use xlink:href=\"#DejaVuSans-8722\"/>\r\n       <use x=\"83.789062\" xlink:href=\"#DejaVuSans-48\"/>\r\n       <use x=\"147.412109\" xlink:href=\"#DejaVuSans-46\"/>\r\n       <use x=\"179.199219\" xlink:href=\"#DejaVuSans-53\"/>\r\n       <use x=\"242.822266\" xlink:href=\"#DejaVuSans-48\"/>\r\n      </g>\r\n     </g>\r\n    </g>\r\n    <g id=\"ytick_3\">\r\n     <g id=\"line2d_11\">\r\n      <g>\r\n       <use style=\"stroke:#000000;stroke-width:0.8;\" x=\"58.523438\" xlink:href=\"#m6e9b9d366c\" y=\"311.628393\"/>\r\n      </g>\r\n     </g>\r\n     <g id=\"text_12\">\r\n      <!-- −0.25 -->\r\n      <g transform=\"translate(20.878125 315.427612)scale(0.1 -0.1)\">\r\n       <use xlink:href=\"#DejaVuSans-8722\"/>\r\n       <use x=\"83.789062\" xlink:href=\"#DejaVuSans-48\"/>\r\n       <use x=\"147.412109\" xlink:href=\"#DejaVuSans-46\"/>\r\n       <use x=\"179.199219\" xlink:href=\"#DejaVuSans-50\"/>\r\n       <use x=\"242.822266\" xlink:href=\"#DejaVuSans-53\"/>\r\n      </g>\r\n     </g>\r\n    </g>\r\n    <g id=\"ytick_4\">\r\n     <g id=\"line2d_12\">\r\n      <g>\r\n       <use style=\"stroke:#000000;stroke-width:0.8;\" x=\"58.523438\" xlink:href=\"#m6e9b9d366c\" y=\"259.797757\"/>\r\n      </g>\r\n     </g>\r\n     <g id=\"text_13\">\r\n      <!-- 0.00 -->\r\n      <g transform=\"translate(29.257812 263.596976)scale(0.1 -0.1)\">\r\n       <use xlink:href=\"#DejaVuSans-48\"/>\r\n       <use x=\"63.623047\" xlink:href=\"#DejaVuSans-46\"/>\r\n       <use x=\"95.410156\" xlink:href=\"#DejaVuSans-48\"/>\r\n       <use x=\"159.033203\" xlink:href=\"#DejaVuSans-48\"/>\r\n      </g>\r\n     </g>\r\n    </g>\r\n    <g id=\"ytick_5\">\r\n     <g id=\"line2d_13\">\r\n      <g>\r\n       <use style=\"stroke:#000000;stroke-width:0.8;\" x=\"58.523438\" xlink:href=\"#m6e9b9d366c\" y=\"207.967121\"/>\r\n      </g>\r\n     </g>\r\n     <g id=\"text_14\">\r\n      <!-- 0.25 -->\r\n      <g transform=\"translate(29.257812 211.76634)scale(0.1 -0.1)\">\r\n       <use xlink:href=\"#DejaVuSans-48\"/>\r\n       <use x=\"63.623047\" xlink:href=\"#DejaVuSans-46\"/>\r\n       <use x=\"95.410156\" xlink:href=\"#DejaVuSans-50\"/>\r\n       <use x=\"159.033203\" xlink:href=\"#DejaVuSans-53\"/>\r\n      </g>\r\n     </g>\r\n    </g>\r\n    <g id=\"ytick_6\">\r\n     <g id=\"line2d_14\">\r\n      <g>\r\n       <use style=\"stroke:#000000;stroke-width:0.8;\" x=\"58.523438\" xlink:href=\"#m6e9b9d366c\" y=\"156.136485\"/>\r\n      </g>\r\n     </g>\r\n     <g id=\"text_15\">\r\n      <!-- 0.50 -->\r\n      <g transform=\"translate(29.257812 159.935704)scale(0.1 -0.1)\">\r\n       <use xlink:href=\"#DejaVuSans-48\"/>\r\n       <use x=\"63.623047\" xlink:href=\"#DejaVuSans-46\"/>\r\n       <use x=\"95.410156\" xlink:href=\"#DejaVuSans-53\"/>\r\n       <use x=\"159.033203\" xlink:href=\"#DejaVuSans-48\"/>\r\n      </g>\r\n     </g>\r\n    </g>\r\n    <g id=\"ytick_7\">\r\n     <g id=\"line2d_15\">\r\n      <g>\r\n       <use style=\"stroke:#000000;stroke-width:0.8;\" x=\"58.523438\" xlink:href=\"#m6e9b9d366c\" y=\"104.305849\"/>\r\n      </g>\r\n     </g>\r\n     <g id=\"text_16\">\r\n      <!-- 0.75 -->\r\n      <g transform=\"translate(29.257812 108.105068)scale(0.1 -0.1)\">\r\n       <use xlink:href=\"#DejaVuSans-48\"/>\r\n       <use x=\"63.623047\" xlink:href=\"#DejaVuSans-46\"/>\r\n       <use x=\"95.410156\" xlink:href=\"#DejaVuSans-55\"/>\r\n       <use x=\"159.033203\" xlink:href=\"#DejaVuSans-53\"/>\r\n      </g>\r\n     </g>\r\n    </g>\r\n    <g id=\"ytick_8\">\r\n     <g id=\"line2d_16\">\r\n      <g>\r\n       <use style=\"stroke:#000000;stroke-width:0.8;\" x=\"58.523438\" xlink:href=\"#m6e9b9d366c\" y=\"52.475213\"/>\r\n      </g>\r\n     </g>\r\n     <g id=\"text_17\">\r\n      <!-- 1.00 -->\r\n      <g transform=\"translate(29.257812 56.274432)scale(0.1 -0.1)\">\r\n       <use xlink:href=\"#DejaVuSans-49\"/>\r\n       <use x=\"63.623047\" xlink:href=\"#DejaVuSans-46\"/>\r\n       <use x=\"95.410156\" xlink:href=\"#DejaVuSans-48\"/>\r\n       <use x=\"159.033203\" xlink:href=\"#DejaVuSans-48\"/>\r\n      </g>\r\n     </g>\r\n    </g>\r\n    <g id=\"text_18\">\r\n     <!-- Test 2 Score -->\r\n     <g transform=\"translate(14.798437 255.794687)rotate(-90)scale(0.1 -0.1)\">\r\n      <use xlink:href=\"#DejaVuSans-84\"/>\r\n      <use x=\"60.818359\" xlink:href=\"#DejaVuSans-101\"/>\r\n      <use x=\"122.341797\" xlink:href=\"#DejaVuSans-115\"/>\r\n      <use x=\"174.441406\" xlink:href=\"#DejaVuSans-116\"/>\r\n      <use x=\"213.650391\" xlink:href=\"#DejaVuSans-32\"/>\r\n      <use x=\"245.4375\" xlink:href=\"#DejaVuSans-50\"/>\r\n      <use x=\"309.060547\" xlink:href=\"#DejaVuSans-32\"/>\r\n      <use x=\"340.847656\" xlink:href=\"#DejaVuSans-83\"/>\r\n      <use x=\"404.324219\" xlink:href=\"#DejaVuSans-99\"/>\r\n      <use x=\"459.304688\" xlink:href=\"#DejaVuSans-111\"/>\r\n      <use x=\"520.486328\" xlink:href=\"#DejaVuSans-114\"/>\r\n      <use x=\"561.568359\" xlink:href=\"#DejaVuSans-101\"/>\r\n     </g>\r\n    </g>\r\n   </g>\r\n   <g id=\"patch_3\">\r\n    <path d=\"M 58.523438 442.08 \r\nL 58.523438 7.2 \r\n\" style=\"fill:none;stroke:#000000;stroke-linecap:square;stroke-linejoin:miter;stroke-width:0.8;\"/>\r\n   </g>\r\n   <g id=\"patch_4\">\r\n    <path d=\"M 728.123438 442.08 \r\nL 728.123438 7.2 \r\n\" style=\"fill:none;stroke:#000000;stroke-linecap:square;stroke-linejoin:miter;stroke-width:0.8;\"/>\r\n   </g>\r\n   <g id=\"patch_5\">\r\n    <path d=\"M 58.523438 442.08 \r\nL 728.123438 442.08 \r\n\" style=\"fill:none;stroke:#000000;stroke-linecap:square;stroke-linejoin:miter;stroke-width:0.8;\"/>\r\n   </g>\r\n   <g id=\"patch_6\">\r\n    <path d=\"M 58.523438 7.2 \r\nL 728.123438 7.2 \r\n\" style=\"fill:none;stroke:#000000;stroke-linecap:square;stroke-linejoin:miter;stroke-width:0.8;\"/>\r\n   </g>\r\n   <g id=\"legend_1\">\r\n    <g id=\"patch_7\">\r\n     <path d=\"M 639.054688 59.234375 \r\nL 721.123438 59.234375 \r\nQ 723.123438 59.234375 723.123438 57.234375 \r\nL 723.123438 14.2 \r\nQ 723.123438 12.2 721.123438 12.2 \r\nL 639.054688 12.2 \r\nQ 637.054688 12.2 637.054688 14.2 \r\nL 637.054688 57.234375 \r\nQ 637.054688 59.234375 639.054688 59.234375 \r\nz\r\n\" style=\"fill:#ffffff;opacity:0.8;stroke:#cccccc;stroke-linejoin:miter;\"/>\r\n    </g>\r\n    <g id=\"PathCollection_4\">\r\n     <g>\r\n      <use style=\"fill:#0000ff;stroke:#0000ff;\" x=\"651.054688\" xlink:href=\"#m7b5a036cc3\" y=\"21.173437\"/>\r\n     </g>\r\n    </g>\r\n    <g id=\"text_19\">\r\n     <!-- Accepted -->\r\n     <defs>\r\n      <path d=\"M 34.1875 63.1875 \r\nL 20.796875 26.90625 \r\nL 47.609375 26.90625 \r\nz\r\nM 28.609375 72.90625 \r\nL 39.796875 72.90625 \r\nL 67.578125 0 \r\nL 57.328125 0 \r\nL 50.6875 18.703125 \r\nL 17.828125 18.703125 \r\nL 11.1875 0 \r\nL 0.78125 0 \r\nz\r\n\" id=\"DejaVuSans-65\"/>\r\n      <path d=\"M 18.109375 8.203125 \r\nL 18.109375 -20.796875 \r\nL 9.078125 -20.796875 \r\nL 9.078125 54.6875 \r\nL 18.109375 54.6875 \r\nL 18.109375 46.390625 \r\nQ 20.953125 51.265625 25.265625 53.625 \r\nQ 29.59375 56 35.59375 56 \r\nQ 45.5625 56 51.78125 48.09375 \r\nQ 58.015625 40.1875 58.015625 27.296875 \r\nQ 58.015625 14.40625 51.78125 6.484375 \r\nQ 45.5625 -1.421875 35.59375 -1.421875 \r\nQ 29.59375 -1.421875 25.265625 0.953125 \r\nQ 20.953125 3.328125 18.109375 8.203125 \r\nz\r\nM 48.6875 27.296875 \r\nQ 48.6875 37.203125 44.609375 42.84375 \r\nQ 40.53125 48.484375 33.40625 48.484375 \r\nQ 26.265625 48.484375 22.1875 42.84375 \r\nQ 18.109375 37.203125 18.109375 27.296875 \r\nQ 18.109375 17.390625 22.1875 11.75 \r\nQ 26.265625 6.109375 33.40625 6.109375 \r\nQ 40.53125 6.109375 44.609375 11.75 \r\nQ 48.6875 17.390625 48.6875 27.296875 \r\nz\r\n\" id=\"DejaVuSans-112\"/>\r\n      <path d=\"M 45.40625 46.390625 \r\nL 45.40625 75.984375 \r\nL 54.390625 75.984375 \r\nL 54.390625 0 \r\nL 45.40625 0 \r\nL 45.40625 8.203125 \r\nQ 42.578125 3.328125 38.25 0.953125 \r\nQ 33.9375 -1.421875 27.875 -1.421875 \r\nQ 17.96875 -1.421875 11.734375 6.484375 \r\nQ 5.515625 14.40625 5.515625 27.296875 \r\nQ 5.515625 40.1875 11.734375 48.09375 \r\nQ 17.96875 56 27.875 56 \r\nQ 33.9375 56 38.25 53.625 \r\nQ 42.578125 51.265625 45.40625 46.390625 \r\nz\r\nM 14.796875 27.296875 \r\nQ 14.796875 17.390625 18.875 11.75 \r\nQ 22.953125 6.109375 30.078125 6.109375 \r\nQ 37.203125 6.109375 41.296875 11.75 \r\nQ 45.40625 17.390625 45.40625 27.296875 \r\nQ 45.40625 37.203125 41.296875 42.84375 \r\nQ 37.203125 48.484375 30.078125 48.484375 \r\nQ 22.953125 48.484375 18.875 42.84375 \r\nQ 14.796875 37.203125 14.796875 27.296875 \r\nz\r\n\" id=\"DejaVuSans-100\"/>\r\n     </defs>\r\n     <g transform=\"translate(669.054688 23.798437)scale(0.1 -0.1)\">\r\n      <use xlink:href=\"#DejaVuSans-65\"/>\r\n      <use x=\"68.392578\" xlink:href=\"#DejaVuSans-99\"/>\r\n      <use x=\"123.373047\" xlink:href=\"#DejaVuSans-99\"/>\r\n      <use x=\"178.353516\" xlink:href=\"#DejaVuSans-101\"/>\r\n      <use x=\"239.876953\" xlink:href=\"#DejaVuSans-112\"/>\r\n      <use x=\"303.353516\" xlink:href=\"#DejaVuSans-116\"/>\r\n      <use x=\"342.5625\" xlink:href=\"#DejaVuSans-101\"/>\r\n      <use x=\"404.085938\" xlink:href=\"#DejaVuSans-100\"/>\r\n     </g>\r\n    </g>\r\n    <g id=\"PathCollection_5\">\r\n     <g>\r\n      <use style=\"fill:#ff0000;stroke:#ff0000;stroke-width:1.5;\" x=\"651.054688\" xlink:href=\"#m90393d034f\" y=\"35.851562\"/>\r\n     </g>\r\n    </g>\r\n    <g id=\"text_20\">\r\n     <!-- Rejected -->\r\n     <defs>\r\n      <path d=\"M 44.390625 34.1875 \r\nQ 47.5625 33.109375 50.5625 29.59375 \r\nQ 53.5625 26.078125 56.59375 19.921875 \r\nL 66.609375 0 \r\nL 56 0 \r\nL 46.6875 18.703125 \r\nQ 43.0625 26.03125 39.671875 28.421875 \r\nQ 36.28125 30.8125 30.421875 30.8125 \r\nL 19.671875 30.8125 \r\nL 19.671875 0 \r\nL 9.8125 0 \r\nL 9.8125 72.90625 \r\nL 32.078125 72.90625 \r\nQ 44.578125 72.90625 50.734375 67.671875 \r\nQ 56.890625 62.453125 56.890625 51.90625 \r\nQ 56.890625 45.015625 53.6875 40.46875 \r\nQ 50.484375 35.9375 44.390625 34.1875 \r\nz\r\nM 19.671875 64.796875 \r\nL 19.671875 38.921875 \r\nL 32.078125 38.921875 \r\nQ 39.203125 38.921875 42.84375 42.21875 \r\nQ 46.484375 45.515625 46.484375 51.90625 \r\nQ 46.484375 58.296875 42.84375 61.546875 \r\nQ 39.203125 64.796875 32.078125 64.796875 \r\nz\r\n\" id=\"DejaVuSans-82\"/>\r\n      <path d=\"M 9.421875 54.6875 \r\nL 18.40625 54.6875 \r\nL 18.40625 -0.984375 \r\nQ 18.40625 -11.421875 14.421875 -16.109375 \r\nQ 10.453125 -20.796875 1.609375 -20.796875 \r\nL -1.8125 -20.796875 \r\nL -1.8125 -13.1875 \r\nL 0.59375 -13.1875 \r\nQ 5.71875 -13.1875 7.5625 -10.8125 \r\nQ 9.421875 -8.453125 9.421875 -0.984375 \r\nz\r\nM 9.421875 75.984375 \r\nL 18.40625 75.984375 \r\nL 18.40625 64.59375 \r\nL 9.421875 64.59375 \r\nz\r\n\" id=\"DejaVuSans-106\"/>\r\n     </defs>\r\n     <g transform=\"translate(669.054688 38.476562)scale(0.1 -0.1)\">\r\n      <use xlink:href=\"#DejaVuSans-82\"/>\r\n      <use x=\"69.419922\" xlink:href=\"#DejaVuSans-101\"/>\r\n      <use x=\"130.943359\" xlink:href=\"#DejaVuSans-106\"/>\r\n      <use x=\"158.726562\" xlink:href=\"#DejaVuSans-101\"/>\r\n      <use x=\"220.25\" xlink:href=\"#DejaVuSans-99\"/>\r\n      <use x=\"275.230469\" xlink:href=\"#DejaVuSans-116\"/>\r\n      <use x=\"314.439453\" xlink:href=\"#DejaVuSans-101\"/>\r\n      <use x=\"375.962891\" xlink:href=\"#DejaVuSans-100\"/>\r\n     </g>\r\n    </g>\r\n    <g id=\"PathCollection_6\">\r\n     <g>\r\n      <use style=\"fill:#bfbf00;stroke:#bfbf00;\" x=\"651.054688\" xlink:href=\"#md19cf0143f\" y=\"50.529687\"/>\r\n     </g>\r\n    </g>\r\n    <g id=\"text_21\">\r\n     <!-- Prediction -->\r\n     <defs>\r\n      <path d=\"M 19.671875 64.796875 \r\nL 19.671875 37.40625 \r\nL 32.078125 37.40625 \r\nQ 38.96875 37.40625 42.71875 40.96875 \r\nQ 46.484375 44.53125 46.484375 51.125 \r\nQ 46.484375 57.671875 42.71875 61.234375 \r\nQ 38.96875 64.796875 32.078125 64.796875 \r\nz\r\nM 9.8125 72.90625 \r\nL 32.078125 72.90625 \r\nQ 44.34375 72.90625 50.609375 67.359375 \r\nQ 56.890625 61.8125 56.890625 51.125 \r\nQ 56.890625 40.328125 50.609375 34.8125 \r\nQ 44.34375 29.296875 32.078125 29.296875 \r\nL 19.671875 29.296875 \r\nL 19.671875 0 \r\nL 9.8125 0 \r\nz\r\n\" id=\"DejaVuSans-80\"/>\r\n      <path d=\"M 9.421875 54.6875 \r\nL 18.40625 54.6875 \r\nL 18.40625 0 \r\nL 9.421875 0 \r\nz\r\nM 9.421875 75.984375 \r\nL 18.40625 75.984375 \r\nL 18.40625 64.59375 \r\nL 9.421875 64.59375 \r\nz\r\n\" id=\"DejaVuSans-105\"/>\r\n      <path d=\"M 54.890625 33.015625 \r\nL 54.890625 0 \r\nL 45.90625 0 \r\nL 45.90625 32.71875 \r\nQ 45.90625 40.484375 42.875 44.328125 \r\nQ 39.84375 48.1875 33.796875 48.1875 \r\nQ 26.515625 48.1875 22.3125 43.546875 \r\nQ 18.109375 38.921875 18.109375 30.90625 \r\nL 18.109375 0 \r\nL 9.078125 0 \r\nL 9.078125 54.6875 \r\nL 18.109375 54.6875 \r\nL 18.109375 46.1875 \r\nQ 21.34375 51.125 25.703125 53.5625 \r\nQ 30.078125 56 35.796875 56 \r\nQ 45.21875 56 50.046875 50.171875 \r\nQ 54.890625 44.34375 54.890625 33.015625 \r\nz\r\n\" id=\"DejaVuSans-110\"/>\r\n     </defs>\r\n     <g transform=\"translate(669.054688 53.154687)scale(0.1 -0.1)\">\r\n      <use xlink:href=\"#DejaVuSans-80\"/>\r\n      <use x=\"60.287109\" xlink:href=\"#DejaVuSans-114\"/>\r\n      <use x=\"101.369141\" xlink:href=\"#DejaVuSans-101\"/>\r\n      <use x=\"162.892578\" xlink:href=\"#DejaVuSans-100\"/>\r\n      <use x=\"226.369141\" xlink:href=\"#DejaVuSans-105\"/>\r\n      <use x=\"254.152344\" xlink:href=\"#DejaVuSans-99\"/>\r\n      <use x=\"309.132812\" xlink:href=\"#DejaVuSans-116\"/>\r\n      <use x=\"348.341797\" xlink:href=\"#DejaVuSans-105\"/>\r\n      <use x=\"376.125\" xlink:href=\"#DejaVuSans-111\"/>\r\n      <use x=\"437.306641\" xlink:href=\"#DejaVuSans-110\"/>\r\n     </g>\r\n    </g>\r\n   </g>\r\n  </g>\r\n </g>\r\n <defs>\r\n  <clipPath id=\"p14d589f0ec\">\r\n   <rect height=\"434.88\" width=\"669.6\" x=\"58.523438\" y=\"7.2\"/>\r\n  </clipPath>\r\n </defs>\r\n</svg>\r\n",
      "image/png": "[encoded data removed]"
     },
     "metadata": {
      "needs_background": "light"
     }
    }
   ],
   "source": [
    "fig, ax = plt.subplots(figsize=(12,8))\n",
    "ax.scatter(positive['Test 1'], positive['Test 2'], s=50, c='b', marker='o', label='Accepted')\n",
    "ax.scatter(negative['Test 1'], negative['Test 2'], s=50, c='r', marker='x', label='Rejected')\n",
    "ax.set_xlabel('Test 1 Score')\n",
    "ax.set_ylabel('Test 2 Score')\n",
    "\n",
    "x, y = find_decision_boundary(result)\n",
    "plt.scatter(x, y, c='y', s=10, label='Prediction')\n",
    "ax.legend()\n",
    "plt.show()"
   ]
  },
  {
   "cell_type": "code",
   "execution_count": 179,
   "metadata": {},
   "outputs": [
    {
     "output_type": "execute_result",
     "data": {
      "text/plain": [
       "0.6931471805599454"
      ]
     },
     "metadata": {},
     "execution_count": 179
    }
   ],
   "source": [
    "costReg(theta,X,y,learningRate)"
   ]
  },
  {
   "cell_type": "code",
   "execution_count": 180,
   "metadata": {},
   "outputs": [],
   "source": [
    "learningRate = 0 #过拟合\n",
    "result = opt.fmin_tnc(func = costReg,x0 = theta,fprime = gradientReg,args = (X,y,learningRate))"
   ]
  },
  {
   "cell_type": "code",
   "execution_count": 181,
   "metadata": {},
   "outputs": [
    {
     "output_type": "execute_result",
     "data": {
      "text/plain": [
       "(array([  13.21662791,   17.63904891,    5.27881592, -136.13732177,\n",
       "         -67.12242042,  -52.94668399, -147.43086589,  -91.68410686,\n",
       "         -38.38361129,    6.59822331,  495.35657992,  402.46736709,\n",
       "         511.3069028 ,  206.24695325,   66.55863181,  273.9167483 ,\n",
       "         304.90920777,  318.45935938,  157.30786853,   54.95286981,\n",
       "           1.80807367, -601.66243281, -692.5740057 , -962.14314287,\n",
       "        -654.83889729, -639.88930817, -262.03506162,  -50.59000875]),\n",
       " 280,\n",
       " 3)"
      ]
     },
     "metadata": {},
     "execution_count": 181
    }
   ],
   "source": [
    "result"
   ]
  },
  {
   "cell_type": "code",
   "execution_count": null,
   "metadata": {},
   "outputs": [],
   "source": []
  }
 ]
}