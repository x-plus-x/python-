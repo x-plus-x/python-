{
 "metadata": {
  "language_info": {
   "codemirror_mode": {
    "name": "ipython",
    "version": 3
   },
   "file_extension": ".py",
   "mimetype": "text/x-python",
   "name": "python",
   "nbconvert_exporter": "python",
   "pygments_lexer": "ipython3",
   "version": "3.7.4-final"
  },
  "orig_nbformat": 2,
  "kernelspec": {
   "name": "python3",
   "display_name": "Python 3.7.4 64-bit",
   "metadata": {
    "interpreter": {
     "hash": "a20962ab0bdd4a5be55dd7f3746e71b78cc04582d90385c1a70284013e0cd86d"
    }
   }
  }
 },
 "nbformat": 4,
 "nbformat_minor": 2,
 "cells": [
  {
   "cell_type": "code",
   "execution_count": null,
   "metadata": {},
   "outputs": [],
   "source": [
    "# https://www.kesci.com/mw/project/5da56d46c83fb4004202c42b 参考笔记"
   ]
  },
  {
   "cell_type": "code",
   "execution_count": 1,
   "metadata": {},
   "outputs": [],
   "source": [
    "import numpy as np\n",
    "import pandas as pd\n",
    "import matplotlib.pyplot as plt\n",
    "import matplotlib\n",
    "from scipy.io import loadmat #读取.mat格式的数据 需要用scipy\n",
    "from sklearn.metrics import classification_report"
   ]
  },
  {
   "cell_type": "code",
   "execution_count": 2,
   "metadata": {},
   "outputs": [
    {
     "output_type": "execute_result",
     "data": {
      "text/plain": [
       "{'__header__': b'MATLAB 5.0 MAT-file, Platform: GLNXA64, Created on: Sun Oct 16 13:09:09 2011',\n",
       " '__version__': '1.0',\n",
       " '__globals__': [],\n",
       " 'X': array([[0., 0., 0., ..., 0., 0., 0.],\n",
       "        [0., 0., 0., ..., 0., 0., 0.],\n",
       "        [0., 0., 0., ..., 0., 0., 0.],\n",
       "        ...,\n",
       "        [0., 0., 0., ..., 0., 0., 0.],\n",
       "        [0., 0., 0., ..., 0., 0., 0.],\n",
       "        [0., 0., 0., ..., 0., 0., 0.]]),\n",
       " 'y': array([[10],\n",
       "        [10],\n",
       "        [10],\n",
       "        ...,\n",
       "        [ 9],\n",
       "        [ 9],\n",
       "        [ 9]], dtype=uint8)}"
      ]
     },
     "metadata": {},
     "execution_count": 2
    }
   ],
   "source": [
    "data = loadmat(r'D:\\Plus\\PYTHON\\吴恩达练习\\data_sets\\ex3data1.mat')  \n",
    "data"
   ]
  },
  {
   "cell_type": "code",
   "execution_count": 3,
   "metadata": {},
   "outputs": [
    {
     "output_type": "execute_result",
     "data": {
      "text/plain": [
       "((5000, 400), (5000, 1))"
      ]
     },
     "metadata": {},
     "execution_count": 3
    }
   ],
   "source": [
    "data['X'].shape,data['y'].shape # 5000组数据 每个数据400列"
   ]
  },
  {
   "cell_type": "code",
   "execution_count": 4,
   "metadata": {},
   "outputs": [
    {
     "output_type": "execute_result",
     "data": {
      "text/plain": [
       "array([[0., 0., 0., ..., 0., 0., 0.],\n",
       "       [0., 0., 0., ..., 0., 0., 0.],\n",
       "       [0., 0., 0., ..., 0., 0., 0.],\n",
       "       ...,\n",
       "       [0., 0., 0., ..., 0., 0., 0.],\n",
       "       [0., 0., 0., ..., 0., 0., 0.],\n",
       "       [0., 0., 0., ..., 0., 0., 0.]])"
      ]
     },
     "metadata": {},
     "execution_count": 4
    }
   ],
   "source": [
    "# 数据可视化 —— 随机展示100个数据\n",
    "sample_idx = np.random.choice(np.arange(data['X'].shape[0]),10)\n",
    "sample_images = data['X'][sample_idx,:] # sampleid 是数组 所以是可以传入数组来挑取特定行\n",
    "sample_images"
   ]
  },
  {
   "cell_type": "code",
   "execution_count": 5,
   "metadata": {},
   "outputs": [
    {
     "output_type": "display_data",
     "data": {
      "text/plain": "<Figure size 864x864 with 10 Axes>",
      "image/svg+xml": "<?xml version=\"1.0\" encoding=\"utf-8\" standalone=\"no\"?>\r\n<!DOCTYPE svg PUBLIC \"-//W3C//DTD SVG 1.1//EN\"\r\n  \"http://www.w3.org/Graphics/SVG/1.1/DTD/svg11.dtd\">\r\n<!-- Created with matplotlib (https://matplotlib.org/) -->\r\n<svg height=\"673.72pt\" version=\"1.1\" viewBox=\"0 0 495.605329 673.72\" width=\"495.605329pt\" xmlns=\"http://www.w3.org/2000/svg\" xmlns:xlink=\"http://www.w3.org/1999/xlink\">\r\n <defs>\r\n  <style type=\"text/css\">\r\n*{stroke-linecap:butt;stroke-linejoin:round;}\r\n  </style>\r\n </defs>\r\n <g id=\"figure_1\">\r\n  <g id=\"patch_1\">\r\n   <path d=\"M 0 673.72 \r\nL 495.605329 673.72 \r\nL 495.605329 0 \r\nL 0 0 \r\nz\r\n\" style=\"fill:none;\"/>\r\n  </g>\r\n  <g id=\"axes_1\">\r\n   <g id=\"patch_2\">\r\n    <path d=\"M 10.7 123.168966 \r\nL 123.168966 123.168966 \r\nL 123.168966 10.7 \r\nL 10.7 10.7 \r\nz\r\n\" style=\"fill:#ffffff;\"/>\r\n   </g>\r\n   <g clip-path=\"url(#pb38c2a8b0e)\">\r\n    <image height=\"113\" id=\"image918a2e10dc\" transform=\"scale(1 -1)translate(0 -113)\" width=\"113\" x=\"10.7\" xlink:href=\"data:image/png;base64,\r\niVBORw0KGgoAAAANSUhEUgAAAHEAAABxCAYAAADifkzQAAAABHNCSVQICAgIfAhkiAAABFhJREFUeJztnU0rbWEYht/tqxihRChJppSBKD9AJgbClIGvMlYMjEgmysDAzEBGBkryUX4CA0wMSEntmKBN8nl+wHM/ss9Za529b/c1vHvireu8ec561vuuVCaT+QoJUlhYCPPr62uYp9Npk3V0dMDa19fXv19YHlPwvxcg/h1JJEASCZBEAiSRgKKkf2FJSQnM9/f3Yb64uGiyzc1NWNvW1may39CxaicSIIkESCIBkkhA4o3Nx8cHzJubm2H+/v5usqmpKVi7trZmsrq6Olj79vbmrDD/0E4kQBIJkEQCJJEASSQglfRQ2KOoCDfKCwsLJpufn4e1IyMjJpubm4O1paWlMP/8/PSWmLNoJxIgiQRIIgGSSIAkEpDz3enFxYXJ+vr6YO3NzY3JDg8PYW1rayvM8/GZqnYiAZJIgCQSIIkEJN7YFBTgfzdeY1NcXGwyNPwNIYTR0VGT9fT0wNrV1VWYl5eXmwwNpnMJ7UQCJJEASSRAEgmQRAJifWURdaIPDw+w9uTkBOadnZ0m6+3thbXoPMfBwQGs3dragvnw8LDJUIccgj9ARvnXV3z/CdBOJEASCZBEAiSRAEkkIJLuNJVKwRzdWbO7uwtrZ2ZmYD44OGiypqYmWNvY2Ggyb8g7OzsLczRY7u/vh7VVVVUwR89fvU42iq5VO5EASSRAEgmQRAJiHQqjQe/5+TmsHRsbg/nR0ZHJvEv+UJPgXbmSzSOzmpoaWFtbWwvzoaEhkw0MDMBabxieTcOjnUiAJBIgiQRIIgGSSECsQ2F0Z413X433CuHt7a3JMpkMrD0+PjZZS0sLrN3Y2ID5zs6OyZ6fn2FtfX09zNEw3Ouoo0A7kQBJJEASCZBEAiSRgMQP1HjPCr3uDQ2cveeKaADsvW749PQE88nJSZOtr6/D2omJCZgvLS2ZzFtzFPfmaCcSIIkESCIBkkhAJI2N97Yb+qN9dXUFa6urq2FeUVHxo5/rrcNrKLwG6/T01GTj4+Ow9vLyEuYrKysm886PRPHdDu1EAiSRAEkkQBIJkEQCYh0Ko84LPdYKIYSuri6Yt7e3m8w7X4E6Ua9z9s5zNDQ0mMzrLKenp2G+vb1tsu7ubljr3eujVxZ/GZJIgCQSIIkExNrYoBmh94ccfXY2BNyYeF9+Q7/PaxC8cxSVlZUme3x8hLXerPLs7Mxkd3d3Wa0jm0sBtRMJkEQCJJEASSRAEgmItTtFg9fl5WVYm06nYY6GtN5pY/SIDn1XI4QQ7u/vf5zv7e3BWnTVSQj42hbvuhSv084G7UQCJJEASSRAEgmQRAISP4vhPW/0XiFEA2DvuSL62V73l83ZiJeXF1jrUVZW9uNaXdAnQgiSSIEkEiCJBOTM52g9vLfVcnkNqFnRdzHEt0giAZJIgCQSIIkExDoUjoI4u7p8WsN3aCcSIIkESCIBkkiAJBIgiQRIIgGSSIAkEiCJBEgiAZJIgCQSIIkESCIBkkjAH11gRWGbPyp8AAAAAElFTkSuQmCC\" y=\"-10.168966\"/>\r\n   </g>\r\n   <g id=\"matplotlib.axis_1\"/>\r\n   <g id=\"matplotlib.axis_2\"/>\r\n   <g id=\"patch_3\">\r\n    <path d=\"M 10.7 123.168966 \r\nL 10.7 10.7 \r\n\" style=\"fill:none;stroke:#000000;stroke-linecap:square;stroke-linejoin:miter;stroke-width:0.8;\"/>\r\n   </g>\r\n   <g id=\"patch_4\">\r\n    <path d=\"M 123.168966 123.168966 \r\nL 123.168966 10.7 \r\n\" style=\"fill:none;stroke:#000000;stroke-linecap:square;stroke-linejoin:miter;stroke-width:0.8;\"/>\r\n   </g>\r\n   <g id=\"patch_5\">\r\n    <path d=\"M 10.7 123.168966 \r\nL 123.168966 123.168966 \r\n\" style=\"fill:none;stroke:#000000;stroke-linecap:square;stroke-linejoin:miter;stroke-width:0.8;\"/>\r\n   </g>\r\n   <g id=\"patch_6\">\r\n    <path d=\"M 10.7 10.7 \r\nL 123.168966 10.7 \r\n\" style=\"fill:none;stroke:#000000;stroke-linecap:square;stroke-linejoin:miter;stroke-width:0.8;\"/>\r\n   </g>\r\n  </g>\r\n  <g id=\"axes_2\">\r\n   <g id=\"patch_7\">\r\n    <path d=\"M 375.936364 123.168966 \r\nL 488.405329 123.168966 \r\nL 488.405329 10.7 \r\nL 375.936364 10.7 \r\nz\r\n\" style=\"fill:#ffffff;\"/>\r\n   </g>\r\n   <g clip-path=\"url(#p9d252eb462)\">\r\n    <image height=\"113\" id=\"imagee131957dab\" transform=\"scale(1 -1)translate(0 -113)\" width=\"113\" x=\"375.936364\" xlink:href=\"data:image/png;base64,\r\niVBORw0KGgoAAAANSUhEUgAAAHEAAABxCAYAAADifkzQAAAABHNCSVQICAgIfAhkiAAABIpJREFUeJztncsrfl0cxbe73KXcEmVggn9BKCnlWmLyGMuIJAbyBygpKYWkKAPJxEzIgInchpgYKQM8Lrnk9o7e0XftN0+/5/k5rXd9hqsVRx+7vu1z9jlx4XD42wWYhIQEk6WlpcHux8eHyV5eXqJ+TUEj/rcvQPw5kkiAJBIgiQRIIgGJv30B/4KmUOecOz8/N9ns7CzsVlVVmSwUCsFuXFwczL+/Az2sQ7QSCZBEAiSRAEkkIC4o225JSUkwv7i4MFltbS3sZmVlmWx7ext28/PzYf719eW5wuCilUiAJBIgiQRIIgGSSEBgtt18U2Fubq7JKisrYffk5MRkd3d3sFtQUBDB1QUbrUQCJJEASSRAEgmQRAICM536bsZmZmaarKKiAnb39/dNdnp6CrvV1dUw//z89F1iYNFKJEASCZBEAiSRgJgONvHx9n8k0puuGRkZJqurq4Pd1dVVk62trcFuZ2cnzNHN6ff39/+6xF9HK5EASSRAEgmQRAIkkYCoTKe+cw2Pj48my8nJgd3b21uYHx8fm6yoqAh20Xbc3t4e7E5NTcG8ubnZZOXl5bAblMcbtRIJkEQCJJEASSRAEgmI6EAN2gt1zrm3tzeYDwwMmOzg4OCnv84559z9/b3JfDeQ0eOJvn3P9PR0mKM91enpadgNyp6qViIBkkiAJBIgiQREZdvNN/A8PDyY7OzsDHZTUlJgjs5MlJWVwS56Bcrl5SXsbm5u/vg6fH9fUAj21YkfIYkESCIBkkiAJBIQlffY+N5Bc3R0ZLL29nbYDYfDMG9qajKZ74Yumlp923xdXV0wf3p6Mtn8/DzsNjY2wvz19RXmsUIrkQBJJEASCZBEAiSRgJi+ZTE1NdVkW1tbsNvX1wdzdKO3v78fdgcHB03m25MdHx+H+djYmMl8E/Xc3BzM0e+M5QlkrUQCJJEASSRAEgmI6WATyUnh9fV1mI+OjprMd25jaGjIZMPDw7CLXkvtnHMdHR0mu7q6gt3FxUWYt7a2msz3RGA00EokQBIJkEQCJJEASSTgr3/cxPf4n++08cbGhsnQFOqcczc3NyZbWFiA3ba2NpgvLS2ZrLe3F3YbGhpgvrKyYjK0Bemc/zxHJF+P00okQBIJkEQCJJGAwHy1zTfwoHx5eRl2R0ZGTFZYWAi76GV+zjlXXFxssu7ubtjd2dmB+eTkpMnq6+th1/d9DvQEoW/Y0UokQBIJkEQCJJEASSQgMN/FiORld6FQCOa7u7smQy/4c8655+dnmGdnZ5usp6cHdg8PD2GOpuSamhrYnZmZgXleXp7JfE/MaSUSIIkESCIBkkiAJBIQmOnURyRT68TEhMmur69ht6SkBOZoam1paYHd5ORkmKOTxaWlpbCbmPjnCrQSCZBEAiSRAEkkIDA3haMBuoHse4rONzChG6++n+EbStDA49sy853R0NNu/zMkkQBJJEASCZBEAgK/7RYJsfqKmm9S9J2j+Nvfy9BKJEASCZBEAiSRAEkkQBIJkEQCJJEASSRAEgmQRAIkkQBJJEASCZBEAiSRgH8Aq4gzHAjQSXAAAAAASUVORK5CYII=\" y=\"-10.168966\"/>\r\n   </g>\r\n   <g id=\"matplotlib.axis_3\"/>\r\n   <g id=\"matplotlib.axis_4\"/>\r\n   <g id=\"patch_8\">\r\n    <path d=\"M 375.936364 123.168966 \r\nL 375.936364 10.7 \r\n\" style=\"fill:none;stroke:#000000;stroke-linecap:square;stroke-linejoin:miter;stroke-width:0.8;\"/>\r\n   </g>\r\n   <g id=\"patch_9\">\r\n    <path d=\"M 488.405329 123.168966 \r\nL 488.405329 10.7 \r\n\" style=\"fill:none;stroke:#000000;stroke-linecap:square;stroke-linejoin:miter;stroke-width:0.8;\"/>\r\n   </g>\r\n   <g id=\"patch_10\">\r\n    <path d=\"M 375.936364 123.168966 \r\nL 488.405329 123.168966 \r\n\" style=\"fill:none;stroke:#000000;stroke-linecap:square;stroke-linejoin:miter;stroke-width:0.8;\"/>\r\n   </g>\r\n   <g id=\"patch_11\">\r\n    <path d=\"M 375.936364 10.7 \r\nL 488.405329 10.7 \r\n\" style=\"fill:none;stroke:#000000;stroke-linecap:square;stroke-linejoin:miter;stroke-width:0.8;\"/>\r\n   </g>\r\n  </g>\r\n  <g id=\"axes_3\">\r\n   <g id=\"patch_12\">\r\n    <path d=\"M 10.7 258.131724 \r\nL 123.168966 258.131724 \r\nL 123.168966 145.662759 \r\nL 10.7 145.662759 \r\nz\r\n\" style=\"fill:#ffffff;\"/>\r\n   </g>\r\n   <g clip-path=\"url(#p528e8e39f3)\">\r\n    <image height=\"113\" id=\"image66844e0b06\" transform=\"scale(1 -1)translate(0 -113)\" width=\"113\" x=\"10.7\" xlink:href=\"data:image/png;base64,\r\niVBORw0KGgoAAAANSUhEUgAAAHEAAABxCAYAAADifkzQAAAABHNCSVQICAgIfAhkiAAABNxJREFUeJztncsrtV0YxpdzJqTkUAZI5DxlhkiMJBNlIBMiMjCS5B8g6S2lZMDIxEQZiChJFBkIe0A5DITSzvn4/QHrut/v2732fn1X1294dQ8eflbu7vWs9UQFg8EvJ/7XRP/tBxB/jiQSIIkESCIBkkhA7N9+gH8jJibGy6KjI/u39/WFG/iPj4+Q6sOFViIBkkiAJBIgiQT8mMYmLi4O5oFAwMtGRkZg7d7enpfFxuIf8f39HebV1dVe1tnZCWsLCwthjhqvcDY7WokESCIBkkiAJBIgiQRERXpT2BqZBYNBmA8ODnrZ8/PzHz9HVFQUzI+Ojrzs+voa1k5OTsK8rq7Oy15fX0N4utDQSiRAEgmQRAIkkQBJJCCss1PUAb69vcHa8fFxmG9tbXnZ3NwcrC0uLvYyqytEm83OOXdycuJlfX19sHZ6ehrmlZWVXpaQkABrv2OmqpVIgCQSIIkESCIBEd8Utv7BW5vCx8fHXjY6Ogprf/365WWJiYmw9vPzE+alpaVeVlNTA2ut57i5ufGyrKwsWKvGRjjnJJECSSRAEgmQRALC2p2izsvqQlNTU2GOutmFhQVYW1tb62VtbW2w1nqVcXl52ctmZmZgbVNTE8zT09O9TK8sit8iiQRIIgGSSIAkEhDx2al1ujYvLw/mGRkZXnZxcQFrl5aWvMzqILe3t2He1dXlZdbGckdHB8zRvFavLIrfIokESCIBkkhAxM9iWFhjsJWVFS8bHh6GtehNtfr6eli7v78PczQeszZ/0ZkL58LbxCC0EgmQRAIkkQBJJEASCfgx3Wl8fDzMUac3MDAAa6emprzMOhGMxnnOOTc7O+tl6G4b55x7fHyEuS7oEyEjiQRIIgGSSIAkEhDxTWFrRnpwcADzsbExL1tcXIS1BQUFXnZ3dwdrrXtzUHealpYGa/Pz82GODutYtzp+B1qJBEgiAZJIgCQSENaxGzp3sbOzA2u7u7thfnp66mW9vb2wtqWlxcvOz89h7cTEBMzX1ta8rKSkBNZWVFTAHL0xV1RUBGutK2FCQSuRAEkkQBIJkEQCJJGAb+lOrSuh0cirsbER1t7e3sIcXdzX0NAAa1E3bG0KX11dwXx+ft7LrAsB0VXTzuGTwkNDQ7C2tbUV5mh0Z202ayUSIIkESCIBkkjAt+wnWrf4rq6uetnh4SGsRdeXOIf37Kw9SdTEWIdarStXenp6vKy9vR3WbmxswHxzc9PLrH1Na+xm/U4RWokESCIBkkiAJBIgiQR8y9jN6qTQadzm5mZYa3Vv2dnZXmadjUhOTvay8vJyWIu+oWGRmZkJ85SUFJg/PT15mfUNjYeHB5j39/d7mdVpayUSIIkESCIBkkiAJBIQ8ZPCaJ7qnHPr6+swR2c00GuMFmdnZzA3N1jBBndVVRWsLSsrg/nl5eV/fo7c3FyYo+8VW+c5tBIJkEQCJJEASSQg4o2NtaFrfS/j/v7eywKBAKxFb4jt7u7C2peXF+sRPaxxl5WjUWFOTg6stb7mlpSU5GV6240YSSRAEgmQRAIkkYAfc0GfBXoN0epwEdbFf+EEda2hdrjWN48RWokESCIBkkiAJBIgiQRE/IK+UEHzwlDufvmOe2J+OlqJBEgiAZJIgCQSIIkESCIBkkiAJBIgiQRIIgH/AGm7dfBMuYZrAAAAAElFTkSuQmCC\" y=\"-145.131724\"/>\r\n   </g>\r\n   <g id=\"matplotlib.axis_5\"/>\r\n   <g id=\"matplotlib.axis_6\"/>\r\n   <g id=\"patch_13\">\r\n    <path d=\"M 10.7 258.131724 \r\nL 10.7 145.662759 \r\n\" style=\"fill:none;stroke:#000000;stroke-linecap:square;stroke-linejoin:miter;stroke-width:0.8;\"/>\r\n   </g>\r\n   <g id=\"patch_14\">\r\n    <path d=\"M 123.168966 258.131724 \r\nL 123.168966 145.662759 \r\n\" style=\"fill:none;stroke:#000000;stroke-linecap:square;stroke-linejoin:miter;stroke-width:0.8;\"/>\r\n   </g>\r\n   <g id=\"patch_15\">\r\n    <path d=\"M 10.7 258.131724 \r\nL 123.168966 258.131724 \r\n\" style=\"fill:none;stroke:#000000;stroke-linecap:square;stroke-linejoin:miter;stroke-width:0.8;\"/>\r\n   </g>\r\n   <g id=\"patch_16\">\r\n    <path d=\"M 10.7 145.662759 \r\nL 123.168966 145.662759 \r\n\" style=\"fill:none;stroke:#000000;stroke-linecap:square;stroke-linejoin:miter;stroke-width:0.8;\"/>\r\n   </g>\r\n  </g>\r\n  <g id=\"axes_4\">\r\n   <g id=\"patch_17\">\r\n    <path d=\"M 375.936364 258.131724 \r\nL 488.405329 258.131724 \r\nL 488.405329 145.662759 \r\nL 375.936364 145.662759 \r\nz\r\n\" style=\"fill:#ffffff;\"/>\r\n   </g>\r\n   <g clip-path=\"url(#pb5de758661)\">\r\n    <image height=\"113\" id=\"image326077d5e9\" transform=\"scale(1 -1)translate(0 -113)\" width=\"113\" x=\"375.936364\" xlink:href=\"data:image/png;base64,\r\niVBORw0KGgoAAAANSUhEUgAAAHEAAABxCAYAAADifkzQAAAABHNCSVQICAgIfAhkiAAAA6VJREFUeJztnc0qfVEchvdxfHQoX0UhE2YSIyWDcwMu4BxuwRW4ATExIiNlYuQ6MGbgo6QoomSC8nHwv4D1Lp3d3z621/MM3345+3hanV9r7bVW4eHh4TP5gzQ1Ncn8/Pw8yG5vb2Xt5OSkzEulUpB9fmb3b9bfBH4VSDQAiQYg0QAkGlBw704LhYLMX19fZT43Nxdk7e3tsnZtbU3mPT09Qfb+/h57xP+GkWgAEg1AogFINKD5px8ga5qb9Vfc29uT+eXlZZBtbGzI2t7eXpnXarU6n+57YCQagEQDkGgAEg1AogF/tjs9OjqS+cvLS5CpabQkyXahNw2MRAOQaAASDUCiAUg0wL47/fj4kPnV1ZXMW1pagiw2R0p3Ct8GEg1AogFINMCqsVH7K56enmTtxcWFzAcHB4Osr69P1r69vaV4uuxgJBqARAOQaAASDUCiAbnvTmN7KRTFYjHI7u/vZe319bXMK5VK3Z+XFxiJBiDRACQagEQDkGhAbrpTtRibJHrhNbbLV72eeHd3J2tPT09lPjw8HHvE3MJINACJBiDRACQa0PDGJnYw3snJicx3dnaCLDaVluZgvMfHR5nn5Q22NDASDUCiAUg0AIkGINGATLtTtUgbO4p5cXGx7r8xPz8va9UheKurq7I21oWqqbvYlCCvLMK3gUQDkGgAEg1AogEN705vbm5k7eHhocy3t7eDrFwuy1r1euPQ0JCsrVarMj8+Pg6y7u5uWTs2Nibztra2IONyE/gSJBqARAOQaECmjY36Me/o6JC1nZ2dMj84OAiymZkZWaum3WKNzejoqMyXlpaCbGpqStZubm7KXC1Ocy8GfAkSDUCiAUg0AIkGZNqdqo5sYGBA1k5MTMh8a2sryGZnZ2XtyMhIkMX2VoyPj8t8f3+/7tquri6Zxw4FzApGogFINACJBiDRgIZfRxu7p0Kt4yWJfrMt1hwtLCwEWawpWV9fl7nafBqbXoudSExjA6lBogFINACJBiDRgIZ3pzFiXevu7m6QLS8vy9qzs7Mg6+/vl7WxHcsrKytBNj09LWtjR7E0GkaiAUg0AIkGINEAJBqQm+40hupa1b2/SZIkz8/PQVar1WRta2urzNUrlY2eC00LI9EAJBqARAOQaEDuGxtFmrsy0sIBffAjINEAJBqARAOQaEBu7sVIw2/sILOEkWgAEg1AogFINACJBiDRACQagEQDkGgAEg1AogFINACJBiDRACQagEQD/gGjO9yFzGd4sAAAAABJRU5ErkJggg==\" y=\"-145.131724\"/>\r\n   </g>\r\n   <g id=\"matplotlib.axis_7\"/>\r\n   <g id=\"matplotlib.axis_8\"/>\r\n   <g id=\"patch_18\">\r\n    <path d=\"M 375.936364 258.131724 \r\nL 375.936364 145.662759 \r\n\" style=\"fill:none;stroke:#000000;stroke-linecap:square;stroke-linejoin:miter;stroke-width:0.8;\"/>\r\n   </g>\r\n   <g id=\"patch_19\">\r\n    <path d=\"M 488.405329 258.131724 \r\nL 488.405329 145.662759 \r\n\" style=\"fill:none;stroke:#000000;stroke-linecap:square;stroke-linejoin:miter;stroke-width:0.8;\"/>\r\n   </g>\r\n   <g id=\"patch_20\">\r\n    <path d=\"M 375.936364 258.131724 \r\nL 488.405329 258.131724 \r\n\" style=\"fill:none;stroke:#000000;stroke-linecap:square;stroke-linejoin:miter;stroke-width:0.8;\"/>\r\n   </g>\r\n   <g id=\"patch_21\">\r\n    <path d=\"M 375.936364 145.662759 \r\nL 488.405329 145.662759 \r\n\" style=\"fill:none;stroke:#000000;stroke-linecap:square;stroke-linejoin:miter;stroke-width:0.8;\"/>\r\n   </g>\r\n  </g>\r\n  <g id=\"axes_5\">\r\n   <g id=\"patch_22\">\r\n    <path d=\"M 10.7 393.094483 \r\nL 123.168966 393.094483 \r\nL 123.168966 280.625517 \r\nL 10.7 280.625517 \r\nz\r\n\" style=\"fill:#ffffff;\"/>\r\n   </g>\r\n   <g clip-path=\"url(#p97d1987e17)\">\r\n    <image height=\"113\" id=\"image6bf4446c54\" transform=\"scale(1 -1)translate(0 -113)\" width=\"113\" x=\"10.7\" xlink:href=\"data:image/png;base64,\r\niVBORw0KGgoAAAANSUhEUgAAAHEAAABxCAYAAADifkzQAAAABHNCSVQICAgIfAhkiAAAA6tJREFUeJztnbFKa0EURScxQjBqoyF2KdIlpYU2amNpF5AQ/AGx8g+sIko6UX/BxsbCBLEXK1sbkVQWgihiodeo1avOPo/4NDc3++1Vbg4ysDxwmJk7ST0/P38GMdSkB70A8XMkkQBJJEASCZBEAjKDXsAfRkZGYJ5O9/5/1u12Tfbx8fHPaxoW1IkESCIBkkiAJBIQ+2DjDSr39/cwf3x87Plvz8zMmCyXy8Haz0+e3UZ1IgGSSIAkEiCJBEgiAbFPp2NjYzBvNpsw39vbM9no6CisXV9fN1mj0YC1qVQK5sM4taoTCZBEAiSRAEkkQBIJSMyhcCaDl4Jyb/+1XC6bzJtkoyj6xuqSjTqRAEkkQBIJkEQCYh9s3t7eYL68vAzz4+Njk93d3f3qmoYddSIBkkiAJBIgiQRIIgGxT6fedtf8/DzMZ2dnTdZut2Ht1taWybLZLKyt1+swf319hXmSUScSIIkESCIBkkiAJBIQ+3TqXQmcmJiA+dLSkslarRasfXh4MBnaew0hhLW1NZijq4xJv8aoTiRAEgmQRAIkkYBUUh7o826ldTodk3kHyE9PTyabnJyEtdvb2zCvVqsm855RScrAo04kQBIJkEQCJJEASSQgMdOp9+Uu4ujoCOboUNh7H6dSqcD85OTEZFNTU7D2/f3dWWG8qBMJkEQCJJEASSRAEglIzHTqgb4K9t7CWVlZMdn5+XnPfzeEEM7Ozkw2NzcHa5NyvVGdSIAkEiCJBEgiAYl5AsUDHch6h7T5fN5k3sGt9zscOzs7Jtvf34e109PTMI/7tzjUiQRIIgGSSIAkEiCJBCR+2w3hTZY3Nzcm29zchLUXFxcwR5Pl7u4urN3Y2ID5y8sLzPuFOpEASSRAEgmQRAKGcrDxGB8fN9np6SmsRWePIeBvQlZXV2Ht4eEhzNFZZT+34tSJBEgiAZJIgCQSIIkEJP5Q+Dug22elUgnWejfYrq6uTHZ5eQlrva27xcVFk2k6FX9FEgmQRAIkkQBJJIBqOkVf7haLRVhbq9Vgfn19bTL0lk4I/tS6sLBgsn7+hrE6kQBJJEASCZBEAqgOhRHezTjvaRQ0lBQKBVh7cHAAc/S8Srfb9Zb4Y9SJBEgiAZJIgCQSIIkE0E+nHpkM3nG8vb01mffkije1okm0n09NqxMJkEQCJJEASSRAEgn4b6dTD/RBjTdZ6vlo8WtIIgGSSIAkEkB12+03iKJo0Ev4NupEAiSRAEkkQBIJkEQCvgDYjOfebeny+gAAAABJRU5ErkJggg==\" y=\"-280.094483\"/>\r\n   </g>\r\n   <g id=\"matplotlib.axis_9\"/>\r\n   <g id=\"matplotlib.axis_10\"/>\r\n   <g id=\"patch_23\">\r\n    <path d=\"M 10.7 393.094483 \r\nL 10.7 280.625517 \r\n\" style=\"fill:none;stroke:#000000;stroke-linecap:square;stroke-linejoin:miter;stroke-width:0.8;\"/>\r\n   </g>\r\n   <g id=\"patch_24\">\r\n    <path d=\"M 123.168966 393.094483 \r\nL 123.168966 280.625517 \r\n\" style=\"fill:none;stroke:#000000;stroke-linecap:square;stroke-linejoin:miter;stroke-width:0.8;\"/>\r\n   </g>\r\n   <g id=\"patch_25\">\r\n    <path d=\"M 10.7 393.094483 \r\nL 123.168966 393.094483 \r\n\" style=\"fill:none;stroke:#000000;stroke-linecap:square;stroke-linejoin:miter;stroke-width:0.8;\"/>\r\n   </g>\r\n   <g id=\"patch_26\">\r\n    <path d=\"M 10.7 280.625517 \r\nL 123.168966 280.625517 \r\n\" style=\"fill:none;stroke:#000000;stroke-linecap:square;stroke-linejoin:miter;stroke-width:0.8;\"/>\r\n   </g>\r\n  </g>\r\n  <g id=\"axes_6\">\r\n   <g id=\"patch_27\">\r\n    <path d=\"M 375.936364 393.094483 \r\nL 488.405329 393.094483 \r\nL 488.405329 280.625517 \r\nL 375.936364 280.625517 \r\nz\r\n\" style=\"fill:#ffffff;\"/>\r\n   </g>\r\n   <g clip-path=\"url(#p43bba6569d)\">\r\n    <image height=\"113\" id=\"image2ac32456f0\" transform=\"scale(1 -1)translate(0 -113)\" width=\"113\" x=\"375.936364\" xlink:href=\"data:image/png;base64,\r\niVBORw0KGgoAAAANSUhEUgAAAHEAAABxCAYAAADifkzQAAAABHNCSVQICAgIfAhkiAAABLlJREFUeJztncsqtWEYht9lmwxssslAEWVElIEREymbA6AcgJQJJgaiKEZkgFKOgAxk4gCQpDAxUSYoImWf7X8Az/3U+rI+/Hf3Nbx7Wov/+t88Pe/7fl/i/v7+K4j/mrTf/gHE95FEAiSRAEkkQBIJyIjzwxOJhMnS09OTrv0NPj8/k8pCCOHr62809lqJBEgiAZJIgCQS8OONzeXlJazd39+H+dHRkcnKy8thbX19vclOTk5gbXFxMcxra2tNlpeXB2vf3t5g/tMNj1YiAZJIgCQSIIkESCIBKelOMzLwx+zt7ZlseHgY1h4fHyf9fV73l5aW/P9Jr7alpcVk/f39SdeGEML7+7vJ4uxYtRIJkEQCJJEASSRAEgmI1J16G7dep7eysmIyNAsNIYSqqiqY19XVmSw/Px/Wos/25psXFxcw39zcNNn5+Tms7evrg3l3d7fJvH+7VHStWokESCIBkkiAJBKQkrGbdxqsqanJZKenp7B2aGgo6c9AYy0v9xqbra0tmE9MTJjM21ienJyEeWlpqclaW1thrfe7REErkQBJJEASCZBEAiSRgEScN4XROO7h4QHW5ubmxvIzeOOurKwsmK+trZlsYGAA1r68vMC8o6PDZEtLS7DWu5vidfwIrUQCJJEASSRAEgmQRAJivVCDNjwLCwthrdeNodlilM7N23R9fX2FOeosd3d3Ye3i4iLMb29vTebNSL3uNApaiQRIIgGSSIAkEpCSxsY77YZGXt5pt4+PD5hXV1ebLMrNXe9zvXFcTk6OySoqKmBtdnY2zKM0XqlAK5EASSRAEgmQRAIkkYBI3ak3IvKeTTM9PW2ynZ0dWOt1uCUlJSarqamBtW1tbSZraGiAtR6rq6smm5ubg7XeKK2ystJkmZmZsFZ3MUQIQRIpkEQCJJEASSQg0pFFb1a4vb0Nc3ST9uzsDNZ63RuaQ3odHTqG6HW9Xo6OIXrf19zcDPOFhQWTRd0Mj4JWIgGSSIAkEiCJBERqbLyNVG/jFT1OZGpqCtZ6N4hRA1JWVgZrOzs7Teadajs4OIA52hT2bvm2t7fDHG0ix/luDa1EAiSRAEkkQBIJkEQCIm0Ke52U9/jorq4uk6EjiCGEMDMzA/ONjQ2TXV9fw9qnpyeTjY6Owtoo3WJBQQGs9bp179k5caGVSIAkEiCJBEgiAbE+AgX94ff2DW9ubmA+Pj5usvX1dVj7/Pxsst7e3qQ/N4QQioqKTOY1Kl5zFOU1vF6z6D1eBaGVSIAkEiCJBEgiAZJIQKzdaRS80d3j46PJ5ufnYe3s7GzS39fT0wNz9H4O72F+3ruN7+7uTObdQfHebTwyMmIyb/NdK5EASSRAEgmQRAIkkYA/0516oK7Vm1mOjY2ZbHl5GdairjeEaO8l9jpqNA/1vs+79Xx4eGgyb4arlUiAJBIgiQRIIgGxPnk4FaDHjHjNx+DgoMkaGxth7dXVFcy9E2zfxdv89V6t643YEFqJBEgiAZJIgCQSIIkE/PmxWxTQsUBvQzfqEcLv4nW93ggR3Svx0EokQBIJkEQCJJEASSTgz89Oo4DmjeiSDRtaiQRIIgGSSIAkEiCJBEgiAZJIgCQSIIkESCIB/wByf3Ppm6yCqQAAAABJRU5ErkJggg==\" y=\"-280.094483\"/>\r\n   </g>\r\n   <g id=\"matplotlib.axis_11\"/>\r\n   <g id=\"matplotlib.axis_12\"/>\r\n   <g id=\"patch_28\">\r\n    <path d=\"M 375.936364 393.094483 \r\nL 375.936364 280.625517 \r\n\" style=\"fill:none;stroke:#000000;stroke-linecap:square;stroke-linejoin:miter;stroke-width:0.8;\"/>\r\n   </g>\r\n   <g id=\"patch_29\">\r\n    <path d=\"M 488.405329 393.094483 \r\nL 488.405329 280.625517 \r\n\" style=\"fill:none;stroke:#000000;stroke-linecap:square;stroke-linejoin:miter;stroke-width:0.8;\"/>\r\n   </g>\r\n   <g id=\"patch_30\">\r\n    <path d=\"M 375.936364 393.094483 \r\nL 488.405329 393.094483 \r\n\" style=\"fill:none;stroke:#000000;stroke-linecap:square;stroke-linejoin:miter;stroke-width:0.8;\"/>\r\n   </g>\r\n   <g id=\"patch_31\">\r\n    <path d=\"M 375.936364 280.625517 \r\nL 488.405329 280.625517 \r\n\" style=\"fill:none;stroke:#000000;stroke-linecap:square;stroke-linejoin:miter;stroke-width:0.8;\"/>\r\n   </g>\r\n  </g>\r\n  <g id=\"axes_7\">\r\n   <g id=\"patch_32\">\r\n    <path d=\"M 10.7 528.057241 \r\nL 123.168966 528.057241 \r\nL 123.168966 415.588276 \r\nL 10.7 415.588276 \r\nz\r\n\" style=\"fill:#ffffff;\"/>\r\n   </g>\r\n   <g clip-path=\"url(#p7427d4bdc2)\">\r\n    <image height=\"113\" id=\"image5e2c9b7353\" transform=\"scale(1 -1)translate(0 -113)\" width=\"113\" x=\"10.7\" xlink:href=\"data:image/png;base64,\r\niVBORw0KGgoAAAANSUhEUgAAAHEAAABxCAYAAADifkzQAAAABHNCSVQICAgIfAhkiAAABK5JREFUeJztncsrrVEYxt/tkktIiYGkRBKFXIoykgElGfkLJCkTiiIDKQwMDJAJSkYGJgyMlYkMGLlNKBKDnYjcnT9gPUt7d/a3zz5Pz2/49Np7f/3O6ry9a33fFwqHwz8m/muS/vUPEH+PJBIgiQRIIgGSSEBK3L8wBX9lKBSC+c9P5M0zqvX9/ff3d8Sfm+hoJRIgiQRIIgGSSEBMGhtfU4Kah5mZGVh7dHQE866uLidrbGyEtbm5uU6WnZ0Na3NycmD+9fXlZB8fH7A2mqYrSLQSCZBEAiSRAEkkQBIJCMViUzgpCf9bCIfDTtbe3g5rb29vYZ6cnOxkRUVFsDYjI8PJKisrYW1VVRXMq6urnaympibi7zOL/0hPK5EASSRAEgmQRAIkkYBAN4XRHPLh4QHWoi7UDG8iX19fR/wbjo+PYf7+/g7ziooKJxsfH4e1HR0dMEfXEuScVSuRAEkkQBIJkEQCYtLY+P7TzsrKcrKenh5Yu7OzA3PUCPlOzKHxX11dHax9e3uD+cXFhZMNDQ3B2pubG5j39/c7mRob8SuSSIAkEiCJBEgiAYF2p+np6U42NTUFa1Ena2a2uLgY8e9An7G6ugprPz8/YY6OTp6cnMBadH1meNzoO9YZC7QSCZBEAiSRAEkkQBIJiMmRxWjwHW98fHyE+fb2tpNNTk7CWrTROzg4CGvRfNPMrKCgwMleXl5g7evrK8xTU1NhHhRaiQRIIgGSSIAkEhD3xsaH77Qbah62trZg7ezsrJM9PT3B2ubmZpiPjo46mW9jOVHuINZKJEASCZBEAiSRAEkkIGG6U984Dm2mok1XM7OJiQkn29jYgLW+TeH6+nonW1hYgLUlJSUw93WtQaGVSIAkEiCJBEgiAZJIQMJ0p74ZJzqG6JuzoptkfJu/u7u7ME9LS3Oy3t5eWDsyMhLxZ/g66liglUiAJBIgiQRIIgGBPgIFjdJ8Dczc3BzMW1panKyzszPi7xsbG4O1mZmZMEen69bX12Gt71Tb8PCwk/masVhsIGslEiCJBEgiAZJIgCQSEGh3ijZ0Nzc3Ye3a2hrMz8/PnQxt3Jrhxzk3NDTAWnQ00QzfE7K/vw9rl5eXYZ6Xl+dkfX19sNa3OR0NWokESCIBkkiAJBIQ6H4iGjUdHBzAWt947PT01Mlqa2thbX5+vpO1tbXBWt+b39A4bmBgANb6rqWpqcnJlpaWYG1hYSHMo9l/1EokQBIJkEQCJJEASSQg7qfdfBuph4eHMF9ZWXEy36Om0V3FvgfjlZaWwhw9AuXy8hLW3t/fw7ysrMzJ0HWYmZWXl8M8mvs5tBIJkEQCJJEASSRAEglImHsxfEf60Pt59/b2YO38/LyTPT8/w9qrqyuY393dOZnvZSpoVmtmNj097WTd3d2wVkcWhZlJIgWSSIAkEpAwjY2PaN4ngcZgvtfOnp2dwRw1PL7fUFxcDPPW1taIP0ONjTAzSaRAEgmQRAIkkYCE706jAY3ufF2hb5TmG/8hfMcK0aNY9E5h8SuSSIAkEiCJBEgiAYHeKRxvorkJJRZ36CYKWokESCIBkkiAJBIgiQRIIgGSSIAkEiCJBEgiAX8A0QtTl4reToYAAAAASUVORK5CYII=\" y=\"-415.057241\"/>\r\n   </g>\r\n   <g id=\"matplotlib.axis_13\"/>\r\n   <g id=\"matplotlib.axis_14\"/>\r\n   <g id=\"patch_33\">\r\n    <path d=\"M 10.7 528.057241 \r\nL 10.7 415.588276 \r\n\" style=\"fill:none;stroke:#000000;stroke-linecap:square;stroke-linejoin:miter;stroke-width:0.8;\"/>\r\n   </g>\r\n   <g id=\"patch_34\">\r\n    <path d=\"M 123.168966 528.057241 \r\nL 123.168966 415.588276 \r\n\" style=\"fill:none;stroke:#000000;stroke-linecap:square;stroke-linejoin:miter;stroke-width:0.8;\"/>\r\n   </g>\r\n   <g id=\"patch_35\">\r\n    <path d=\"M 10.7 528.057241 \r\nL 123.168966 528.057241 \r\n\" style=\"fill:none;stroke:#000000;stroke-linecap:square;stroke-linejoin:miter;stroke-width:0.8;\"/>\r\n   </g>\r\n   <g id=\"patch_36\">\r\n    <path d=\"M 10.7 415.588276 \r\nL 123.168966 415.588276 \r\n\" style=\"fill:none;stroke:#000000;stroke-linecap:square;stroke-linejoin:miter;stroke-width:0.8;\"/>\r\n   </g>\r\n  </g>\r\n  <g id=\"axes_8\">\r\n   <g id=\"patch_37\">\r\n    <path d=\"M 375.936364 528.057241 \r\nL 488.405329 528.057241 \r\nL 488.405329 415.588276 \r\nL 375.936364 415.588276 \r\nz\r\n\" style=\"fill:#ffffff;\"/>\r\n   </g>\r\n   <g clip-path=\"url(#p2d5bcd767b)\">\r\n    <image height=\"113\" id=\"image2cdb41e862\" transform=\"scale(1 -1)translate(0 -113)\" width=\"113\" x=\"375.936364\" xlink:href=\"data:image/png;base64,\r\niVBORw0KGgoAAAANSUhEUgAAAHEAAABxCAYAAADifkzQAAAABHNCSVQICAgIfAhkiAAABK5JREFUeJztncsr9V8YxfdxyTUcyUSHkpKSDJQyMTJQFAMTM8rQwNBUGSulGMpEkqKkCENGbpEZA0pKySW5e/+AZz2/zrf3fP3Ou1qf4erpdPRp12rvs7fEw8PDTxD/NDn/9xcQf48kEiCJBEgiAZJIQF4mPiSRSKSdR5kNIYSfH1ueUebx/f2d9uy/ilYiAZJIgCQSIIkERCo2eXl43CsaT09PJnt9fYWzj4+PMC8qKjJZMpn0vqKhpKQk7dkQcBH6+vqK9Bm/jVYiAZJIgCQSIIkESCIBbjvNybF+Ly4u4OzS0hLMj46OTHZ7ewtnz87OYJ5KpUzW1tYGZxHd3d0wb2hogHl1dbXJqqqq4KzXyqNsC2YCrUQCJJEASSRAEgmQRAIS3k8W8/PzTTYwMAA/ZH19HeaFhYUmy83NhbPevizat/z8/ISzaN+zuLgYzlZWVsIctdPR0VE429PTA3PU7OM8nNZKJEASCZBEAiSRALfYoAIyPz8PP+Tk5ATm7e3taX+RKFtV3i/j0IHz1tYWnPW2EC8vL0328fEBZ7u6umA+OztrsrKyMjibiQNnrUQCJJEASSRAEgmQRALcdopAP0EMwW9eaOsuzgNTtN31/v4OZ6+vr2GODqdXVlbg7MbGBsz7+vpMNj4+DmdrampgHqW1aiUSIIkESCIBkkiAJBIQ6UJNeXk5zL0DT68ZRiHKbWO0x4kaawgh1NfXw7ypqclktbW1cPbw8BDmNzc3JvMafCbaulYiAZJIgCQSIIkERCo2cf5iC23RhRDCy8uLybzbxhUVFSbzfhl3d3cHc7TFtry8DGevrq5g3tvbazKvFHoHzlHQSiRAEgmQRAIkkQBJJCAjD/R5oO0xr42tra3BHDVD782b5uZmk3kH2d6N5d3dXZMVFBTA2eHhYZgPDQ2ZLM63cLQSCZBEAiSRAEkkQBIJ+PV26u1l7uzswHx1ddVkXlvc3983mXfo6u0Dt7a2msx7C2dwcBDmdXV1Jnt7e4OzmUArkQBJJEASCZBEAmItNqg8lJaWwlnvmZHn52eTbW5uwll0WOw9H+3dgZiamjJZR0dH2t8thHhLDEIrkQBJJEASCZBEAiSRgEg3hePEuzOBtum2t7fh7MzMjMmOj4/hrPdQIDrQHRkZgbPes9Le3xIXWokESCIBkkiAJBKQ9cXm9PTUZAcHB3C2v7/fZBMTE3B2YWEB5uhXaS0tLXB2bm4O5o2NjSbLxJ0LD61EAiSRAEkkQBIJkEQCYj0URngt1Lu5OzY2ZjKvnaImi24ah+A/o4JuLJ+fn8NZ7z4HekYlTrQSCZBEAiSRAEkkQBIJ+PV26t2BSCaTMEf/IMV7x2ZxcdFk3iOB3qEwurvh/Uc5L/9ttBIJkEQCJJEASSQgaw6FPVCJub+/h7N7e3smm5ychLPe43qIzs5OmE9PT8M8lUqZzLtcmwm0EgmQRAIkkQBJJEASCcj6dooOb70tMzTrtdAoh8XoWer/yr0D57jQSiRAEgmQRAIkkQBJJCDr2+nf4jXZKLd5vYPsOJ+EjoJWIgGSSIAkEiCJBGTHz7VixCsf2VJKMoFWIgGSSIAkEiCJBEgiAX8AM79oqIiyg4IAAAAASUVORK5CYII=\" y=\"-415.057241\"/>\r\n   </g>\r\n   <g id=\"matplotlib.axis_15\"/>\r\n   <g id=\"matplotlib.axis_16\"/>\r\n   <g id=\"patch_38\">\r\n    <path d=\"M 375.936364 528.057241 \r\nL 375.936364 415.588276 \r\n\" style=\"fill:none;stroke:#000000;stroke-linecap:square;stroke-linejoin:miter;stroke-width:0.8;\"/>\r\n   </g>\r\n   <g id=\"patch_39\">\r\n    <path d=\"M 488.405329 528.057241 \r\nL 488.405329 415.588276 \r\n\" style=\"fill:none;stroke:#000000;stroke-linecap:square;stroke-linejoin:miter;stroke-width:0.8;\"/>\r\n   </g>\r\n   <g id=\"patch_40\">\r\n    <path d=\"M 375.936364 528.057241 \r\nL 488.405329 528.057241 \r\n\" style=\"fill:none;stroke:#000000;stroke-linecap:square;stroke-linejoin:miter;stroke-width:0.8;\"/>\r\n   </g>\r\n   <g id=\"patch_41\">\r\n    <path d=\"M 375.936364 415.588276 \r\nL 488.405329 415.588276 \r\n\" style=\"fill:none;stroke:#000000;stroke-linecap:square;stroke-linejoin:miter;stroke-width:0.8;\"/>\r\n   </g>\r\n  </g>\r\n  <g id=\"axes_9\">\r\n   <g id=\"patch_42\">\r\n    <path d=\"M 10.7 663.02 \r\nL 123.168966 663.02 \r\nL 123.168966 550.551034 \r\nL 10.7 550.551034 \r\nz\r\n\" style=\"fill:#ffffff;\"/>\r\n   </g>\r\n   <g clip-path=\"url(#pf6e97ac36e)\">\r\n    <image height=\"113\" id=\"image6b37244563\" transform=\"scale(1 -1)translate(0 -113)\" width=\"113\" x=\"10.7\" xlink:href=\"data:image/png;base64,\r\niVBORw0KGgoAAAANSUhEUgAAAHEAAABxCAYAAADifkzQAAAABHNCSVQICAgIfAhkiAAABAxJREFUeJztnTtLK1EUhU98gE0kYiHY2fgiVoKNKNhYKQhaGLD30aQRf4GFEK3ERrDQwkKsbEQ7axE7sRbBSCI2wfj2/oCz9mXG64znLtZXLjaTkc8Dm/OaTK1W+3Liv6bht19A/DuSSIAkEiCJBEgiAU2//QLfoaEB/++hPJPJwNqvr+hNufWMz89PmH98fER+9k+gkUiAJBIgiQRIIgHBNzaoWalWq7B2d3fXyw4ODmDt6+srzDs7O71sYmIC1o6Pj8O8q6sL5kmhkUiAJBIgiQRIIgGSSEAmlEVhayrt6enJy1ZWVmDt/v6+l7W0tMDa3t5emDc2NnrZ+/s7rB0aGoL56upqpOf+FBqJBEgiAZJIgCQSIIkEBDN3anWnDw8PXnZ8fAxrUSe6ubkJa4eHh2EeZ7HYqrX+lqTQSCRAEgmQRAIkkYBgGhurSWhq8l+xtbUV1qLpsbGxMVjb0dER+Rlxd8xpt5uIjSQSIIkESCIBkkhAMN2pda4BdZEzMzOwdmNjw8tKpRKsRQu3zuEpszhTcb+BRiIBkkiAJBIgiQRIIgHBbFm0QFv9yuUyrC0UCl52eXkJa9fX12E+Pz/vZdbhm1DQSCRAEgmQRAIkkYDgGxsEWih2Du+CKxaLsZ6xvb3tZSMjI7D27e3NesVU0UgkQBIJkEQCJJEASSQg9UVha4HVOkmL6q0tgZOTk152c3MDa5eXl2G+tbXlZf39/bA2l8vB3FrgTgqNRAIkkQBJJEASCZBEAlLvTq1TtJVKBeZ7e3teNjU1BWu7u7u9bG5uDtaen5/D/PDwMFLmnHNLS0swf35+hnlSaCQSIIkESCIBkkhA6o2NdWGedc0zOl+Rz+dhbU9Pj5dls1lYu7i4CPPT09NImXP2mZC2tjYvS/L0sEYiAZJIgCQSIIkESCIBwUy73d/fwxzdK2NtFUTPfnl5gbV9fX0wRx8mub6+hrV3d3cwb29v9zJ1p+KvSCIBkkiAJBKQemNj7QRDX0tzDjcx1m3CAwMDXmZ9/8JqeFBzZL0bamCc02438Q0kkQBJJEASCZBEAlLvTq2ucHp6GuZHR0dednZ2BmvR7rPZ2VlYe3V1BfOLiwsvW1hYgLXWFdTqTkVsJJEASSRAEgmQRAKCucfGulfm8fHRy9bW1mDtzs6Ol9VqtVjvMTo6Gvn3BgcHYZ72/TYaiQRIIgGSSIAkEhBMY2OBrkaxbgI+OTnxstvbW1jb3NwMc9TYWAvL1ntYX3lLCo1EAiSRAEkkQBIJkEQCgu9OEVb3h04hW2c/LNCitTWNlnYXaqGRSIAkEiCJBEgiAZJIQDDfFI6DdQV1vV5P5PdC6UItNBIJkEQCJJEASSRAEgmQRAIkkQBJJEASCZBEAv4AuLoOQ5La7I4AAAAASUVORK5CYII=\" y=\"-550.02\"/>\r\n   </g>\r\n   <g id=\"matplotlib.axis_17\"/>\r\n   <g id=\"matplotlib.axis_18\"/>\r\n   <g id=\"patch_43\">\r\n    <path d=\"M 10.7 663.02 \r\nL 10.7 550.551034 \r\n\" style=\"fill:none;stroke:#000000;stroke-linecap:square;stroke-linejoin:miter;stroke-width:0.8;\"/>\r\n   </g>\r\n   <g id=\"patch_44\">\r\n    <path d=\"M 123.168966 663.02 \r\nL 123.168966 550.551034 \r\n\" style=\"fill:none;stroke:#000000;stroke-linecap:square;stroke-linejoin:miter;stroke-width:0.8;\"/>\r\n   </g>\r\n   <g id=\"patch_45\">\r\n    <path d=\"M 10.7 663.02 \r\nL 123.168966 663.02 \r\n\" style=\"fill:none;stroke:#000000;stroke-linecap:square;stroke-linejoin:miter;stroke-width:0.8;\"/>\r\n   </g>\r\n   <g id=\"patch_46\">\r\n    <path d=\"M 10.7 550.551034 \r\nL 123.168966 550.551034 \r\n\" style=\"fill:none;stroke:#000000;stroke-linecap:square;stroke-linejoin:miter;stroke-width:0.8;\"/>\r\n   </g>\r\n  </g>\r\n  <g id=\"axes_10\">\r\n   <g id=\"patch_47\">\r\n    <path d=\"M 375.936364 663.02 \r\nL 488.405329 663.02 \r\nL 488.405329 550.551034 \r\nL 375.936364 550.551034 \r\nz\r\n\" style=\"fill:#ffffff;\"/>\r\n   </g>\r\n   <g clip-path=\"url(#p8bc7aa6eaf)\">\r\n    <image height=\"113\" id=\"imagebbe8e8b6af\" transform=\"scale(1 -1)translate(0 -113)\" width=\"113\" x=\"375.936364\" xlink:href=\"data:image/png;base64,\r\niVBORw0KGgoAAAANSUhEUgAAAHEAAABxCAYAAADifkzQAAAABHNCSVQICAgIfAhkiAAABQ1JREFUeJztncsrrm0YxR9nIwkJITkUA4chKRQDYmBgREokZWJgwsDAKdoGDERJIRQx8AdIiURKMjCRQzGQDBTJ2Tf6Rve66n3bL9tee/2Gq9Xj2a199V5d9+EJur+///TEX03wn34B8fsoRAIUIgEKkQCFSEDon36B/wkJCYF6cPDv/T/7+PjwS//8/PuadVUiAQqRAIVIgEIk4Nsbm9BQ/Cevr6+hPj8/72gpKSnQm5mZ6WhZWVnQGxMTA3XUSL28vEDv+/s71L8bVSIBCpEAhUiAQiRAIRLwpd0p6kSPjo6gt6urC+r7+/uO9vb25vPfKy0thd6ysjKoZ2dnO1pBQQH0xsbGQv27u1ZVIgEKkQCFSIBCJEAhEvCl3WlQUJBPmud53t3dHdQfHx8drbi4GHpra2sdbW5uDnr7+vqgHhYW5mitra3Q29PT4/MzXl9foTcQqBIJUIgEKEQCFCIBX9rYoB/zvLw86J2amoL6yMiIo+3s7EDv7e2to83OzkKv1UgtLy872tLSEvRaO+Pa2tocLTExEXoDMaJTJRKgEAlQiAQoRAIUIgFBP+WkcHh4ONQfHh4cbXFxEXqHhoYcrbKyEnoHBgagHh8f72jDw8PQ++vXL6jX1dU52ujoKPSiEZ3n2WdFEKpEAhQiAQqRAIVIgEIk4Nu3LFrdGFr89TzcpTU1NUFvXFyco3V2dkLv6ekp1Ovr6316rud5XlpaGtTRNsvLy0votQ78qDv9x1CIBChEAhQiAX41NtZONeuaEvRjvrm5Cb0HBwdQv7i4cLTo6GjoRWc0rF1m1sLy7u6uo1kjwaSkJKh3dHQ4mtXABGIXnCqRAIVIgEIkQCESoBAJMBeFUSdqXaJndZz9/f2Odnh4CL3p6elQR6Mt66Qw8ubk5ECv9W85OTlxtOnpaei1zmigBWdre2MgLgRUJRKgEAlQiAQoRAIUIgHm7BR1b1dXV9Db3t6OHw4WhScnJ6G3urra52dYHR3yWrc6WnNgRFRUFNTHx8ehXlRU5GjoFLPned7z87PP72GhSiRAIRKgEAlQiASYjQ364bd2pJ2dnUEdjd0aGxuh9+npCepo15c/oyp/T+KiRqimpgZ6V1ZWoN7b2+to1s446+S0P4vFqkQCFCIBCpEAhUiAQiTA7E5RBxgZGQm9ycnJUJ+ZmXG0hIQE6LXGUtbIC4He2Z+u13pGfn4+9FqnjZubmx1tYWEBegcHB6GOtoFa76xKJEAhEqAQCVCIBPi1281ag9ve3oZ6d3e3ox0fH0NvRUUF1KuqqhwNrddZ77e2tga95eXlUC8sLHQ06zK/iIgIqKNLBcfGxqB3b28P6hkZGY5mjeJUiQQoRAIUIgEKkQCFSIBfYzeLkpISqKPvAW9sbEDvxMQE1NHX3KwxH9qhl5ubC70NDQ1QR4vC1inmra0tqKPx2Fd+yU2VSIBCJEAhEqAQCVCIBPh1j43VsVqdF5r/Wfe5WLPT9fV1Rzs/P4dedL9NS0uLz17Pw6eQrRnp6uoq1NGZFeubyampqT6/h4UqkQCFSIBCJEAhEvBjvothXUmCdOtCQNR4WQup1s4xtLBsPcNa0L25uXE0axHaarB08/A/hkIkQCESoBAJUIgE/Jju9CdjbdW0rpVGHbW/Z0L8QZVIgEIkQCESoBAJUIgEfOlX21iwFsMDcbleIFAlEqAQCVCIBChEAhQiAQqRAIVIgEIkQCESoBAJ+A+NaHV4OJ+SawAAAABJRU5ErkJggg==\" y=\"-550.02\"/>\r\n   </g>\r\n   <g id=\"matplotlib.axis_19\"/>\r\n   <g id=\"matplotlib.axis_20\"/>\r\n   <g id=\"patch_48\">\r\n    <path d=\"M 375.936364 663.02 \r\nL 375.936364 550.551034 \r\n\" style=\"fill:none;stroke:#000000;stroke-linecap:square;stroke-linejoin:miter;stroke-width:0.8;\"/>\r\n   </g>\r\n   <g id=\"patch_49\">\r\n    <path d=\"M 488.405329 663.02 \r\nL 488.405329 550.551034 \r\n\" style=\"fill:none;stroke:#000000;stroke-linecap:square;stroke-linejoin:miter;stroke-width:0.8;\"/>\r\n   </g>\r\n   <g id=\"patch_50\">\r\n    <path d=\"M 375.936364 663.02 \r\nL 488.405329 663.02 \r\n\" style=\"fill:none;stroke:#000000;stroke-linecap:square;stroke-linejoin:miter;stroke-width:0.8;\"/>\r\n   </g>\r\n   <g id=\"patch_51\">\r\n    <path d=\"M 375.936364 550.551034 \r\nL 488.405329 550.551034 \r\n\" style=\"fill:none;stroke:#000000;stroke-linecap:square;stroke-linejoin:miter;stroke-width:0.8;\"/>\r\n   </g>\r\n  </g>\r\n </g>\r\n <defs>\r\n  <clipPath id=\"pb38c2a8b0e\">\r\n   <rect height=\"112.468966\" width=\"112.468966\" x=\"10.7\" y=\"10.7\"/>\r\n  </clipPath>\r\n  <clipPath id=\"p9d252eb462\">\r\n   <rect height=\"112.468966\" width=\"112.468966\" x=\"375.936364\" y=\"10.7\"/>\r\n  </clipPath>\r\n  <clipPath id=\"p528e8e39f3\">\r\n   <rect height=\"112.468966\" width=\"112.468966\" x=\"10.7\" y=\"145.662759\"/>\r\n  </clipPath>\r\n  <clipPath id=\"pb5de758661\">\r\n   <rect height=\"112.468966\" width=\"112.468966\" x=\"375.936364\" y=\"145.662759\"/>\r\n  </clipPath>\r\n  <clipPath id=\"p97d1987e17\">\r\n   <rect height=\"112.468966\" width=\"112.468966\" x=\"10.7\" y=\"280.625517\"/>\r\n  </clipPath>\r\n  <clipPath id=\"p43bba6569d\">\r\n   <rect height=\"112.468966\" width=\"112.468966\" x=\"375.936364\" y=\"280.625517\"/>\r\n  </clipPath>\r\n  <clipPath id=\"p7427d4bdc2\">\r\n   <rect height=\"112.468966\" width=\"112.468966\" x=\"10.7\" y=\"415.588276\"/>\r\n  </clipPath>\r\n  <clipPath id=\"p2d5bcd767b\">\r\n   <rect height=\"112.468966\" width=\"112.468966\" x=\"375.936364\" y=\"415.588276\"/>\r\n  </clipPath>\r\n  <clipPath id=\"pf6e97ac36e\">\r\n   <rect height=\"112.468966\" width=\"112.468966\" x=\"10.7\" y=\"550.551034\"/>\r\n  </clipPath>\r\n  <clipPath id=\"p8bc7aa6eaf\">\r\n   <rect height=\"112.468966\" width=\"112.468966\" x=\"375.936364\" y=\"550.551034\"/>\r\n  </clipPath>\r\n </defs>\r\n</svg>\r\n",
      "image/png": "[encoded data removed]"
     },
     "metadata": {}
    }
   ],
   "source": [
    "fig, ax_array = plt.subplots(nrows=5, ncols=2, sharey=True, sharex=True, figsize=(12, 12))#sharex就是所以子图共用xy轴\n",
    "for r in range(5):\n",
    "    for c in range(2):\n",
    "        ax_array[r, c].matshow(np.array(sample_images[2 * r + c].reshape((20, 20))).T,cmap=matplotlib.cm.binary) #要加T 否则就是横这的图片哦\n",
    "        plt.xticks(np.array([])) # 不显示xy轴\n",
    "        plt.yticks(np.array([])) "
   ]
  },
  {
   "source": [
    "# 逻辑回归向量化 因为有10个类别 所以要训练10个逻辑回归训练分类器 向量化可以提高训练效率\n",
    "#1. sigmoid 函数 \n",
    "def sigmoid(z):\n",
    "    return 1/(1+np.exp(-z))"
   ],
   "cell_type": "code",
   "metadata": {},
   "execution_count": 87,
   "outputs": []
  },
  {
   "cell_type": "code",
   "execution_count": 152,
   "metadata": {},
   "outputs": [],
   "source": [
    "#2. 代价函数\n",
    "def cost(theta, X, y, learningRate):\n",
    "    theta = np.matrix(theta)\n",
    "    X = np.matrix(X)\n",
    "    y = np.matrix(y)\n",
    "    first = np.multiply(-y, np.log(sigmoid(X * theta.T)))\n",
    "    second = np.multiply((1 - y), np.log(1 - sigmoid(X * theta.T)))\n",
    "    reg = (learningRate / (2 * len(X))) * np.sum(np.power(theta[:,1:theta.shape[1]], 2))\n",
    "    return np.sum(first - second) / len(X) + reg"
   ]
  },
  {
   "cell_type": "code",
   "execution_count": 153,
   "metadata": {},
   "outputs": [],
   "source": [
    "#向量正则化逻辑回归\n",
    "def gradient(theta, X, y, learningRate):\n",
    "    theta = np.matrix(theta)\n",
    "    X = np.matrix(X)\n",
    "    y = np.matrix(y)\n",
    "    \n",
    "    parameters = int(theta.ravel().shape[1])\n",
    "    error = sigmoid(X * theta.T) - y\n",
    "    \n",
    "    grad = ((X.T * error) / len(X)).T + ((learningRate / len(X)) * theta)\n",
    "    \n",
    "    # intercept gradient is not regularized\n",
    "    grad[0, 0] = np.sum(np.multiply(error, X[:,0])) / len(X)\n",
    "    \n",
    "    return np.array(grad).ravel()"
   ]
  },
  {
   "cell_type": "code",
   "execution_count": 154,
   "metadata": {},
   "outputs": [],
   "source": [
    "# 一对多分类器 k个类别就有k个分类器 每个分类器分是i和不是i\n",
    "from scipy.optimize import minimize\n",
    "\n",
    "def one_vs_all(X, y, num_labels, learning_rate):\n",
    "    rows = X.shape[0]\n",
    "    params = X.shape[1]\n",
    "    \n",
    "    # k * (n + 1) array for the parameters of each of the k classifiers\n",
    "    all_theta = np.zeros((num_labels, params + 1))\n",
    "    \n",
    "    # insert a column of ones at the beginning for the intercept term\n",
    "    X = np.insert(X, 0, values=np.ones(rows), axis=1)\n",
    "    \n",
    "    # labels are 1-indexed instead of 0-indexed\n",
    "    for i in range(1, num_labels + 1):\n",
    "        theta = np.zeros(params + 1)\n",
    "        y_i = np.array([1 if label == i else 0 for label in y])\n",
    "        y_i = np.reshape(y_i, (rows, 1))\n",
    "        \n",
    "        # minimize the objective function\n",
    "        fmin = minimize(fun=cost, x0=theta, args=(X, y_i, learning_rate), method='TNC', jac=gradient)\n",
    "        all_theta[i-1,:] = fmin.x\n",
    "    return all_theta"
   ]
  },
  {
   "cell_type": "code",
   "execution_count": 155,
   "metadata": {},
   "outputs": [
    {
     "output_type": "execute_result",
     "data": {
      "text/plain": [
       "((5000, 401), (5000, 1), (401,), (10, 401))"
      ]
     },
     "metadata": {},
     "execution_count": 155
    }
   ],
   "source": [
    "#检查输入的矩阵维度是否正确\n",
    "rows = data['X'].shape[0]\n",
    "params = data['X'].shape[1]\n",
    "\n",
    "all_theta = np.zeros((10, params + 1))\n",
    "\n",
    "X = np.insert(data['X'], 0, values=np.ones(rows), axis=1)\n",
    "\n",
    "theta = np.zeros(params + 1)\n",
    "\n",
    "y_0 = np.array([1 if label == 0 else 0 for label in data['y']])\n",
    "y_0 = np.reshape(y_0, (rows, 1))\n",
    "\n",
    "X.shape, y_0.shape, theta.shape, all_theta.shape"
   ]
  },
  {
   "cell_type": "code",
   "execution_count": 156,
   "metadata": {},
   "outputs": [
    {
     "output_type": "execute_result",
     "data": {
      "text/plain": [
       "array([ 1,  2,  3,  4,  5,  6,  7,  8,  9, 10], dtype=uint8)"
      ]
     },
     "metadata": {},
     "execution_count": 156
    }
   ],
   "source": [
    "np.unique(data['y']) #看一下有几类标签"
   ]
  },
  {
   "cell_type": "code",
   "execution_count": 157,
   "metadata": {},
   "outputs": [
    {
     "output_type": "execute_result",
     "data": {
      "text/plain": [
       "(10, 401)"
      ]
     },
     "metadata": {},
     "execution_count": 157
    }
   ],
   "source": [
    "all_theta = one_vs_all(data['X'],data['y'],10,1)\n",
    "all_theta.shape"
   ]
  },
  {
   "cell_type": "code",
   "execution_count": 158,
   "metadata": {},
   "outputs": [],
   "source": [
    "def predict_all(X,all_theta):\n",
    "    rows = X.shape[0]\n",
    "    params = X.shape[1]\n",
    "    num_labels = all_theta.shape[0]\n",
    "\n",
    "    # same as before, insert ones to match the shape\n",
    "    X = np.insert(X, 0, values=np.ones(rows), axis=1)\n",
    "\n",
    "    # convert to matrices\n",
    "    X = np.matrix(X)\n",
    "    all_theta = np.matrix(all_theta)\n",
    "    \n",
    "    # compute the class probability for each class on each training instance\n",
    "    h = sigmoid(X * all_theta.T)\n",
    "    \n",
    "    # create array of the index with the maximum probability\n",
    "    h_argmax = np.argmax(h, axis=1)\n",
    "    \n",
    "    # because our array was zero-indexed we need to add one for the true label prediction\n",
    "    h_argmax = h_argmax + 1 # h的索引从0开始 但是我们的label从1开始 所以要+1\n",
    "    \n",
    "    return h_argmax"
   ]
  },
  {
   "cell_type": "code",
   "execution_count": 159,
   "metadata": {},
   "outputs": [
    {
     "output_type": "stream",
     "name": "stdout",
     "text": [
      "              precision    recall  f1-score   support\n\n           1       0.95      0.99      0.97       500\n           2       0.95      0.92      0.93       500\n           3       0.95      0.91      0.93       500\n           4       0.95      0.95      0.95       500\n           5       0.92      0.92      0.92       500\n           6       0.97      0.98      0.97       500\n           7       0.95      0.95      0.95       500\n           8       0.93      0.92      0.92       500\n           9       0.92      0.92      0.92       500\n          10       0.97      0.99      0.98       500\n\n    accuracy                           0.94      5000\n   macro avg       0.94      0.94      0.94      5000\nweighted avg       0.94      0.94      0.94      5000\n\n"
     ]
    }
   ],
   "source": [
    "y_pred = predict_all(data['X'], all_theta)\n",
    "print(classification_report(data['y'],y_pred,))"
   ]
  },
  {
   "cell_type": "code",
   "execution_count": 135,
   "metadata": {},
   "outputs": [
    {
     "output_type": "execute_result",
     "data": {
      "text/plain": [
       "((25, 401), (10, 26))"
      ]
     },
     "metadata": {},
     "execution_count": 135
    }
   ],
   "source": [
    "#神经网络 在现有的权重基础上 实现前反馈神经网络\n",
    "#25个隐层单元 和 10 个输出单元（10个分类）\n",
    "weight = loadmat(r'data_sets\\ex3weights.mat')\n",
    "theta1,theta2 = weight['Theta1'],weight['Theta2']\n",
    "theta1.shape,theta2.shape #1为输入层到隐藏层的权重 2 为隐藏层到输出层的权重 j(j+1) *j+1"
   ]
  },
  {
   "cell_type": "code",
   "execution_count": 136,
   "metadata": {},
   "outputs": [
    {
     "output_type": "execute_result",
     "data": {
      "text/plain": [
       "((5000, 401), (5000, 1))"
      ]
     },
     "metadata": {},
     "execution_count": 136
    }
   ],
   "source": [
    "#插入常数项\n",
    "X2 = np.matrix(np.insert(data['X'],0,values = np.ones(X.shape[0]),axis = 1))\n",
    "y2 = np.matrix(data['y'])\n",
    "X2.shape,y2.shape\n"
   ]
  },
  {
   "cell_type": "code",
   "execution_count": 137,
   "metadata": {},
   "outputs": [
    {
     "output_type": "execute_result",
     "data": {
      "text/plain": [
       "(5000, 25)"
      ]
     },
     "metadata": {},
     "execution_count": 137
    }
   ],
   "source": [
    "a1 = X2\n",
    "z2 = X2 * theta1.T\n",
    "z2.shape"
   ]
  },
  {
   "cell_type": "code",
   "execution_count": 138,
   "metadata": {},
   "outputs": [
    {
     "output_type": "execute_result",
     "data": {
      "text/plain": [
       "(5000, 25)"
      ]
     },
     "metadata": {},
     "execution_count": 138
    }
   ],
   "source": [
    "a2 = sigmoid(z2)\n",
    "a2.shape"
   ]
  },
  {
   "cell_type": "code",
   "execution_count": 139,
   "metadata": {},
   "outputs": [
    {
     "output_type": "execute_result",
     "data": {
      "text/plain": [
       "(5000, 10)"
      ]
     },
     "metadata": {},
     "execution_count": 139
    }
   ],
   "source": [
    "a2 = np.insert(a2,0,values = np.ones(a2.shape[0]),axis = 1)\n",
    "z3 = a2 * theta2.T\n",
    "z3.shape"
   ]
  },
  {
   "cell_type": "code",
   "execution_count": 140,
   "metadata": {},
   "outputs": [
    {
     "output_type": "execute_result",
     "data": {
      "text/plain": [
       "matrix([[1.12661530e-04, 1.74127856e-03, 2.52696959e-03, ...,\n",
       "         4.01468105e-04, 6.48072305e-03, 9.95734012e-01],\n",
       "        [4.79026796e-04, 2.41495958e-03, 3.44755685e-03, ...,\n",
       "         2.39107046e-03, 1.97025086e-03, 9.95696931e-01],\n",
       "        [8.85702310e-05, 3.24266731e-03, 2.55419797e-02, ...,\n",
       "         6.22892325e-02, 5.49803551e-03, 9.28008397e-01],\n",
       "        ...,\n",
       "        [5.17641791e-02, 3.81715020e-03, 2.96297510e-02, ...,\n",
       "         2.15667361e-03, 6.49826950e-01, 2.42384687e-05],\n",
       "        [8.30631310e-04, 6.22003774e-04, 3.14518512e-04, ...,\n",
       "         1.19366192e-02, 9.71410499e-01, 2.06173648e-04],\n",
       "        [4.81465717e-05, 4.58821829e-04, 2.15146201e-05, ...,\n",
       "         5.73434571e-03, 6.96288990e-01, 8.18576980e-02]])"
      ]
     },
     "metadata": {},
     "execution_count": 140
    }
   ],
   "source": [
    "a3 = sigmoid(z3)\n",
    "a3#(5000,10) 就是预测结果的列表"
   ]
  },
  {
   "cell_type": "code",
   "execution_count": 141,
   "metadata": {},
   "outputs": [
    {
     "output_type": "execute_result",
     "data": {
      "text/plain": [
       "(5000, 1)"
      ]
     },
     "metadata": {},
     "execution_count": 141
    }
   ],
   "source": [
    "y_pred2 = np.argmax(a3,axis=1) +1\n",
    "y_pred2.shape\n"
   ]
  },
  {
   "cell_type": "code",
   "execution_count": 160,
   "metadata": {},
   "outputs": [
    {
     "output_type": "stream",
     "name": "stdout",
     "text": [
      "              precision    recall  f1-score   support\n\n           1       0.97      0.98      0.98       500\n           2       0.98      0.97      0.98       500\n           3       0.98      0.96      0.97       500\n           4       0.97      0.97      0.97       500\n           5       0.97      0.98      0.98       500\n           6       0.98      0.99      0.98       500\n           7       0.98      0.97      0.97       500\n           8       0.98      0.98      0.98       500\n           9       0.97      0.96      0.96       500\n          10       0.98      0.99      0.99       500\n\n    accuracy                           0.98      5000\n   macro avg       0.98      0.98      0.98      5000\nweighted avg       0.98      0.98      0.98      5000\n\n"
     ]
    }
   ],
   "source": [
    "print(classification_report(data['y'],y_pred2))"
   ]
  },
  {
   "cell_type": "code",
   "execution_count": null,
   "metadata": {},
   "outputs": [],
   "source": []
  },
  {
   "cell_type": "code",
   "execution_count": null,
   "metadata": {},
   "outputs": [],
   "source": []
  },
  {
   "cell_type": "code",
   "execution_count": null,
   "metadata": {},
   "outputs": [],
   "source": []
  }
 ]
}